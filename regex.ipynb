{
 "cells": [
  {
   "cell_type": "code",
   "execution_count": 1,
   "metadata": {},
   "outputs": [],
   "source": [
    "import re #regular expression - allows pattern matching - create regex on regex101.com\n",
    "#Digits -> \\d"
   ]
  },
  {
   "cell_type": "code",
   "execution_count": 13,
   "metadata": {},
   "outputs": [],
   "source": [
    "chat1 = \"MyBot: You said your email was abcd@gmail.com and number 0711129832 or (011)-438-1901?\"\n",
    "chat2 = \"MyBot: Oh sorry, (254)-(723821408), xyxz@gmail.com: alternative - +254723821408, ryAn_*4478@gmail.org\" "
   ]
  },
  {
   "attachments": {},
   "cell_type": "markdown",
   "metadata": {},
   "source": [
    "\\(\\d{3}\\) -> match brackets since they have a specific meaning"
   ]
  },
  {
   "cell_type": "code",
   "execution_count": 15,
   "metadata": {},
   "outputs": [
    {
     "name": "stdout",
     "output_type": "stream",
     "text": [
      "['xyxz@gmail.com', 'ryAn_*4478@gmail.org']\n",
      "xyxz@gmail.com\n"
     ]
    }
   ],
   "source": [
    "#python regex expression \\(\\d{3}\\)-\\d{3}-\\d{4} - [+][2][5][4]\\d{9}\n",
    "pattern = \"[+][2][5][4]\\d{9}|\\(\\d{3}\\)-\\d{3}-\\d{4}|[0][7|1]\\d{8}|\\(\\d{3}\\)-\\(\\d{9}\\)\"\n",
    "pattern1 = \"[a-zA-Z|\\S|0-9|^@]*@[a-zA-Z|0-9]*\\.[a-zA-Z|.a-zA-Z.a-zA-Z]*\"\n",
    "match = re.findall(pattern1, chat2)\n",
    "print(match)\n",
    "email = match[0]\n",
    "print(email)"
   ]
  },
  {
   "cell_type": "code",
   "execution_count": 19,
   "metadata": {},
   "outputs": [],
   "source": [
    "chat4 = \"Hello, I have an issue with my order # 429017392\"\n",
    "chat5 = \"I have a problem with my order number 429017392\"\n",
    "chat6 = \"My order 429017392 has an issue. Iwas chared 250 when it said 180\""
   ]
  },
  {
   "attachments": {},
   "cell_type": "markdown",
   "metadata": {},
   "source": [
    "order[^\\d]*(\\d*) -> A match, but only what is in the brackets is returned"
   ]
  },
  {
   "cell_type": "code",
   "execution_count": 21,
   "metadata": {},
   "outputs": [
    {
     "name": "stdout",
     "output_type": "stream",
     "text": [
      "['429017392']\n"
     ]
    }
   ],
   "source": [
    "pattern2 = \"order[^\\d]*(\\d*)\"\n",
    "match = re.findall(pattern2, chat4)\n",
    "print(match)"
   ]
  },
  {
   "cell_type": "code",
   "execution_count": 22,
   "metadata": {},
   "outputs": [],
   "source": [
    "data = \"\"\"Born\tWilliam Henry Gates III\n",
    "October 28, 1955 (age 67)\n",
    "Seattle, Washington, U.S.\n",
    "Education\t\n",
    "Harvard University\n",
    "(dropped out)\n",
    "Occupations\t\n",
    "Businessmaninvestorphilanthropistprogrammerwriter\n",
    "Years active\t1972–present\n",
    "Known for\tCo-founder of Microsoft and Bill & Melinda Gates Foundation\n",
    "Title\t\n",
    "Partial list of founded and chaired companies\n",
    "Board member of\t\n",
    "Berkshire Hathaway\n",
    "Microsoft\n",
    "(former, both)\n",
    "Spouse\tMelinda French\n",
    "​\n",
    "​(m. 1994; div. 2021)​\n",
    "Children\t3\n",
    "Parents\t\n",
    "Bill Gates Sr. (father)\n",
    "Mary Maxwell (mother)\n",
    "Awards\t\n",
    "Knight Commander of the Order of the British Empire (2005)\n",
    "Padma Bhushan (2015)\n",
    "Presidential Medal of Freedom (2016)\n",
    "Hilal-e-Pakistan (2022)\n",
    "Website\tgatesnotes.com\"\"\""
   ]
  },
  {
   "cell_type": "code",
   "execution_count": 41,
   "metadata": {},
   "outputs": [],
   "source": [
    "data2 = \"\"\"Born\tElon Reeve Musk\n",
    "June 28, 1971 (age 51)\n",
    "Pretoria, Transvaal, South Africa\n",
    "Education\tUniversity of Pennsylvania (BA, BS)\n",
    "Title\t\n",
    "Founder, CEO and chief engineer of SpaceX\n",
    "CEO and product architect of Tesla, Inc.\n",
    "Owner, CTO and chairman of Twitter\n",
    "President of the Musk Foundation\n",
    "Founder of the Boring Company, X Corp. and X.AI\n",
    "Co-founder of Neuralink, OpenAI, Zip2 and X.com (part of PayPal)\n",
    "Spouses\t\n",
    "Justine Wilson\n",
    "​\n",
    "​(m. 2000; div. 2008)​\n",
    "Talulah Riley\n",
    "​\n",
    "​(m. 2010; div. 2012)​\n",
    "​\n",
    "​(m. 2013; div. 2016)​\n",
    "Partner\tGrimes (2018–2021)[1]\n",
    "Children\t10[a][3]\n",
    "Parents\t\n",
    "Errol Musk (father)\n",
    "Maye Musk (mother)\n",
    "Family\tMusk family\"\"\""
   ]
  },
  {
   "cell_type": "code",
   "execution_count": 24,
   "metadata": {},
   "outputs": [
    {
     "name": "stdout",
     "output_type": "stream",
     "text": [
      "['67']\n"
     ]
    }
   ],
   "source": [
    "pattern3 = \"\\(age (\\d+)\\)\"\n",
    "age = re.findall(pattern3, data)\n",
    "print(age)"
   ]
  },
  {
   "cell_type": "code",
   "execution_count": 25,
   "metadata": {},
   "outputs": [
    {
     "name": "stdout",
     "output_type": "stream",
     "text": [
      "['\\tWilliam Henry Gates III']\n",
      "William Henry Gates III\n"
     ]
    }
   ],
   "source": [
    "pattern4 = \"Born(.*)\\n\"\n",
    "name = re.findall(pattern4, data)\n",
    "print(name)\n",
    "#Remove whitespaces\n",
    "print(name[0].strip())"
   ]
  },
  {
   "cell_type": "code",
   "execution_count": 27,
   "metadata": {},
   "outputs": [
    {
     "name": "stdout",
     "output_type": "stream",
     "text": [
      "['October 28, 1955 ']\n",
      "October 28, 1955\n"
     ]
    }
   ],
   "source": [
    "pattern5 = \"Born.*\\n(.*)\\(age\"\n",
    "birthdate = re.findall(pattern5, data)\n",
    "print(birthdate)\n",
    "print(birthdate[0].strip())"
   ]
  },
  {
   "cell_type": "code",
   "execution_count": 28,
   "metadata": {},
   "outputs": [
    {
     "name": "stdout",
     "output_type": "stream",
     "text": [
      "['Seattle, Washington, U.S.']\n",
      "Seattle, Washington, U.S.\n"
     ]
    }
   ],
   "source": [
    "pattern6 = \"\\(age \\d+\\)\\n(.*)\\n\"\n",
    "birthplace = re.findall(pattern6, data)\n",
    "print(birthplace)\n",
    "print(birthplace[0].strip())"
   ]
  },
  {
   "attachments": {},
   "cell_type": "markdown",
   "metadata": {},
   "source": [
    "Create a function to get the pattern and text"
   ]
  },
  {
   "cell_type": "code",
   "execution_count": 31,
   "metadata": {},
   "outputs": [],
   "source": [
    "def get_pattern(pattern, text):\n",
    "    matches = re.findall(pattern, text)\n",
    "    new_matches = []\n",
    "    if matches:\n",
    "        for i in range(len(matches)):\n",
    "            new = matches[i].strip()\n",
    "            new_matches.append(new)\n",
    "        return new_matches[0]"
   ]
  },
  {
   "cell_type": "code",
   "execution_count": 32,
   "metadata": {},
   "outputs": [
    {
     "data": {
      "text/plain": [
       "'Seattle, Washington, U.S.'"
      ]
     },
     "execution_count": 32,
     "metadata": {},
     "output_type": "execute_result"
    }
   ],
   "source": [
    "get_pattern(\"\\(age \\d+\\)\\n(.*)\\n\", data)"
   ]
  },
  {
   "attachments": {},
   "cell_type": "markdown",
   "metadata": {},
   "source": [
    "Get all personal info"
   ]
  },
  {
   "cell_type": "code",
   "execution_count": 37,
   "metadata": {},
   "outputs": [],
   "source": [
    "def get_personal_details(text):\n",
    "    name = get_pattern(\"Born(.*)\\n\", text)\n",
    "    age = get_pattern(\"\\(age (\\d+)\\)\", text)\n",
    "    birthdate = get_pattern(\"Born.*\\n(.*)\\(age\", text)\n",
    "    birthplace = get_pattern(\"\\(age \\d+\\)\\n(.*)\\n\", text)\n",
    "\n",
    "    return {\n",
    "        \"Name\" : name.strip(),\n",
    "        'Age' : int(age),\n",
    "        \"Birth Date\" : birthdate.strip(),\n",
    "        \"Birth Place\" : birthplace.strip()\n",
    "    }"
   ]
  },
  {
   "cell_type": "code",
   "execution_count": 38,
   "metadata": {},
   "outputs": [
    {
     "data": {
      "text/plain": [
       "{'Name': 'William Henry Gates III',\n",
       " 'Age': 67,\n",
       " 'Birth Date': 'October 28, 1955',\n",
       " 'Birth Place': 'Seattle, Washington, U.S.'}"
      ]
     },
     "execution_count": 38,
     "metadata": {},
     "output_type": "execute_result"
    }
   ],
   "source": [
    "get_personal_details(data)"
   ]
  },
  {
   "cell_type": "code",
   "execution_count": 42,
   "metadata": {},
   "outputs": [
    {
     "data": {
      "text/plain": [
       "{'Name': 'Elon Reeve Musk',\n",
       " 'Age': 51,\n",
       " 'Birth Date': 'June 28, 1971',\n",
       " 'Birth Place': 'Pretoria, Transvaal, South Africa'}"
      ]
     },
     "execution_count": 42,
     "metadata": {},
     "output_type": "execute_result"
    }
   ],
   "source": [
    "get_personal_details(data2)"
   ]
  }
 ],
 "metadata": {
  "kernelspec": {
   "display_name": "Python 3",
   "language": "python",
   "name": "python3"
  },
  "language_info": {
   "codemirror_mode": {
    "name": "ipython",
    "version": 3
   },
   "file_extension": ".py",
   "mimetype": "text/x-python",
   "name": "python",
   "nbconvert_exporter": "python",
   "pygments_lexer": "ipython3",
   "version": "3.10.7"
  },
  "orig_nbformat": 4
 },
 "nbformat": 4,
 "nbformat_minor": 2
}
