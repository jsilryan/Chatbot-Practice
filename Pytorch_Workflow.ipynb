{
  "nbformat": 4,
  "nbformat_minor": 0,
  "metadata": {
    "colab": {
      "provenance": [],
      "gpuType": "T4",
      "authorship_tag": "ABX9TyPUunezJJQdsY88LzsSjoxY",
      "include_colab_link": true
    },
    "kernelspec": {
      "name": "python3",
      "display_name": "Python 3"
    },
    "language_info": {
      "name": "python"
    },
    "accelerator": "GPU"
  },
  "cells": [
    {
      "cell_type": "markdown",
      "metadata": {
        "id": "view-in-github",
        "colab_type": "text"
      },
      "source": [
        "<a href=\"https://colab.research.google.com/github/jsilryan/Deep-Learning-Practice/blob/master/Pytorch_Workflow.ipynb\" target=\"_parent\"><img src=\"https://colab.research.google.com/assets/colab-badge.svg\" alt=\"Open In Colab\"/></a>"
      ]
    },
    {
      "cell_type": "code",
      "execution_count": 88,
      "metadata": {
        "colab": {
          "base_uri": "https://localhost:8080/"
        },
        "id": "E54CewePHBfS",
        "outputId": "814781f9-20c3-44f0-e874-e8f4e84a6a52"
      },
      "outputs": [
        {
          "output_type": "execute_result",
          "data": {
            "text/plain": [
              "True"
            ]
          },
          "metadata": {},
          "execution_count": 88
        }
      ],
      "source": [
        "import torch\n",
        "torch.cuda.is_available()"
      ]
    },
    {
      "cell_type": "code",
      "source": [
        "# Setup device agnostic code -> https://pytorch.org/docs/1.0.1/notes/cuda.html\n",
        "device = \"cuda\" if torch.cuda.is_available() else \"cpu\"\n",
        "device"
      ],
      "metadata": {
        "colab": {
          "base_uri": "https://localhost:8080/",
          "height": 36
        },
        "id": "Vb1MreFIHm4V",
        "outputId": "0fa07c6b-3c22-4fd6-d4e3-d079bb7e353f"
      },
      "execution_count": 89,
      "outputs": [
        {
          "output_type": "execute_result",
          "data": {
            "text/plain": [
              "'cuda'"
            ],
            "application/vnd.google.colaboratory.intrinsic+json": {
              "type": "string"
            }
          },
          "metadata": {},
          "execution_count": 89
        }
      ]
    },
    {
      "cell_type": "code",
      "source": [
        "# Count number of devices\n",
        "torch.cuda.device_count()"
      ],
      "metadata": {
        "colab": {
          "base_uri": "https://localhost:8080/"
        },
        "id": "KDGO--T6H3nM",
        "outputId": "fb4180bb-b4c5-4ca0-efd9-7d2608991575"
      },
      "execution_count": 90,
      "outputs": [
        {
          "output_type": "execute_result",
          "data": {
            "text/plain": [
              "1"
            ]
          },
          "metadata": {},
          "execution_count": 90
        }
      ]
    },
    {
      "cell_type": "code",
      "source": [
        "!nvidia-smi"
      ],
      "metadata": {
        "colab": {
          "base_uri": "https://localhost:8080/"
        },
        "id": "eSoC2FhaMM0t",
        "outputId": "159a2417-ddfd-4540-a13e-d0ec2571cd92"
      },
      "execution_count": 91,
      "outputs": [
        {
          "output_type": "stream",
          "name": "stdout",
          "text": [
            "Tue Aug  8 19:41:53 2023       \n",
            "+-----------------------------------------------------------------------------+\n",
            "| NVIDIA-SMI 525.105.17   Driver Version: 525.105.17   CUDA Version: 12.0     |\n",
            "|-------------------------------+----------------------+----------------------+\n",
            "| GPU  Name        Persistence-M| Bus-Id        Disp.A | Volatile Uncorr. ECC |\n",
            "| Fan  Temp  Perf  Pwr:Usage/Cap|         Memory-Usage | GPU-Util  Compute M. |\n",
            "|                               |                      |               MIG M. |\n",
            "|===============================+======================+======================|\n",
            "|   0  Tesla T4            Off  | 00000000:00:04.0 Off |                    0 |\n",
            "| N/A   71C    P0    30W /  70W |    601MiB / 15360MiB |      0%      Default |\n",
            "|                               |                      |                  N/A |\n",
            "+-------------------------------+----------------------+----------------------+\n",
            "                                                                               \n",
            "+-----------------------------------------------------------------------------+\n",
            "| Processes:                                                                  |\n",
            "|  GPU   GI   CI        PID   Type   Process name                  GPU Memory |\n",
            "|        ID   ID                                                   Usage      |\n",
            "|=============================================================================|\n",
            "+-----------------------------------------------------------------------------+\n"
          ]
        }
      ]
    },
    {
      "cell_type": "markdown",
      "source": [
        "Put Tensors and Models on the GPU"
      ],
      "metadata": {
        "id": "bX1wxFC6NKF2"
      }
    },
    {
      "cell_type": "code",
      "source": [
        "#Create a tensor (default is on CPU)\n",
        "tensor = torch.tensor([1,2,3], device = \"cpu\")\n",
        "print(tensor, tensor.device)"
      ],
      "metadata": {
        "colab": {
          "base_uri": "https://localhost:8080/"
        },
        "id": "r5QJXLqZNI5o",
        "outputId": "7f75744f-8a57-4bfa-a279-4f3a41dbbcb8"
      },
      "execution_count": 92,
      "outputs": [
        {
          "output_type": "stream",
          "name": "stdout",
          "text": [
            "tensor([1, 2, 3]) cpu\n"
          ]
        }
      ]
    },
    {
      "cell_type": "code",
      "source": [
        "#Move to GPU if available\n",
        "tensor_on_gpu = tensor.to(device)\n",
        "tensor_on_gpu"
      ],
      "metadata": {
        "colab": {
          "base_uri": "https://localhost:8080/"
        },
        "id": "vsOUf6J6N1MN",
        "outputId": "a253572d-d811-4f32-9e08-8c8e102e5a72"
      },
      "execution_count": 93,
      "outputs": [
        {
          "output_type": "execute_result",
          "data": {
            "text/plain": [
              "tensor([1, 2, 3], device='cuda:0')"
            ]
          },
          "metadata": {},
          "execution_count": 93
        }
      ]
    },
    {
      "cell_type": "markdown",
      "source": [
        "### Move tensors back to CPU"
      ],
      "metadata": {
        "id": "hu_iMSafQTKH"
      }
    },
    {
      "cell_type": "code",
      "source": [
        "# Can't transform a tensor to NumPy if on GPU\n",
        "# tensor_on_gpu.numpy()\n",
        "# Forst set it to CPU\n",
        "tensor_on_cpu = tensor_on_gpu.cpu().numpy()\n",
        "tensor_on_cpu"
      ],
      "metadata": {
        "colab": {
          "base_uri": "https://localhost:8080/"
        },
        "id": "ns5mDNPBQV_u",
        "outputId": "9a59a944-f05f-4319-c79b-42b8c2bb7755"
      },
      "execution_count": 94,
      "outputs": [
        {
          "output_type": "execute_result",
          "data": {
            "text/plain": [
              "array([1, 2, 3])"
            ]
          },
          "metadata": {},
          "execution_count": 94
        }
      ]
    },
    {
      "cell_type": "code",
      "source": [
        "new_tensor = torch.rand(7,7)\n",
        "new_tensor"
      ],
      "metadata": {
        "colab": {
          "base_uri": "https://localhost:8080/"
        },
        "id": "hCuVtxp8Rt-G",
        "outputId": "9d35696a-6855-41b0-8d58-686e88feff53"
      },
      "execution_count": 95,
      "outputs": [
        {
          "output_type": "execute_result",
          "data": {
            "text/plain": [
              "tensor([[0.3829, 0.9593, 0.3904, 0.6009, 0.2566, 0.7936, 0.9408],\n",
              "        [0.1332, 0.9346, 0.5936, 0.8694, 0.5677, 0.7411, 0.4294],\n",
              "        [0.8854, 0.5739, 0.2666, 0.6274, 0.2696, 0.4414, 0.2969],\n",
              "        [0.8317, 0.1053, 0.2695, 0.3588, 0.1994, 0.5472, 0.0062],\n",
              "        [0.9516, 0.0753, 0.8860, 0.5832, 0.3376, 0.8090, 0.5779],\n",
              "        [0.9040, 0.5547, 0.3423, 0.6343, 0.3644, 0.7104, 0.9464],\n",
              "        [0.7890, 0.2814, 0.7886, 0.5895, 0.7539, 0.1952, 0.0050]])"
            ]
          },
          "metadata": {},
          "execution_count": 95
        }
      ]
    },
    {
      "cell_type": "markdown",
      "source": [
        "Exercise:\n",
        "1. Read Torch.tensor, torch.cuda"
      ],
      "metadata": {
        "id": "nKa8i14fStMg"
      }
    },
    {
      "cell_type": "code",
      "source": [
        "new_tensor1 = torch.rand(1,7)\n",
        "new_tensor1"
      ],
      "metadata": {
        "colab": {
          "base_uri": "https://localhost:8080/"
        },
        "id": "n1MCKqGlSuz2",
        "outputId": "1ebc6b0b-5bb3-4593-8451-12ec791d5fe0"
      },
      "execution_count": 96,
      "outputs": [
        {
          "output_type": "execute_result",
          "data": {
            "text/plain": [
              "tensor([[0.3068, 0.1165, 0.9103, 0.6440, 0.7071, 0.6581, 0.4913]])"
            ]
          },
          "metadata": {},
          "execution_count": 96
        }
      ]
    },
    {
      "cell_type": "code",
      "source": [
        "new_tensor1.T # Transposing it"
      ],
      "metadata": {
        "colab": {
          "base_uri": "https://localhost:8080/"
        },
        "id": "RAMQr8J_UKd0",
        "outputId": "ea2d6dcb-a900-4fb1-d8b4-e69f1518f06d"
      },
      "execution_count": 97,
      "outputs": [
        {
          "output_type": "execute_result",
          "data": {
            "text/plain": [
              "tensor([[0.3068],\n",
              "        [0.1165],\n",
              "        [0.9103],\n",
              "        [0.6440],\n",
              "        [0.7071],\n",
              "        [0.6581],\n",
              "        [0.4913]])"
            ]
          },
          "metadata": {},
          "execution_count": 97
        }
      ]
    },
    {
      "cell_type": "code",
      "source": [
        "torch.matmul(new_tensor, new_tensor1.T)"
      ],
      "metadata": {
        "colab": {
          "base_uri": "https://localhost:8080/"
        },
        "id": "P1pVwMr1UN_t",
        "outputId": "fd10a15a-6536-4abb-96e5-c24138cd0f3d"
      },
      "execution_count": 98,
      "outputs": [
        {
          "output_type": "execute_result",
          "data": {
            "text/plain": [
              "tensor([[2.1376],\n",
              "        [2.3501],\n",
              "        [1.6123],\n",
              "        [1.2480],\n",
              "        [2.5379],\n",
              "        [2.2523],\n",
              "        [2.0364]])"
            ]
          },
          "metadata": {},
          "execution_count": 98
        }
      ]
    },
    {
      "cell_type": "code",
      "source": [
        "seed = 0\n",
        "torch.manual_seed(seed)\n",
        "new_tensor2 = torch.rand(7,7)\n",
        "print(new_tensor2)\n",
        "torch.manual_seed(seed)\n",
        "nt_3 = torch.rand(1,7)\n",
        "nt_3T = nt_3.T\n",
        "print(nt_3, \"\\n\", nt_3T)\n",
        "nt_4 = torch.matmul(new_tensor2, nt_3T)\n",
        "print(nt_4)"
      ],
      "metadata": {
        "colab": {
          "base_uri": "https://localhost:8080/"
        },
        "id": "vFV5j5_JUXLr",
        "outputId": "d7537a0d-2e7e-40ac-e8cc-d100c1d894e0"
      },
      "execution_count": 99,
      "outputs": [
        {
          "output_type": "stream",
          "name": "stdout",
          "text": [
            "tensor([[0.4963, 0.7682, 0.0885, 0.1320, 0.3074, 0.6341, 0.4901],\n",
            "        [0.8964, 0.4556, 0.6323, 0.3489, 0.4017, 0.0223, 0.1689],\n",
            "        [0.2939, 0.5185, 0.6977, 0.8000, 0.1610, 0.2823, 0.6816],\n",
            "        [0.9152, 0.3971, 0.8742, 0.4194, 0.5529, 0.9527, 0.0362],\n",
            "        [0.1852, 0.3734, 0.3051, 0.9320, 0.1759, 0.2698, 0.1507],\n",
            "        [0.0317, 0.2081, 0.9298, 0.7231, 0.7423, 0.5263, 0.2437],\n",
            "        [0.5846, 0.0332, 0.1387, 0.2422, 0.8155, 0.7932, 0.2783]])\n",
            "tensor([[0.4963, 0.7682, 0.0885, 0.1320, 0.3074, 0.6341, 0.4901]]) \n",
            " tensor([[0.4963],\n",
            "        [0.7682],\n",
            "        [0.0885],\n",
            "        [0.1320],\n",
            "        [0.3074],\n",
            "        [0.6341],\n",
            "        [0.4901]])\n",
            "tensor([[1.5985],\n",
            "        [1.1173],\n",
            "        [1.2741],\n",
            "        [1.6838],\n",
            "        [0.8279],\n",
            "        [1.0347],\n",
            "        [1.2498]])\n"
          ]
        }
      ]
    },
    {
      "cell_type": "code",
      "source": [
        "#Manual seed for cuda\n",
        "new_seed = 1234\n",
        "torch.manual_seed(new_seed)\n",
        "nt_5 = torch.rand(2,3)\n",
        "print(nt_5, \"\\n\")\n",
        "torch.manual_seed(new_seed)\n",
        "nt_6 = torch.rand(2,3)\n",
        "print(nt_6)\n",
        "nt_7 = nt_6.T\n",
        "nt_8 = torch.matmul(nt_5, nt_7)\n",
        "print(nt_8)\n"
      ],
      "metadata": {
        "colab": {
          "base_uri": "https://localhost:8080/"
        },
        "id": "vdwyNTIiaDfc",
        "outputId": "e481b8d8-7f95-4cb2-f1b8-442dea0b200d"
      },
      "execution_count": 100,
      "outputs": [
        {
          "output_type": "stream",
          "name": "stdout",
          "text": [
            "tensor([[0.0290, 0.4019, 0.2598],\n",
            "        [0.3666, 0.0583, 0.7006]]) \n",
            "\n",
            "tensor([[0.0290, 0.4019, 0.2598],\n",
            "        [0.3666, 0.0583, 0.7006]])\n",
            "tensor([[0.2299, 0.2161],\n",
            "        [0.2161, 0.6287]])\n"
          ]
        }
      ]
    },
    {
      "cell_type": "code",
      "source": [
        "print(nt_8.min(), nt_8.max())\n",
        "print(nt_8.argmin(), nt_8.argmax())"
      ],
      "metadata": {
        "colab": {
          "base_uri": "https://localhost:8080/"
        },
        "id": "xpG2N8BtbJy1",
        "outputId": "76c8cd82-0bb5-4d21-ab8c-afa3cd4b116a"
      },
      "execution_count": 101,
      "outputs": [
        {
          "output_type": "stream",
          "name": "stdout",
          "text": [
            "tensor(0.2161) tensor(0.6287)\n",
            "tensor(1) tensor(3)\n"
          ]
        }
      ]
    },
    {
      "cell_type": "code",
      "source": [
        "seed = 7\n",
        "torch.manual_seed(seed)\n",
        "nt_9 = torch.rand(1,1,1,10)\n",
        "torch.manual_seed(seed)\n",
        "nt_10 = nt_9.squeeze() #removes dimensions with size 1\n",
        "print(nt_9, nt_9.shape) # or .size()\n",
        "print(nt_10, nt_10.shape)\n"
      ],
      "metadata": {
        "colab": {
          "base_uri": "https://localhost:8080/"
        },
        "id": "_epLC9ohb7wF",
        "outputId": "7cab5a74-857f-4af1-d238-76c0053c5e3f"
      },
      "execution_count": 102,
      "outputs": [
        {
          "output_type": "stream",
          "name": "stdout",
          "text": [
            "tensor([[[[0.5349, 0.1988, 0.6592, 0.6569, 0.2328, 0.4251, 0.2071, 0.6297,\n",
            "           0.3653, 0.8513]]]]) torch.Size([1, 1, 1, 10])\n",
            "tensor([0.5349, 0.1988, 0.6592, 0.6569, 0.2328, 0.4251, 0.2071, 0.6297, 0.3653,\n",
            "        0.8513]) torch.Size([10])\n"
          ]
        }
      ]
    },
    {
      "cell_type": "markdown",
      "source": [
        "### Pytorch Workflow\n",
        "1. Get Data Ready -> Prepare and load data\n",
        "2. Build or pick a pretrained model to suit my problem -> Pick a loss function and optimizer -> Build a training loop\n",
        "3. Fit the model to data and make a prediction\n",
        "4. Evaluate the model -> Make predictions\n",
        "5. Improve through experimentation\n",
        "6. Save and reload the model"
      ],
      "metadata": {
        "id": "RDc2OMbEe34g"
      }
    },
    {
      "cell_type": "markdown",
      "source": [],
      "metadata": {
        "id": "1X32a22s54tU"
      }
    },
    {
      "cell_type": "code",
      "source": [
        "import torch\n",
        "from torch import nn #Has all basic buildig blocks for graphs -> Basic neural network\n",
        "import matplotlib.pyplot as plt\n",
        "\n",
        "#pytorch version\n",
        "torch.__version__"
      ],
      "metadata": {
        "colab": {
          "base_uri": "https://localhost:8080/",
          "height": 36
        },
        "id": "wYVYQld0eywI",
        "outputId": "6dcf036f-0d71-4d7d-c8d4-c91f0f20a8f2"
      },
      "execution_count": 103,
      "outputs": [
        {
          "output_type": "execute_result",
          "data": {
            "text/plain": [
              "'2.0.1+cu118'"
            ],
            "application/vnd.google.colaboratory.intrinsic+json": {
              "type": "string"
            }
          },
          "metadata": {},
          "execution_count": 103
        }
      ]
    },
    {
      "cell_type": "markdown",
      "source": [
        "## 1. Data (preparing and loading)\n",
        "\n",
        "* Excel spreadsheet\n",
        "* Images of any kind\n",
        "* Videos\n",
        "* Audio\n",
        "* DNA\n",
        "* Text\n",
        "\n",
        "ML is a game of 2 parts:\n",
        "1. Get data into a numerical representation\n",
        "2. Build a model to learn patterns in that numerical representation\n",
        "\n",
        "Linear Regression Formula:\n",
        "* Y = mX + C\n",
        "* Make a straight line with known parameters"
      ],
      "metadata": {
        "id": "W6cTIeH3uyJh"
      }
    },
    {
      "cell_type": "code",
      "source": [
        "#Known Parameters\n",
        "weight = 0.7 # m\n",
        "bias = 0.3 # C\n",
        "\n",
        "#Create data\n",
        "start = 0\n",
        "end = 1\n",
        "step = 0.02\n",
        "X = torch.arange(start, end, step).unsqueeze(dim=1) # Capital - Matrix or tensor -> Unsqueeze adds an extra dimension to the first dimension\n",
        "y = weight * X + bias# Lowercase - Vector\n",
        "X[:10], y[:10]"
      ],
      "metadata": {
        "id": "7F-ABXFXup4v",
        "colab": {
          "base_uri": "https://localhost:8080/"
        },
        "outputId": "26ae68a6-9574-4e09-8a7f-f2293a11d06b"
      },
      "execution_count": 104,
      "outputs": [
        {
          "output_type": "execute_result",
          "data": {
            "text/plain": [
              "(tensor([[0.0000],\n",
              "         [0.0200],\n",
              "         [0.0400],\n",
              "         [0.0600],\n",
              "         [0.0800],\n",
              "         [0.1000],\n",
              "         [0.1200],\n",
              "         [0.1400],\n",
              "         [0.1600],\n",
              "         [0.1800]]),\n",
              " tensor([[0.3000],\n",
              "         [0.3140],\n",
              "         [0.3280],\n",
              "         [0.3420],\n",
              "         [0.3560],\n",
              "         [0.3700],\n",
              "         [0.3840],\n",
              "         [0.3980],\n",
              "         [0.4120],\n",
              "         [0.4260]]))"
            ]
          },
          "metadata": {},
          "execution_count": 104
        }
      ]
    },
    {
      "cell_type": "code",
      "source": [
        "len(X), len(y)\n",
        "#I want to learn the representaion of my input and how it maps to the output"
      ],
      "metadata": {
        "colab": {
          "base_uri": "https://localhost:8080/"
        },
        "id": "IqhuRI2nDzS6",
        "outputId": "9173d351-2730-48cd-abb3-dda1656e2f30"
      },
      "execution_count": 105,
      "outputs": [
        {
          "output_type": "execute_result",
          "data": {
            "text/plain": [
              "(50, 50)"
            ]
          },
          "metadata": {},
          "execution_count": 105
        }
      ]
    },
    {
      "cell_type": "markdown",
      "source": [
        "### Split data to training and testing\n",
        "Helps in generalization -> ability for a machine to perform well on data it hasn't seen before.\n",
        "Course Material (training set -> 60-80%)\n",
        "Practice exam (validation set -> 10-20%)\n",
        "Final exam (test set -> 10-20%)\n",
        "\n",
        "Scikit learn's train test split"
      ],
      "metadata": {
        "id": "yabrp7bkEXH0"
      }
    },
    {
      "cell_type": "code",
      "source": [
        "#Create a train/test split\n",
        "train_split = int(0.8 * len(X))\n",
        "X_train, y_train = X[:train_split], y[:train_split]\n",
        "X_test, y_test = X[train_split:], y[train_split:]\n",
        "\n",
        "len(X_train), len(y_train), len(X_test), len(y_test)"
      ],
      "metadata": {
        "colab": {
          "base_uri": "https://localhost:8080/"
        },
        "id": "Fv6UYoaaFPcT",
        "outputId": "faae1225-d485-4c51-e573-416e82ed146c"
      },
      "execution_count": 106,
      "outputs": [
        {
          "output_type": "execute_result",
          "data": {
            "text/plain": [
              "(40, 40, 10, 10)"
            ]
          },
          "metadata": {},
          "execution_count": 106
        }
      ]
    },
    {
      "cell_type": "markdown",
      "source": [
        "Visualize"
      ],
      "metadata": {
        "id": "UMTmjAxKHZNn"
      }
    },
    {
      "cell_type": "code",
      "source": [
        "def plot_predictions(train_data = X_train,\n",
        "                     train_labels=y_train,\n",
        "                     test_data=X_test,\n",
        "                     test_labels=y_test,\n",
        "                     predictions=None\n",
        "                     ):\n",
        "  \"\"\"\n",
        "  Plots training data, test data and compares predictions\n",
        "  \"\"\"\n",
        "  plt.figure(figsize=(10,7))\n",
        "\n",
        "  #Plot training data in blue\n",
        "  plt.scatter(train_data, train_labels, c=\"b\", s=5, label=\"Training data\")\n",
        "\n",
        "  # Plot test data in green\n",
        "  plt.scatter(test_data, test_labels, c=\"g\", s=10, label=\"Testing data\")\n",
        "\n",
        "  #Predictions\n",
        "  if predictions is not None:\n",
        "    # Plot predictions if they exist\n",
        "    plt.scatter(test_data, predictions, c=\"r\", s=15, label=\"Predictions\")\n",
        "\n",
        "  # Show legend\n",
        "  plt.legend(prop={\"size\": 14})"
      ],
      "metadata": {
        "id": "CfG836ETHNrm"
      },
      "execution_count": 107,
      "outputs": []
    },
    {
      "cell_type": "code",
      "source": [
        "plot_predictions()"
      ],
      "metadata": {
        "colab": {
          "base_uri": "https://localhost:8080/",
          "height": 472
        },
        "id": "h2J-V9ohKSf0",
        "outputId": "d36bc4e5-0b38-4391-93b6-21205168c910"
      },
      "execution_count": 108,
      "outputs": [
        {
          "output_type": "display_data",
          "data": {
            "text/plain": [
              "<Figure size 1000x700 with 1 Axes>"
            ],
            "image/png": "[encoded data removed]"
          },
          "metadata": {}
        }
      ]
    },
    {
      "cell_type": "markdown",
      "source": [
        "## Model\n",
        "OOP in python -> Real Python\n",
        "\n",
        "The model runs the random weight and bias values through the forward calculation and adjusts the weight and bias to represent as close as possible if not perfect, the known params.\n",
        "\n",
        "What it does:\n",
        "* Start with random values (weight and bias)\n",
        "* Look at the training data and adjust the random values to better represent (or get closer to) the ideal values (weight and bias we used to create the data).\n",
        "\n",
        "How it does so:\n",
        "1. Gradient descent -> requires-grad=True -> keeps track of the weights and bias parameters and updates them using a combination of the 2\n",
        "2. Back propagation"
      ],
      "metadata": {
        "id": "hnLj__8JLyaY"
      }
    },
    {
      "cell_type": "code",
      "source": [
        "# Linear Regression model class\n",
        "class LinearRegressionModel(nn.Module): #<-Inherit almost everything on Pytorch - Base class for all neural network modules\n",
        "  def __init__(self): #Constructor\n",
        "    super().__init__()\n",
        "    #Initialize model parameters\n",
        "    self.weights = nn.Parameter(torch.randn(1,\n",
        "                                            requires_grad=True,\n",
        "                                            dtype=torch.float32))\n",
        "    self.bias = nn.Parameter(torch.randn(1,\n",
        "                                         requires_grad=True,\n",
        "                                         dtype=torch.float))\n",
        "\n",
        "  #Forward method to define the computation in model\n",
        "  def forward(self, x: torch.Tensor) -> torch.Tensor: #x is the input data\n",
        "    return self.weights * x +  self.bias\n",
        "\n",
        "# nn.Module - building blocks of neural network\n",
        "# requires.grad = True -> Pytorch will track the gradients of the specific parameter for use with  torch.autograd and gradienet descent.\n",
        "# Any nn.Module subclass requires a forward method -> Defines the computation defined at every call -> Override"
      ],
      "metadata": {
        "id": "dGSvuUsJL3Ob"
      },
      "execution_count": 109,
      "outputs": []
    },
    {
      "cell_type": "markdown",
      "source": [
        "## Pytorch model building essentials\n",
        "\n",
        "* torch.nn - all buildings for computational graphs (a neural network is a computational graph)\n",
        "* nn.Parameter - what parameters should our model try and learn, often a pytorch layer from torch.nn will set it up\n",
        "* torch.nn.Module - base class for all NN modules, if you subclass, overwrite forward\n",
        "* torch.optim - optimizers in Pytorch. Help with gradient descent - Instead of being random, get values that better represent the data.\n",
        "* def forward() - All nn.Module subclasses require me to overwrite forward. Defines what happens in forward computation\n",
        "* torch.utils.data.Dataset -> Represents a map between key(label) and sample (features) pairs of your data eg images and their associated labels.\n",
        "* torch.utils.data.DataLoader -> Creates a Python iterable over a torch Dataset (iterate over my data)\n",
        "* torchvision.transforms, torchvision.models\n",
        "* Evaluate - torchmetrics\n",
        "* Improve via experimentation - torch.utils.tensorboard\n",
        "* Pytorch cheat sheet -> `https://pytorch.org/tutorials/beginner/ptcheat.html`\n",
        "\n",
        "Check  our model parameters using `.parameters`"
      ],
      "metadata": {
        "id": "3b9IfjhYVLkm"
      }
    },
    {
      "cell_type": "code",
      "source": [
        "# Create random seed to avoid getting different values every time\n",
        "torch.manual_seed(2)\n",
        "\n",
        "# Create an instance of the model\n",
        "model_0 = LinearRegressionModel()\n",
        "\n",
        "#Check parameters\n",
        "list(model_0.parameters())"
      ],
      "metadata": {
        "colab": {
          "base_uri": "https://localhost:8080/"
        },
        "id": "yghLiGbsY0wc",
        "outputId": "502202fa-9a0d-4f16-9bc7-cd3fdc836bb2"
      },
      "execution_count": 110,
      "outputs": [
        {
          "output_type": "execute_result",
          "data": {
            "text/plain": [
              "[Parameter containing:\n",
              " tensor([0.3923], requires_grad=True),\n",
              " Parameter containing:\n",
              " tensor([-0.2236], requires_grad=True)]"
            ]
          },
          "metadata": {},
          "execution_count": 110
        }
      ]
    },
    {
      "cell_type": "code",
      "source": [
        "# List named parameters: Get the model's random weight and bias to get as close as possible to the ideal values\n",
        "print(model_0.state_dict())\n",
        "print(weight, bias)"
      ],
      "metadata": {
        "colab": {
          "base_uri": "https://localhost:8080/"
        },
        "id": "Lxz7IhwbZCuV",
        "outputId": "ef9e3423-dc65-42a7-ead5-b7dc4ad805d0"
      },
      "execution_count": 111,
      "outputs": [
        {
          "output_type": "stream",
          "name": "stdout",
          "text": [
            "OrderedDict([('weights', tensor([0.3923])), ('bias', tensor([-0.2236]))])\n",
            "0.7 0.3\n"
          ]
        }
      ]
    },
    {
      "cell_type": "code",
      "source": [
        "print(\"Ideal situation:\\n\")\n",
        "print(\"X_test : \", X_test)\n",
        "print(\"\\ny_test : \", y_test)"
      ],
      "metadata": {
        "colab": {
          "base_uri": "https://localhost:8080/"
        },
        "id": "76d9XOt6bffM",
        "outputId": "aeca5a8a-ecab-4892-92f0-49c15cdce893"
      },
      "execution_count": 112,
      "outputs": [
        {
          "output_type": "stream",
          "name": "stdout",
          "text": [
            "Ideal situation:\n",
            "\n",
            "X_test :  tensor([[0.8000],\n",
            "        [0.8200],\n",
            "        [0.8400],\n",
            "        [0.8600],\n",
            "        [0.8800],\n",
            "        [0.9000],\n",
            "        [0.9200],\n",
            "        [0.9400],\n",
            "        [0.9600],\n",
            "        [0.9800]])\n",
            "\n",
            "y_test :  tensor([[0.8600],\n",
            "        [0.8740],\n",
            "        [0.8880],\n",
            "        [0.9020],\n",
            "        [0.9160],\n",
            "        [0.9300],\n",
            "        [0.9440],\n",
            "        [0.9580],\n",
            "        [0.9720],\n",
            "        [0.9860]])\n"
          ]
        }
      ]
    },
    {
      "cell_type": "markdown",
      "source": [
        "### Make predictions with `torch.inference_mode()`\n",
        "\n",
        "To check model's predictive power, check how well it predicts 'y_test' based on 'X_test'\n",
        "\n",
        "Data passed through the model runs through the `forward()` method.\n",
        "\n",
        "Settings -> Editor = set line numbers, indentation guides\n",
        "\n",
        "Not Implemented error -> align def functions"
      ],
      "metadata": {
        "id": "_DuzASRrasMN"
      }
    },
    {
      "cell_type": "code",
      "source": [
        "# Make predictions\n",
        "with torch.inference_mode(): # Context-manager for making predictions. Inference mode removes the gradient tracking -> We aren't training hence no need to keep track of how we update the model. Pytorch keeps track of smaller data\n",
        "  # Does what torch.no_grad(): does\n",
        "  # y_preds = model_0(X_test) works too, but puts the grad func\n",
        "  y_preds = model_0(X_test)\n",
        "\n",
        "y_preds"
      ],
      "metadata": {
        "colab": {
          "base_uri": "https://localhost:8080/"
        },
        "id": "ZvLKCdiDbLqZ",
        "outputId": "cb2b8ba4-adc5-41e9-adf6-b2e105f0e628"
      },
      "execution_count": 113,
      "outputs": [
        {
          "output_type": "execute_result",
          "data": {
            "text/plain": [
              "tensor([[0.0903],\n",
              "        [0.0981],\n",
              "        [0.1060],\n",
              "        [0.1138],\n",
              "        [0.1217],\n",
              "        [0.1295],\n",
              "        [0.1373],\n",
              "        [0.1452],\n",
              "        [0.1530],\n",
              "        [0.1609]])"
            ]
          },
          "metadata": {},
          "execution_count": 113
        }
      ]
    },
    {
      "cell_type": "code",
      "source": [
        "plot_predictions(predictions=y_preds)"
      ],
      "metadata": {
        "colab": {
          "base_uri": "https://localhost:8080/",
          "height": 472
        },
        "id": "exrYutSFdAYQ",
        "outputId": "8b9d4aa4-1ef6-4ba1-a073-41a9bad4e25d"
      },
      "execution_count": 114,
      "outputs": [
        {
          "output_type": "display_data",
          "data": {
            "text/plain": [
              "<Figure size 1000x700 with 1 Axes>"
            ],
            "image/png": "[encoded data removed]"
          },
          "metadata": {}
        }
      ]
    },
    {
      "cell_type": "markdown",
      "source": [
        "## 3. Train Model\n",
        "\n",
        "Train a model to move from some unknown parameters (could be random)to some known parameter\n",
        "\n",
        "From a poor representation of data to a better representation of the data\n",
        "\n",
        "Measure how poorly the model predictions are by using a loss function (cost function or criterion).\n",
        "\n",
        "What I need to train:\n",
        "\n",
        "* **Loss function:** A function to measure how wrong your model's predictions are to the ideal outputs, lower is better.\n",
        "`https://pytorch.org/docs/stable/nn.html#loss-functions`\n",
        "* **Optimizer:** Takes into account the loss of a model and adjusts the model's parameters (eg weight & bias) to improve the loss function.\n",
        "`https://pytorch.org/docs/stable/optim.html`\n",
        "\n",
        "Pytorch:\n",
        "* A training loop\n",
        "* A testing loop\n",
        "\n",
        "L1loss -> Mean absolute error\n",
        "MSELoss -> Creates a criterion that measures the mean squared error (squared L2 norm) between each element in the input x and target y.\n",
        "`https://pytorch.org/docs/stable/generated/torch.nn.L1Loss.html#torch.nn.L1Loss`\n",
        "\n",
        "MAE_loss = torch.mean(torch.abs(y_pred-y_test)) or\n",
        "\n",
        "MAE_Loss = torch.nn.L1Loss"
      ],
      "metadata": {
        "id": "G_qVO-TZes6H"
      }
    },
    {
      "cell_type": "code",
      "source": [
        "# Setup a loss function\n",
        "loss_fn = nn.L1Loss()\n",
        "\n",
        "# Setup an optimizer\n",
        "optimizer = torch.optim.SGD(params=model_0.parameters(), #params -> model parameters I want to optimize\n",
        "                            lr = 0.01) #lr = Learning Rate => Hyperparameter I set myself - how big or small the optimizer adjusts the params\n",
        "# Higher learning rate, higher it adjusts the parameters per hit and vice versa\n",
        "# Classification problem eg cat or dog, I'll most likely use a nn.BCELoss -> binary cross entropy"
      ],
      "metadata": {
        "id": "tklWz1DPhaZl"
      },
      "execution_count": 115,
      "outputs": []
    },
    {
      "cell_type": "markdown",
      "source": [
        "### Build a training (and testing) loop in pytorch\n",
        "\n",
        "Needs in a training loop:\n",
        "1. Loop through the data\n",
        "2. Forward pass / propagation - data moves through the model's forward() function(s) to make predictions on data -> move from input to output\n",
        "3. Calculate the loss - compare forward pass predictions to ground truth labels\n",
        "4. Optimizer zero grad\n",
        "5. Loss backward - moves backwards through the network to calculate the gradients of each of the parameters of our model with respect to loss -> **back propagation**\n",
        "6. Optimizer step - use the model's parameters to try and improve the loss -> **gradient descent**\n",
        "\n",
        "Gradient - derivative of a function that has more than 1 input variable\n"
      ],
      "metadata": {
        "id": "B-QInKU7_ykp"
      }
    },
    {
      "cell_type": "code",
      "source": [
        "torch.manual_seed(2)\n",
        "# Epoch - one loop through the data -> hyperparameter since I've set it myself\n",
        "epochs = 400\n",
        "# requires_grad = true -> track the gradients of each of the parameter and get where the lowest point / gradient is\n",
        "# Head in the opposite direction of the gradient to get to a gradient value of 0, and if it's 0, the loss function is also 0\n",
        "# Torch.autograd ->\n",
        "# Learning rate scheduling -> maybe start with big steps, and as we come closer to the bottom reduce their sizes\n",
        "\n",
        "# Track different values -> compare different experiments\n",
        "epoch_count = []\n",
        "loss_values = []\n",
        "test_loss_values = []\n",
        "\n",
        "# 1. Loop through the data\n",
        "for epoch in range(epochs):\n",
        "  #Set the model to training mode - default\n",
        "  model_0.train() # Sets all parameters that require gradients to require gradients\n",
        "\n",
        "  # 2. Forward pass\n",
        "  y_pred = model_0(X_train)\n",
        "\n",
        "  # 3. Calculate Loss -> predictions(input), labels(target / true values)\n",
        "  loss = loss_fn(y_pred, y_train)\n",
        "\n",
        "  # 4. Optimizer Zero Grad\n",
        "  optimizer.zero_grad()\n",
        "\n",
        "  # 5. Backpropagation on the loss with respect to parameters of the model\n",
        "  loss.backward()\n",
        "\n",
        "  # 6. Step the optimizer -> Gradient Descent\n",
        "  optimizer.step() # By default how the optimizer changes will accumulate through the loop so... I have to zero them above in step 3 for the next loop's iteration\n",
        "\n",
        "  # Testing\n",
        "  model_0.eval() # Turns off different settings in the model not needed for evaluation/testing (dropout, batch norm layers)\n",
        "  with torch.inference_mode(): # Turns off gradient tracking -> Makes it faster\n",
        "  #with torch.no_grad(): -> Older code\n",
        "    # 1. Forward pass\n",
        "    test_pred = model_0(X_test)\n",
        "\n",
        "    # 2. Calculate the loss\n",
        "    test_loss = loss_fn(test_pred, y_test) # Trains on training data, tests on test data\n",
        "\n",
        "  #Print what's happening\n",
        "  if epoch % 10 == 0:\n",
        "    epoch_count.append(epoch)\n",
        "    loss_values.append(loss)\n",
        "    test_loss_values.append(test_loss)\n",
        "    print(f\"Epoch: {epoch} | Loss: {loss} |Test Loss: {test_loss}\")\n",
        "    # Print model.state_dict()\n",
        "    print(model_0.state_dict())"
      ],
      "metadata": {
        "colab": {
          "base_uri": "https://localhost:8080/"
        },
        "id": "i82f52yrAh9E",
        "outputId": "c668f656-dc73-405a-c5a6-702f015d8c57"
      },
      "execution_count": 116,
      "outputs": [
        {
          "output_type": "stream",
          "name": "stdout",
          "text": [
            "Epoch: 0 | Loss: 0.6435682773590088 |Test Loss: 0.7839487791061401\n",
            "OrderedDict([('weights', tensor([0.3962])), ('bias', tensor([-0.2136]))])\n",
            "Epoch: 10 | Loss: 0.5283582806587219 |Test Loss: 0.6492388844490051\n",
            "OrderedDict([('weights', tensor([0.4352])), ('bias', tensor([-0.1136]))])\n",
            "Epoch: 20 | Loss: 0.41314831376075745 |Test Loss: 0.5145289897918701\n",
            "OrderedDict([('weights', tensor([0.4742])), ('bias', tensor([-0.0136]))])\n",
            "Epoch: 30 | Loss: 0.2979383170604706 |Test Loss: 0.3798190653324127\n",
            "OrderedDict([('weights', tensor([0.5132])), ('bias', tensor([0.0864]))])\n",
            "Epoch: 40 | Loss: 0.1827283352613449 |Test Loss: 0.24510908126831055\n",
            "OrderedDict([('weights', tensor([0.5522])), ('bias', tensor([0.1864]))])\n",
            "Epoch: 50 | Loss: 0.06751836836338043 |Test Loss: 0.11039917171001434\n",
            "OrderedDict([('weights', tensor([0.5912])), ('bias', tensor([0.2864]))])\n",
            "Epoch: 60 | Loss: 0.016020705923438072 |Test Loss: 0.03857617825269699\n",
            "OrderedDict([('weights', tensor([0.6219])), ('bias', tensor([0.3309]))])\n",
            "Epoch: 70 | Loss: 0.012479040771722794 |Test Loss: 0.028251904994249344\n",
            "OrderedDict([('weights', tensor([0.6397])), ('bias', tensor([0.3254]))])\n",
            "Epoch: 80 | Loss: 0.009042811580002308 |Test Loss: 0.020666247233748436\n",
            "OrderedDict([('weights', tensor([0.6566])), ('bias', tensor([0.3179]))])\n",
            "Epoch: 90 | Loss: 0.005614229943603277 |Test Loss: 0.012393707409501076\n",
            "OrderedDict([('weights', tensor([0.6738])), ('bias', tensor([0.3109]))])\n",
            "Epoch: 100 | Loss: 0.0021754212211817503 |Test Loss: 0.004121154546737671\n",
            "OrderedDict([('weights', tensor([0.6909])), ('bias', tensor([0.3039]))])\n",
            "Epoch: 110 | Loss: 0.0025422864127904177 |Test Loss: 0.008392000570893288\n",
            "OrderedDict([('weights', tensor([0.6988])), ('bias', tensor([0.3094]))])\n",
            "Epoch: 120 | Loss: 0.0025422864127904177 |Test Loss: 0.008392000570893288\n",
            "OrderedDict([('weights', tensor([0.6988])), ('bias', tensor([0.3094]))])\n",
            "Epoch: 130 | Loss: 0.0025422864127904177 |Test Loss: 0.008392000570893288\n",
            "OrderedDict([('weights', tensor([0.6988])), ('bias', tensor([0.3094]))])\n",
            "Epoch: 140 | Loss: 0.0025422864127904177 |Test Loss: 0.008392000570893288\n",
            "OrderedDict([('weights', tensor([0.6988])), ('bias', tensor([0.3094]))])\n",
            "Epoch: 150 | Loss: 0.0025422864127904177 |Test Loss: 0.008392000570893288\n",
            "OrderedDict([('weights', tensor([0.6988])), ('bias', tensor([0.3094]))])\n",
            "Epoch: 160 | Loss: 0.0025422864127904177 |Test Loss: 0.008392000570893288\n",
            "OrderedDict([('weights', tensor([0.6988])), ('bias', tensor([0.3094]))])\n",
            "Epoch: 170 | Loss: 0.0025422864127904177 |Test Loss: 0.008392000570893288\n",
            "OrderedDict([('weights', tensor([0.6988])), ('bias', tensor([0.3094]))])\n",
            "Epoch: 180 | Loss: 0.0025422864127904177 |Test Loss: 0.008392000570893288\n",
            "OrderedDict([('weights', tensor([0.6988])), ('bias', tensor([0.3094]))])\n",
            "Epoch: 190 | Loss: 0.0025422864127904177 |Test Loss: 0.008392000570893288\n",
            "OrderedDict([('weights', tensor([0.6988])), ('bias', tensor([0.3094]))])\n",
            "Epoch: 200 | Loss: 0.0025422864127904177 |Test Loss: 0.008392000570893288\n",
            "OrderedDict([('weights', tensor([0.6988])), ('bias', tensor([0.3094]))])\n",
            "Epoch: 210 | Loss: 0.0025422864127904177 |Test Loss: 0.008392000570893288\n",
            "OrderedDict([('weights', tensor([0.6988])), ('bias', tensor([0.3094]))])\n",
            "Epoch: 220 | Loss: 0.0025422864127904177 |Test Loss: 0.008392000570893288\n",
            "OrderedDict([('weights', tensor([0.6988])), ('bias', tensor([0.3094]))])\n",
            "Epoch: 230 | Loss: 0.0025422864127904177 |Test Loss: 0.008392000570893288\n",
            "OrderedDict([('weights', tensor([0.6988])), ('bias', tensor([0.3094]))])\n",
            "Epoch: 240 | Loss: 0.0025422864127904177 |Test Loss: 0.008392000570893288\n",
            "OrderedDict([('weights', tensor([0.6988])), ('bias', tensor([0.3094]))])\n",
            "Epoch: 250 | Loss: 0.0025422864127904177 |Test Loss: 0.008392000570893288\n",
            "OrderedDict([('weights', tensor([0.6988])), ('bias', tensor([0.3094]))])\n",
            "Epoch: 260 | Loss: 0.0025422864127904177 |Test Loss: 0.008392000570893288\n",
            "OrderedDict([('weights', tensor([0.6988])), ('bias', tensor([0.3094]))])\n",
            "Epoch: 270 | Loss: 0.0025422864127904177 |Test Loss: 0.008392000570893288\n",
            "OrderedDict([('weights', tensor([0.6988])), ('bias', tensor([0.3094]))])\n",
            "Epoch: 280 | Loss: 0.0025422864127904177 |Test Loss: 0.008392000570893288\n",
            "OrderedDict([('weights', tensor([0.6988])), ('bias', tensor([0.3094]))])\n",
            "Epoch: 290 | Loss: 0.0025422864127904177 |Test Loss: 0.008392000570893288\n",
            "OrderedDict([('weights', tensor([0.6988])), ('bias', tensor([0.3094]))])\n",
            "Epoch: 300 | Loss: 0.0025422864127904177 |Test Loss: 0.008392000570893288\n",
            "OrderedDict([('weights', tensor([0.6988])), ('bias', tensor([0.3094]))])\n",
            "Epoch: 310 | Loss: 0.0025422864127904177 |Test Loss: 0.008392000570893288\n",
            "OrderedDict([('weights', tensor([0.6988])), ('bias', tensor([0.3094]))])\n",
            "Epoch: 320 | Loss: 0.0025422864127904177 |Test Loss: 0.008392000570893288\n",
            "OrderedDict([('weights', tensor([0.6988])), ('bias', tensor([0.3094]))])\n",
            "Epoch: 330 | Loss: 0.0025422864127904177 |Test Loss: 0.008392000570893288\n",
            "OrderedDict([('weights', tensor([0.6988])), ('bias', tensor([0.3094]))])\n",
            "Epoch: 340 | Loss: 0.0025422864127904177 |Test Loss: 0.008392000570893288\n",
            "OrderedDict([('weights', tensor([0.6988])), ('bias', tensor([0.3094]))])\n",
            "Epoch: 350 | Loss: 0.0025422864127904177 |Test Loss: 0.008392000570893288\n",
            "OrderedDict([('weights', tensor([0.6988])), ('bias', tensor([0.3094]))])\n",
            "Epoch: 360 | Loss: 0.0025422864127904177 |Test Loss: 0.008392000570893288\n",
            "OrderedDict([('weights', tensor([0.6988])), ('bias', tensor([0.3094]))])\n",
            "Epoch: 370 | Loss: 0.0025422864127904177 |Test Loss: 0.008392000570893288\n",
            "OrderedDict([('weights', tensor([0.6988])), ('bias', tensor([0.3094]))])\n",
            "Epoch: 380 | Loss: 0.0025422864127904177 |Test Loss: 0.008392000570893288\n",
            "OrderedDict([('weights', tensor([0.6988])), ('bias', tensor([0.3094]))])\n",
            "Epoch: 390 | Loss: 0.0025422864127904177 |Test Loss: 0.008392000570893288\n",
            "OrderedDict([('weights', tensor([0.6988])), ('bias', tensor([0.3094]))])\n"
          ]
        }
      ]
    },
    {
      "cell_type": "code",
      "source": [
        "model_0.state_dict()"
      ],
      "metadata": {
        "colab": {
          "base_uri": "https://localhost:8080/"
        },
        "id": "cIrz-Xg_NcM-",
        "outputId": "e6dcc1a3-30e2-4c6e-8770-898c5b9f5b46"
      },
      "execution_count": 117,
      "outputs": [
        {
          "output_type": "execute_result",
          "data": {
            "text/plain": [
              "OrderedDict([('weights', tensor([0.6949])), ('bias', tensor([0.2994]))])"
            ]
          },
          "metadata": {},
          "execution_count": 117
        }
      ]
    },
    {
      "cell_type": "code",
      "source": [
        "plot_predictions(predictions=y_preds)"
      ],
      "metadata": {
        "colab": {
          "base_uri": "https://localhost:8080/",
          "height": 472
        },
        "id": "bC6JvTNGO_vg",
        "outputId": "f4a10866-b73f-4a16-c6d1-ae15936e54c6"
      },
      "execution_count": 118,
      "outputs": [
        {
          "output_type": "display_data",
          "data": {
            "text/plain": [
              "<Figure size 1000x700 with 1 Axes>"
            ],
            "image/png": "[encoded data removed]"
          },
          "metadata": {}
        }
      ]
    },
    {
      "cell_type": "code",
      "source": [
        "with torch.inference_mode():\n",
        "  y_preds_new = model_0(X_test)"
      ],
      "metadata": {
        "id": "62HW58JaNI0D"
      },
      "execution_count": 119,
      "outputs": []
    },
    {
      "cell_type": "code",
      "source": [
        "import numpy as np\n",
        "np.array(torch.tensor(loss_values).cpu().numpy())\n",
        "#Drop out + Batch normalization layers"
      ],
      "metadata": {
        "colab": {
          "base_uri": "https://localhost:8080/"
        },
        "id": "rgoMXWtMGNmC",
        "outputId": "fd993ebb-8f44-412a-d472-5580274eea6c"
      },
      "execution_count": 120,
      "outputs": [
        {
          "output_type": "execute_result",
          "data": {
            "text/plain": [
              "array([0.6435683 , 0.5283583 , 0.4131483 , 0.29793832, 0.18272834,\n",
              "       0.06751837, 0.01602071, 0.01247904, 0.00904281, 0.00561423,\n",
              "       0.00217542, 0.00254229, 0.00254229, 0.00254229, 0.00254229,\n",
              "       0.00254229, 0.00254229, 0.00254229, 0.00254229, 0.00254229,\n",
              "       0.00254229, 0.00254229, 0.00254229, 0.00254229, 0.00254229,\n",
              "       0.00254229, 0.00254229, 0.00254229, 0.00254229, 0.00254229,\n",
              "       0.00254229, 0.00254229, 0.00254229, 0.00254229, 0.00254229,\n",
              "       0.00254229, 0.00254229, 0.00254229, 0.00254229, 0.00254229],\n",
              "      dtype=float32)"
            ]
          },
          "metadata": {},
          "execution_count": 120
        }
      ]
    },
    {
      "cell_type": "code",
      "source": [
        "# Plot the loss curves\n",
        "plt.plot(epoch_count, np.array(torch.tensor(loss_values).numpy()), label=\"Train loss\")\n",
        "plt.plot(epoch_count, test_loss_values, label = \"Test loss\")\n",
        "plt.title(\"Training and test loss curves\")\n",
        "plt.ylabel(\"Loss\")\n",
        "plt.xlabel(\"Epochs\")\n",
        "plt.legend()"
      ],
      "metadata": {
        "colab": {
          "base_uri": "https://localhost:8080/",
          "height": 489
        },
        "id": "8I2uzc7DFdUb",
        "outputId": "62bae7b4-146a-4658-cd2e-20d037dcc4aa"
      },
      "execution_count": 121,
      "outputs": [
        {
          "output_type": "execute_result",
          "data": {
            "text/plain": [
              "<matplotlib.legend.Legend at 0x79fd3f2217b0>"
            ]
          },
          "metadata": {},
          "execution_count": 121
        },
        {
          "output_type": "display_data",
          "data": {
            "text/plain": [
              "<Figure size 640x480 with 1 Axes>"
            ],
            "image/png": "[encoded data removed]"
          },
          "metadata": {}
        }
      ]
    },
    {
      "cell_type": "code",
      "source": [
        "plot_predictions(predictions = y_preds_new)"
      ],
      "metadata": {
        "colab": {
          "base_uri": "https://localhost:8080/",
          "height": 472
        },
        "id": "IAWV6SsRPH2J",
        "outputId": "dcd21f22-9630-4a98-ea5b-c9c67e995229"
      },
      "execution_count": 122,
      "outputs": [
        {
          "output_type": "display_data",
          "data": {
            "text/plain": [
              "<Figure size 1000x700 with 1 Axes>"
            ],
            "image/png": "[encoded data removed]"
          },
          "metadata": {}
        }
      ]
    },
    {
      "cell_type": "code",
      "source": [
        "with torch.inference_mode():\n",
        "  y_preds_new1 = model_0(X_test)\n",
        "plot_predictions(predictions = y_preds_new1)"
      ],
      "metadata": {
        "id": "GCPCsjKjS2FN",
        "outputId": "2a7a67e3-b8b5-4110-dd3c-38ce17db4c0d",
        "colab": {
          "base_uri": "https://localhost:8080/",
          "height": 472
        }
      },
      "execution_count": 123,
      "outputs": [
        {
          "output_type": "display_data",
          "data": {
            "text/plain": [
              "<Figure size 1000x700 with 1 Axes>"
            ],
            "image/png": "[encoded data removed]"
          },
          "metadata": {}
        }
      ]
    },
    {
      "cell_type": "code",
      "source": [
        "!nvidia-smi"
      ],
      "metadata": {
        "colab": {
          "base_uri": "https://localhost:8080/"
        },
        "id": "tbTOg-O3Iaum",
        "outputId": "767186a8-f4a0-477e-d0cb-844c04231cb3"
      },
      "execution_count": 124,
      "outputs": [
        {
          "output_type": "stream",
          "name": "stdout",
          "text": [
            "Tue Aug  8 19:41:55 2023       \n",
            "+-----------------------------------------------------------------------------+\n",
            "| NVIDIA-SMI 525.105.17   Driver Version: 525.105.17   CUDA Version: 12.0     |\n",
            "|-------------------------------+----------------------+----------------------+\n",
            "| GPU  Name        Persistence-M| Bus-Id        Disp.A | Volatile Uncorr. ECC |\n",
            "| Fan  Temp  Perf  Pwr:Usage/Cap|         Memory-Usage | GPU-Util  Compute M. |\n",
            "|                               |                      |               MIG M. |\n",
            "|===============================+======================+======================|\n",
            "|   0  Tesla T4            Off  | 00000000:00:04.0 Off |                    0 |\n",
            "| N/A   71C    P0    30W /  70W |    601MiB / 15360MiB |      0%      Default |\n",
            "|                               |                      |                  N/A |\n",
            "+-------------------------------+----------------------+----------------------+\n",
            "                                                                               \n",
            "+-----------------------------------------------------------------------------+\n",
            "| Processes:                                                                  |\n",
            "|  GPU   GI   CI        PID   Type   Process name                  GPU Memory |\n",
            "|        ID   ID                                                   Usage      |\n",
            "|=============================================================================|\n",
            "+-----------------------------------------------------------------------------+\n"
          ]
        }
      ]
    },
    {
      "cell_type": "markdown",
      "source": [
        "### Saving a model in Pytorch\n",
        "\n",
        "> `torch.save()` - allows me to save a PyTorch object i Python's Pickle format\n",
        "- Pickle module -> implements binary protocols for serializing and deserializing a Python object structure\n",
        "- Pickling - a Python object hierarchy is converted into a byte stream\n",
        "- Unpickling - a byte stream (binary file or byts-like object) is converted back into an object hierarchy\n",
        "\n",
        "> `torch.load()` - allows me to load a saved PyTorch object\n",
        "\n",
        "> `torch.nn.Module.load_state_dict()` - allows to a load a model's saved state dictionary\n",
        "\n",
        "\n",
        "\n",
        "\n",
        "\n",
        "\n"
      ],
      "metadata": {
        "id": "Z04HbrwkD68S"
      }
    },
    {
      "cell_type": "code",
      "source": [
        "model_0.state_dict()\n",
        "# A state_dict is a Python dictionary object that maps each layer to its parameter tensor"
      ],
      "metadata": {
        "colab": {
          "base_uri": "https://localhost:8080/"
        },
        "id": "v35vu33UJxIu",
        "outputId": "f6c99809-ca8c-4850-8140-75405593396b"
      },
      "execution_count": 125,
      "outputs": [
        {
          "output_type": "execute_result",
          "data": {
            "text/plain": [
              "OrderedDict([('weights', tensor([0.6949])), ('bias', tensor([0.2994]))])"
            ]
          },
          "metadata": {},
          "execution_count": 125
        }
      ]
    },
    {
      "cell_type": "code",
      "source": [
        "# Saving PyTorch model\n",
        "from pathlib import Path\n",
        "\n",
        "# 1. Create models directory\n",
        "MODEL_PATH = Path(\"models\")\n",
        "MODEL_PATH.mkdir(parents = True, exist_ok = True)\n",
        "\n",
        "# 2. Create a Model save path\n",
        "MODEL_NAME = \"01_pytorch_workflow_model_0.pth\" #.pth or .pt for pytorch models\n",
        "MODEL_SAVE_PATH = MODEL_PATH / MODEL_NAME\n",
        "\n",
        "MODEL_SAVE_PATH\n",
        "\n",
        "# 3. Save the model state dict\n",
        "print(f\"Saving model to: {MODEL_SAVE_PATH}\")\n",
        "torch.save(obj = model_0.state_dict(), f = MODEL_SAVE_PATH)"
      ],
      "metadata": {
        "colab": {
          "base_uri": "https://localhost:8080/"
        },
        "id": "JkcobLptLDMc",
        "outputId": "6b5f7dae-9cc7-40a1-f85d-feb2afaf14cf"
      },
      "execution_count": 126,
      "outputs": [
        {
          "output_type": "stream",
          "name": "stdout",
          "text": [
            "Saving model to: models/01_pytorch_workflow_model_0.pth\n"
          ]
        }
      ]
    },
    {
      "cell_type": "code",
      "source": [
        "!ls -l models"
      ],
      "metadata": {
        "colab": {
          "base_uri": "https://localhost:8080/"
        },
        "id": "rZZT8wzxMlWC",
        "outputId": "97a5b356-5207-4574-a033-443dbfdb166a"
      },
      "execution_count": 127,
      "outputs": [
        {
          "output_type": "stream",
          "name": "stdout",
          "text": [
            "total 4\n",
            "-rw-r--r-- 1 root root 1207 Aug  8 19:41 01_pytorch_workflow_model_0.pth\n"
          ]
        }
      ]
    },
    {
      "cell_type": "markdown",
      "source": [
        "## Loading a Pytorch Model\n",
        "\n",
        "Since I saved the model's `state_dict` rather the entire model, I'll create a new instance of the model's class and load the saved `state_dict` into that.\n"
      ],
      "metadata": {
        "id": "l_i2MidANxNL"
      }
    },
    {
      "cell_type": "code",
      "source": [
        "model_0.state_dict()"
      ],
      "metadata": {
        "colab": {
          "base_uri": "https://localhost:8080/"
        },
        "id": "XjvPqoT4N0kY",
        "outputId": "8c1f61ae-5114-45fa-9680-244243e82999"
      },
      "execution_count": 128,
      "outputs": [
        {
          "output_type": "execute_result",
          "data": {
            "text/plain": [
              "OrderedDict([('weights', tensor([0.6949])), ('bias', tensor([0.2994]))])"
            ]
          },
          "metadata": {},
          "execution_count": 128
        }
      ]
    },
    {
      "cell_type": "code",
      "source": [
        "# To load in a saved state dict, I should insntantiate a new instance of the model class\n",
        "loaded_model_0 = LinearRegressionModel()\n",
        "loaded_model_0.state_dict()"
      ],
      "metadata": {
        "colab": {
          "base_uri": "https://localhost:8080/"
        },
        "id": "y5GRncSsOMLr",
        "outputId": "fe142726-87e4-4cbb-b1b0-b835b6d79df6"
      },
      "execution_count": 129,
      "outputs": [
        {
          "output_type": "execute_result",
          "data": {
            "text/plain": [
              "OrderedDict([('weights', tensor([0.3923])), ('bias', tensor([-0.2236]))])"
            ]
          },
          "metadata": {},
          "execution_count": 129
        }
      ]
    },
    {
      "cell_type": "code",
      "source": [
        "loaded_model_0.load_state_dict(torch.load(f = MODEL_SAVE_PATH))"
      ],
      "metadata": {
        "colab": {
          "base_uri": "https://localhost:8080/"
        },
        "id": "O24C2aUOOn6s",
        "outputId": "1dfc969e-975d-49b7-c485-40f2eefebea0"
      },
      "execution_count": 130,
      "outputs": [
        {
          "output_type": "execute_result",
          "data": {
            "text/plain": [
              "<All keys matched successfully>"
            ]
          },
          "metadata": {},
          "execution_count": 130
        }
      ]
    },
    {
      "cell_type": "code",
      "source": [
        "loaded_model_0.state_dict()"
      ],
      "metadata": {
        "colab": {
          "base_uri": "https://localhost:8080/"
        },
        "id": "751JlCF7O9O0",
        "outputId": "c9f7daf0-b35d-428f-cdbd-c98399bcfcd5"
      },
      "execution_count": 131,
      "outputs": [
        {
          "output_type": "execute_result",
          "data": {
            "text/plain": [
              "OrderedDict([('weights', tensor([0.6949])), ('bias', tensor([0.2994]))])"
            ]
          },
          "metadata": {},
          "execution_count": 131
        }
      ]
    },
    {
      "cell_type": "code",
      "source": [
        "# Make some predictions with the loaded model\n",
        "loaded_model_0.eval()\n",
        "with torch.inference_mode():\n",
        "  loaded_model_preds = loaded_model_0(X_test)\n",
        "\n",
        "loaded_model_preds"
      ],
      "metadata": {
        "colab": {
          "base_uri": "https://localhost:8080/"
        },
        "id": "X5s9YvrAPD6M",
        "outputId": "aa256f9e-d8c5-47ea-d2b3-433e6dc71bd3"
      },
      "execution_count": 132,
      "outputs": [
        {
          "output_type": "execute_result",
          "data": {
            "text/plain": [
              "tensor([[0.8554],\n",
              "        [0.8693],\n",
              "        [0.8832],\n",
              "        [0.8971],\n",
              "        [0.9110],\n",
              "        [0.9249],\n",
              "        [0.9388],\n",
              "        [0.9527],\n",
              "        [0.9666],\n",
              "        [0.9805]])"
            ]
          },
          "metadata": {},
          "execution_count": 132
        }
      ]
    },
    {
      "cell_type": "code",
      "source": [
        "# Compare loaded model preds with original model preds\n",
        "y_preds_new == loaded_model_preds"
      ],
      "metadata": {
        "colab": {
          "base_uri": "https://localhost:8080/"
        },
        "id": "41ikguyBP-TX",
        "outputId": "040991a5-122d-477c-fb38-a4965707a4a2"
      },
      "execution_count": 133,
      "outputs": [
        {
          "output_type": "execute_result",
          "data": {
            "text/plain": [
              "tensor([[True],\n",
              "        [True],\n",
              "        [True],\n",
              "        [True],\n",
              "        [True],\n",
              "        [True],\n",
              "        [True],\n",
              "        [True],\n",
              "        [True],\n",
              "        [True]])"
            ]
          },
          "metadata": {},
          "execution_count": 133
        }
      ]
    },
    {
      "cell_type": "markdown",
      "source": [
        "## 6. Put everything together"
      ],
      "metadata": {
        "id": "k-fLUwqTQrFy"
      }
    },
    {
      "cell_type": "code",
      "source": [
        "import torch\n",
        "from torch import nn\n",
        "import matplotlib.pyplot as plt\n",
        "\n",
        "#Check PyTorch version\n",
        "torch.__version__"
      ],
      "metadata": {
        "colab": {
          "base_uri": "https://localhost:8080/",
          "height": 36
        },
        "id": "wUzVaYz8a0lI",
        "outputId": "1b8cebf6-dd38-4282-bdfa-e60f2e15dba1"
      },
      "execution_count": 184,
      "outputs": [
        {
          "output_type": "execute_result",
          "data": {
            "text/plain": [
              "'2.0.1+cu118'"
            ],
            "application/vnd.google.colaboratory.intrinsic+json": {
              "type": "string"
            }
          },
          "metadata": {},
          "execution_count": 184
        }
      ]
    },
    {
      "cell_type": "markdown",
      "source": [
        "Create Device Agnostic Code\n",
        "\n",
        "If we have access to a GPU, the code will use it - for faster computing\n",
        "\n",
        "If no GPU is available, it will default to using CPU"
      ],
      "metadata": {
        "id": "yHz-HBGUcQsa"
      }
    },
    {
      "cell_type": "code",
      "source": [
        "# Device agnostic code\n",
        "device = 'cuda' if torch.cuda.is_available() else 'cpu'\n",
        "print(f\"Using device: {device}\")"
      ],
      "metadata": {
        "colab": {
          "base_uri": "https://localhost:8080/"
        },
        "id": "nySQjzMdcg_t",
        "outputId": "9c37a937-ab16-4bcb-afa5-f8001d2b74b8"
      },
      "execution_count": 198,
      "outputs": [
        {
          "output_type": "stream",
          "name": "stdout",
          "text": [
            "Using device: cuda\n"
          ]
        }
      ]
    },
    {
      "cell_type": "markdown",
      "source": [
        "### 6.1 Data"
      ],
      "metadata": {
        "id": "CQp576HZQvE1"
      }
    },
    {
      "cell_type": "code",
      "source": [
        "# Create some dummy data using Linear Regression formula -> y = weight * X + bias\n",
        "weight = 0.7\n",
        "bias = 0.3\n",
        "\n",
        "# Range values\n",
        "start = 0\n",
        "end = 1\n",
        "step = 0.02\n",
        "\n",
        "# Create X and y (features and labels)\n",
        "X = torch.arange(start, end, step).unsqueeze(dim=1) #Unsqueeze to avoid errors\n",
        "y = weight * X + bias\n",
        "\n",
        "X[:10], y[:10]"
      ],
      "metadata": {
        "colab": {
          "base_uri": "https://localhost:8080/"
        },
        "id": "WqUf10rXcwTR",
        "outputId": "913616d6-c713-43cc-e18f-60bd8d23f885"
      },
      "execution_count": 215,
      "outputs": [
        {
          "output_type": "execute_result",
          "data": {
            "text/plain": [
              "(tensor([[0.0000],\n",
              "         [0.0200],\n",
              "         [0.0400],\n",
              "         [0.0600],\n",
              "         [0.0800],\n",
              "         [0.1000],\n",
              "         [0.1200],\n",
              "         [0.1400],\n",
              "         [0.1600],\n",
              "         [0.1800]]),\n",
              " tensor([[0.3000],\n",
              "         [0.3140],\n",
              "         [0.3280],\n",
              "         [0.3420],\n",
              "         [0.3560],\n",
              "         [0.3700],\n",
              "         [0.3840],\n",
              "         [0.3980],\n",
              "         [0.4120],\n",
              "         [0.4260]]))"
            ]
          },
          "metadata": {},
          "execution_count": 215
        }
      ]
    },
    {
      "cell_type": "code",
      "source": [
        "# Split data\n",
        "train_split = int(0.8 * len(X))\n",
        "X_train, y_train = X[:train_split], y[:train_split]\n",
        "X_test, y_test = X[train_split:], y[train_split:]\n",
        "len(X_train), len(y_train), len(X_test), len(y_test)"
      ],
      "metadata": {
        "colab": {
          "base_uri": "https://localhost:8080/"
        },
        "id": "aAboXwLNdvyA",
        "outputId": "ca002284-5708-4dd8-e7ef-124747ec76fb"
      },
      "execution_count": 216,
      "outputs": [
        {
          "output_type": "execute_result",
          "data": {
            "text/plain": [
              "(40, 40, 10, 10)"
            ]
          },
          "metadata": {},
          "execution_count": 216
        }
      ]
    },
    {
      "cell_type": "code",
      "source": [
        "plot_predictions(X_train, y_train, X_test, y_test)"
      ],
      "metadata": {
        "colab": {
          "base_uri": "https://localhost:8080/",
          "height": 472
        },
        "id": "Nwf6r6P1edVF",
        "outputId": "e69e2442-42f9-48b6-f0b8-0cc99d7983e0"
      },
      "execution_count": 217,
      "outputs": [
        {
          "output_type": "display_data",
          "data": {
            "text/plain": [
              "<Figure size 1000x700 with 1 Axes>"
            ],
            "image/png": "[encoded data removed]"
          },
          "metadata": {}
        }
      ]
    },
    {
      "cell_type": "markdown",
      "source": [
        "### 6.2 Build a PyTorch linear model"
      ],
      "metadata": {
        "id": "d_eWDL5fe3vr"
      }
    },
    {
      "cell_type": "code",
      "source": [
        "# Create a linear model by subclassing nn.Module\n",
        "class LinearRegressionModelV2(nn.Module):\n",
        "  def __init__(self):\n",
        "    super().__init__()\n",
        "    # Use nn.Linear() (Linear regression model) for creating the model parameters - Linear transfor, probing layer, fully connected layer, dense layer (tf)\n",
        "    self.linear_layer = nn.Linear(in_features=1, out_features=1)\n",
        "\n",
        "  def forward(self, x: torch.Tensor) -> torch.Tensor: #Input should be a torch.Tensor and the output a torch.Tensor too\n",
        "    return self.linear_layer(x)\n",
        "\n",
        "# Set manual seed\n",
        "torch.manual_seed(42)\n",
        "model_1 = LinearRegressionModelV2()\n",
        "model_1, model_1.state_dict()"
      ],
      "metadata": {
        "colab": {
          "base_uri": "https://localhost:8080/"
        },
        "id": "2jK-ZSNgfDHA",
        "outputId": "558a7389-4535-447b-a537-3179d89e2d8f"
      },
      "execution_count": 218,
      "outputs": [
        {
          "output_type": "execute_result",
          "data": {
            "text/plain": [
              "(LinearRegressionModelV2(\n",
              "   (linear_layer): Linear(in_features=1, out_features=1, bias=True)\n",
              " ),\n",
              " OrderedDict([('linear_layer.weight', tensor([[0.7645]])),\n",
              "              ('linear_layer.bias', tensor([0.8300]))]))"
            ]
          },
          "metadata": {},
          "execution_count": 218
        }
      ]
    },
    {
      "cell_type": "code",
      "source": [
        "# Check model_current device\n",
        "next(model_1.parameters()).device"
      ],
      "metadata": {
        "colab": {
          "base_uri": "https://localhost:8080/"
        },
        "id": "tN88xn4wiK9a",
        "outputId": "921599e8-0b7d-4cee-a28c-f20db9cab6b2"
      },
      "execution_count": 220,
      "outputs": [
        {
          "output_type": "execute_result",
          "data": {
            "text/plain": [
              "device(type='cuda', index=0)"
            ]
          },
          "metadata": {},
          "execution_count": 220
        }
      ]
    },
    {
      "cell_type": "code",
      "source": [
        "# Set the model to use target device\n",
        "model_1.to(device)"
      ],
      "metadata": {
        "colab": {
          "base_uri": "https://localhost:8080/"
        },
        "id": "PEHpP4zXiFX7",
        "outputId": "0ccff6eb-b83d-4be3-efc2-db649d3b132a"
      },
      "execution_count": 219,
      "outputs": [
        {
          "output_type": "execute_result",
          "data": {
            "text/plain": [
              "LinearRegressionModelV2(\n",
              "  (linear_layer): Linear(in_features=1, out_features=1, bias=True)\n",
              ")"
            ]
          },
          "metadata": {},
          "execution_count": 219
        }
      ]
    },
    {
      "cell_type": "code",
      "source": [
        "next(model_1.parameters()).device"
      ],
      "metadata": {
        "colab": {
          "base_uri": "https://localhost:8080/"
        },
        "id": "bQMEUxFqiaG5",
        "outputId": "b193f599-8f21-4de1-a32e-09a72cf19717"
      },
      "execution_count": 221,
      "outputs": [
        {
          "output_type": "execute_result",
          "data": {
            "text/plain": [
              "device(type='cuda', index=0)"
            ]
          },
          "metadata": {},
          "execution_count": 221
        }
      ]
    },
    {
      "cell_type": "markdown",
      "source": [
        "### 6.3 Training\n",
        "\n",
        "For training:\n",
        "* Loss Function\n",
        "* Optimizer\n",
        "* Training Loop\n",
        "* Testing Loop"
      ],
      "metadata": {
        "id": "ftkBYIr7igHI"
      }
    },
    {
      "cell_type": "code",
      "source": [
        "# Setup Loss Function\n",
        "loss_fn = nn.L1Loss()\n",
        "\n",
        "# Optimizer\n",
        "optimizer = torch.optim.SGD(params=model_1.parameters(),\n",
        "                            lr=0.01)"
      ],
      "metadata": {
        "id": "fdGMMEyXis2v"
      },
      "execution_count": 222,
      "outputs": []
    },
    {
      "cell_type": "code",
      "source": [
        "# Training loop\n",
        "torch.manual_seed(42)\n",
        "\n",
        "epochs = 200\n",
        "\n",
        "# Put data on the target device (device agnostic code for data)\n",
        "X_train = X_train.to(device)\n",
        "y_train = y_train.to(device)\n",
        "X_test = X_test.to(device)\n",
        "y_test = y_test.to(device)\n",
        "\n",
        "for epoch in range(epochs):\n",
        "  model_1.train()\n",
        "\n",
        "  # 1. Forward pass\n",
        "  y_pred = model_1(X_train)\n",
        "\n",
        "  # 2. Calculate Loss\n",
        "  loss = loss_fn(y_pred, y_train)\n",
        "\n",
        "  # 3. Optimizer zero grad -> reduce gradient to 0 after every iteration so it starts fresh\n",
        "  optimizer.zero_grad()\n",
        "\n",
        "  # 4. Perform backpropagation\n",
        "  loss.backward()\n",
        "\n",
        "  # 5. Optimizer step\n",
        "  optimizer.step()\n",
        "\n",
        "  ## Testing\n",
        "  model_1.eval()\n",
        "  with torch.inference_mode():\n",
        "    test_pred = model_1(X_test)\n",
        "\n",
        "    test_loss = loss_fn(test_pred, y_test)\n",
        "\n",
        "  # Print out what's happening\n",
        "  if epoch % 10 == 0:\n",
        "    print(f\"Epoch: {epoch} | Loss : {loss} | Test Loss : {test_loss}\")\n"
      ],
      "metadata": {
        "colab": {
          "base_uri": "https://localhost:8080/"
        },
        "id": "-gVawFXLjOCa",
        "outputId": "d02493ea-4e4b-4eac-95d3-2edcf63fde4e"
      },
      "execution_count": 223,
      "outputs": [
        {
          "output_type": "stream",
          "name": "stdout",
          "text": [
            "Epoch: 0 | Loss : 0.5551779866218567 | Test Loss : 0.5739762187004089\n",
            "Epoch: 10 | Loss : 0.439968079328537 | Test Loss : 0.4392664134502411\n",
            "Epoch: 20 | Loss : 0.3247582018375397 | Test Loss : 0.30455657839775085\n",
            "Epoch: 30 | Loss : 0.20954833924770355 | Test Loss : 0.16984669864177704\n",
            "Epoch: 40 | Loss : 0.09433845430612564 | Test Loss : 0.03513690456748009\n",
            "Epoch: 50 | Loss : 0.023886388167738914 | Test Loss : 0.04784907028079033\n",
            "Epoch: 60 | Loss : 0.019956795498728752 | Test Loss : 0.045803118497133255\n",
            "Epoch: 70 | Loss : 0.016517987474799156 | Test Loss : 0.037530567497015\n",
            "Epoch: 80 | Loss : 0.013089174404740334 | Test Loss : 0.02994490973651409\n",
            "Epoch: 90 | Loss : 0.009653178043663502 | Test Loss : 0.02167237363755703\n",
            "Epoch: 100 | Loss : 0.006215683650225401 | Test Loss : 0.014086711220443249\n",
            "Epoch: 110 | Loss : 0.00278724217787385 | Test Loss : 0.005814164876937866\n",
            "Epoch: 120 | Loss : 0.0012645035749301314 | Test Loss : 0.013801801018416882\n",
            "Epoch: 130 | Loss : 0.0012645035749301314 | Test Loss : 0.013801801018416882\n",
            "Epoch: 140 | Loss : 0.0012645035749301314 | Test Loss : 0.013801801018416882\n",
            "Epoch: 150 | Loss : 0.0012645035749301314 | Test Loss : 0.013801801018416882\n",
            "Epoch: 160 | Loss : 0.0012645035749301314 | Test Loss : 0.013801801018416882\n",
            "Epoch: 170 | Loss : 0.0012645035749301314 | Test Loss : 0.013801801018416882\n",
            "Epoch: 180 | Loss : 0.0012645035749301314 | Test Loss : 0.013801801018416882\n",
            "Epoch: 190 | Loss : 0.0012645035749301314 | Test Loss : 0.013801801018416882\n"
          ]
        }
      ]
    },
    {
      "cell_type": "code",
      "source": [
        "model_1.state_dict()"
      ],
      "metadata": {
        "colab": {
          "base_uri": "https://localhost:8080/"
        },
        "id": "bJwwmbExrwwr",
        "outputId": "6bc8bb9a-fdea-4565-c75b-bbfa94637607"
      },
      "execution_count": 224,
      "outputs": [
        {
          "output_type": "execute_result",
          "data": {
            "text/plain": [
              "OrderedDict([('linear_layer.weight', tensor([[0.6968]], device='cuda:0')),\n",
              "             ('linear_layer.bias', tensor([0.3025], device='cuda:0'))])"
            ]
          },
          "metadata": {},
          "execution_count": 224
        }
      ]
    },
    {
      "cell_type": "markdown",
      "source": [
        "### 6.4 Making and Evaluating predictions"
      ],
      "metadata": {
        "id": "lBTZ3bYdstKI"
      }
    },
    {
      "cell_type": "code",
      "source": [
        "# Turn model into evaluation mode\n",
        "model_1.eval()\n",
        "\n",
        "# Make predictions on test data\n",
        "with torch.inference_mode():\n",
        "  y_preds = model_1(X_test)\n",
        "y_preds"
      ],
      "metadata": {
        "colab": {
          "base_uri": "https://localhost:8080/"
        },
        "id": "sXrHKSdbsy08",
        "outputId": "6bb8f4e4-a915-435f-a225-512a3e3bdf91"
      },
      "execution_count": 225,
      "outputs": [
        {
          "output_type": "execute_result",
          "data": {
            "text/plain": [
              "tensor([[0.8600],\n",
              "        [0.8739],\n",
              "        [0.8878],\n",
              "        [0.9018],\n",
              "        [0.9157],\n",
              "        [0.9296],\n",
              "        [0.9436],\n",
              "        [0.9575],\n",
              "        [0.9714],\n",
              "        [0.9854]], device='cuda:0')"
            ]
          },
          "metadata": {},
          "execution_count": 225
        }
      ]
    },
    {
      "cell_type": "code",
      "source": [
        "# Matplotlib uses numpy hence convert from tensor to numpy array\n",
        "plot_predictions(predictions=y_preds.cpu())"
      ],
      "metadata": {
        "colab": {
          "base_uri": "https://localhost:8080/",
          "height": 472
        },
        "id": "REajEbhEtEEW",
        "outputId": "ce40f6ef-5577-4b3b-822c-b28cda543303"
      },
      "execution_count": 226,
      "outputs": [
        {
          "output_type": "display_data",
          "data": {
            "text/plain": [
              "<Figure size 1000x700 with 1 Axes>"
            ],
            "image/png": "[encoded data removed]"
          },
          "metadata": {}
        }
      ]
    },
    {
      "cell_type": "markdown",
      "source": [
        "### 6.5 Saving and Loading the model"
      ],
      "metadata": {
        "id": "uU0hTaWHuc-a"
      }
    },
    {
      "cell_type": "code",
      "source": [
        "model_1.state_dict()"
      ],
      "metadata": {
        "colab": {
          "base_uri": "https://localhost:8080/"
        },
        "id": "gx497j_0uhDQ",
        "outputId": "e7b8f9d0-989d-483f-a15b-b24f034854af"
      },
      "execution_count": 227,
      "outputs": [
        {
          "output_type": "execute_result",
          "data": {
            "text/plain": [
              "OrderedDict([('linear_layer.weight', tensor([[0.6968]], device='cuda:0')),\n",
              "             ('linear_layer.bias', tensor([0.3025], device='cuda:0'))])"
            ]
          },
          "metadata": {},
          "execution_count": 227
        }
      ]
    },
    {
      "cell_type": "code",
      "source": [
        "from pathlib import Path\n",
        "\n",
        "MODEL_PATH = Path(\"models\")\n",
        "MODEL_PATH.mkdir(parents=True, exist_ok = True)\n",
        "\n",
        "MODEL_NAME = \"model_1.pth\"\n",
        "SAVE_PATH = MODEL_PATH / MODEL_NAME\n",
        "\n",
        "torch.save(obj = model_1.state_dict(), f = SAVE_PATH)"
      ],
      "metadata": {
        "id": "vEaZrpequtiK"
      },
      "execution_count": 228,
      "outputs": []
    },
    {
      "cell_type": "code",
      "source": [
        "# Loading the model\n",
        "\n",
        "# New instance of the model\n",
        "loaded_model_1 = LinearRegressionModelV2()\n",
        "\n",
        "# Load saved model_1 state_dict\n",
        "loaded_model_1.load_state_dict(torch.load(SAVE_PATH))\n",
        "\n",
        "# Put the loaded model to device\n",
        "loaded_model_1.to(device)"
      ],
      "metadata": {
        "colab": {
          "base_uri": "https://localhost:8080/"
        },
        "id": "QlfrW-CTwEd8",
        "outputId": "17c5f6c4-8714-471c-b8ce-dba5986db059"
      },
      "execution_count": 230,
      "outputs": [
        {
          "output_type": "execute_result",
          "data": {
            "text/plain": [
              "LinearRegressionModelV2(\n",
              "  (linear_layer): Linear(in_features=1, out_features=1, bias=True)\n",
              ")"
            ]
          },
          "metadata": {},
          "execution_count": 230
        }
      ]
    },
    {
      "cell_type": "code",
      "source": [
        "next(loaded_model_1.parameters()).device"
      ],
      "metadata": {
        "colab": {
          "base_uri": "https://localhost:8080/"
        },
        "id": "2O8sY3uuxEfG",
        "outputId": "5a58a574-08d8-4e26-ee54-c5d464eac5b1"
      },
      "execution_count": 232,
      "outputs": [
        {
          "output_type": "execute_result",
          "data": {
            "text/plain": [
              "device(type='cuda', index=0)"
            ]
          },
          "metadata": {},
          "execution_count": 232
        }
      ]
    },
    {
      "cell_type": "code",
      "source": [
        "loaded_model_1.state_dict()"
      ],
      "metadata": {
        "colab": {
          "base_uri": "https://localhost:8080/"
        },
        "id": "C7owYVlPxJXW",
        "outputId": "0435037a-5db4-47ac-c5ee-14047acef1ef"
      },
      "execution_count": 233,
      "outputs": [
        {
          "output_type": "execute_result",
          "data": {
            "text/plain": [
              "OrderedDict([('linear_layer.weight', tensor([[0.6968]], device='cuda:0')),\n",
              "             ('linear_layer.bias', tensor([0.3025], device='cuda:0'))])"
            ]
          },
          "metadata": {},
          "execution_count": 233
        }
      ]
    },
    {
      "cell_type": "code",
      "source": [
        "# Evaluate loaded model\n",
        "loaded_model_1.eval()\n",
        "\n",
        "with torch.inference_mode():\n",
        "  loaded_model_1_preds = loaded_model_1(X_test)\n",
        "\n",
        "loaded_model_1_preds == y_preds"
      ],
      "metadata": {
        "colab": {
          "base_uri": "https://localhost:8080/"
        },
        "id": "EoS-kh7vxJUJ",
        "outputId": "35e17aef-bdaa-44c1-d41f-d9bcad4008d8"
      },
      "execution_count": 234,
      "outputs": [
        {
          "output_type": "execute_result",
          "data": {
            "text/plain": [
              "tensor([[True],\n",
              "        [True],\n",
              "        [True],\n",
              "        [True],\n",
              "        [True],\n",
              "        [True],\n",
              "        [True],\n",
              "        [True],\n",
              "        [True],\n",
              "        [True]], device='cuda:0')"
            ]
          },
          "metadata": {},
          "execution_count": 234
        }
      ]
    }
  ]
}