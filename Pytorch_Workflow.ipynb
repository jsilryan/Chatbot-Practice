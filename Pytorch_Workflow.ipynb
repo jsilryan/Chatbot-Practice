{
  "nbformat": 4,
  "nbformat_minor": 0,
  "metadata": {
    "colab": {
      "provenance": [],
      "gpuType": "T4",
      "authorship_tag": "ABX9TyPV5eFkw/+tmUjO2KzW5QUU",
      "include_colab_link": true
    },
    "kernelspec": {
      "name": "python3",
      "display_name": "Python 3"
    },
    "language_info": {
      "name": "python"
    },
    "accelerator": "GPU"
  },
  "cells": [
    {
      "cell_type": "markdown",
      "metadata": {
        "id": "view-in-github",
        "colab_type": "text"
      },
      "source": [
        "<a href=\"https://colab.research.google.com/github/jsilryan/Deep-Learning-Practice/blob/master/Pytorch_Workflow.ipynb\" target=\"_parent\"><img src=\"https://colab.research.google.com/assets/colab-badge.svg\" alt=\"Open In Colab\"/></a>"
      ]
    },
    {
      "cell_type": "code",
      "execution_count": 8,
      "metadata": {
        "colab": {
          "base_uri": "https://localhost:8080/"
        },
        "id": "E54CewePHBfS",
        "outputId": "ac1a9676-bd07-4781-8496-e3d40a3500ac"
      },
      "outputs": [
        {
          "output_type": "execute_result",
          "data": {
            "text/plain": [
              "True"
            ]
          },
          "metadata": {},
          "execution_count": 8
        }
      ],
      "source": [
        "import torch\n",
        "torch.cuda.is_available()"
      ]
    },
    {
      "cell_type": "code",
      "source": [
        "# Setup device agnostic code -> https://pytorch.org/docs/1.0.1/notes/cuda.html\n",
        "device = \"cuda\" if torch.cuda.is_available() else \"cpu\"\n",
        "device"
      ],
      "metadata": {
        "colab": {
          "base_uri": "https://localhost:8080/",
          "height": 36
        },
        "id": "Vb1MreFIHm4V",
        "outputId": "111774c3-dbc4-4b33-c800-c666412a4859"
      },
      "execution_count": 9,
      "outputs": [
        {
          "output_type": "execute_result",
          "data": {
            "text/plain": [
              "'cuda'"
            ],
            "application/vnd.google.colaboratory.intrinsic+json": {
              "type": "string"
            }
          },
          "metadata": {},
          "execution_count": 9
        }
      ]
    },
    {
      "cell_type": "code",
      "source": [
        "# Count number of devices\n",
        "torch.cuda.device_count()"
      ],
      "metadata": {
        "colab": {
          "base_uri": "https://localhost:8080/"
        },
        "id": "KDGO--T6H3nM",
        "outputId": "f4b5904a-faa3-44e7-a5f3-7a8b3412f687"
      },
      "execution_count": 10,
      "outputs": [
        {
          "output_type": "execute_result",
          "data": {
            "text/plain": [
              "1"
            ]
          },
          "metadata": {},
          "execution_count": 10
        }
      ]
    },
    {
      "cell_type": "code",
      "source": [
        "!nvidia-smi"
      ],
      "metadata": {
        "colab": {
          "base_uri": "https://localhost:8080/"
        },
        "id": "eSoC2FhaMM0t",
        "outputId": "bf70e84c-0364-4ecf-8f9e-1462c8421756"
      },
      "execution_count": 3,
      "outputs": [
        {
          "output_type": "stream",
          "name": "stdout",
          "text": [
            "Tue Jul 25 07:57:30 2023       \n",
            "+-----------------------------------------------------------------------------+\n",
            "| NVIDIA-SMI 525.105.17   Driver Version: 525.105.17   CUDA Version: 12.0     |\n",
            "|-------------------------------+----------------------+----------------------+\n",
            "| GPU  Name        Persistence-M| Bus-Id        Disp.A | Volatile Uncorr. ECC |\n",
            "| Fan  Temp  Perf  Pwr:Usage/Cap|         Memory-Usage | GPU-Util  Compute M. |\n",
            "|                               |                      |               MIG M. |\n",
            "|===============================+======================+======================|\n",
            "|   0  Tesla T4            Off  | 00000000:00:04.0 Off |                    0 |\n",
            "| N/A   64C    P8    11W /  70W |      0MiB / 15360MiB |      0%      Default |\n",
            "|                               |                      |                  N/A |\n",
            "+-------------------------------+----------------------+----------------------+\n",
            "                                                                               \n",
            "+-----------------------------------------------------------------------------+\n",
            "| Processes:                                                                  |\n",
            "|  GPU   GI   CI        PID   Type   Process name                  GPU Memory |\n",
            "|        ID   ID                                                   Usage      |\n",
            "|=============================================================================|\n",
            "|  No running processes found                                                 |\n",
            "+-----------------------------------------------------------------------------+\n"
          ]
        }
      ]
    },
    {
      "cell_type": "markdown",
      "source": [
        "Put Tensors and Models on the GPU"
      ],
      "metadata": {
        "id": "bX1wxFC6NKF2"
      }
    },
    {
      "cell_type": "code",
      "source": [
        "#Create a tensor (default is on CPU)\n",
        "tensor = torch.tensor([1,2,3], device = \"cpu\")\n",
        "print(tensor, tensor.device)"
      ],
      "metadata": {
        "colab": {
          "base_uri": "https://localhost:8080/"
        },
        "id": "r5QJXLqZNI5o",
        "outputId": "9dcf1fa9-0ad1-4b50-bdc9-79083328378b"
      },
      "execution_count": 11,
      "outputs": [
        {
          "output_type": "stream",
          "name": "stdout",
          "text": [
            "tensor([1, 2, 3]) cpu\n"
          ]
        }
      ]
    },
    {
      "cell_type": "code",
      "source": [
        "#Move to GPU if available\n",
        "tensor_on_gpu = tensor.to(device)\n",
        "tensor_on_gpu"
      ],
      "metadata": {
        "colab": {
          "base_uri": "https://localhost:8080/"
        },
        "id": "vsOUf6J6N1MN",
        "outputId": "18a7e2b3-9503-420f-c9fa-a608e9c48f0b"
      },
      "execution_count": 12,
      "outputs": [
        {
          "output_type": "execute_result",
          "data": {
            "text/plain": [
              "tensor([1, 2, 3], device='cuda:0')"
            ]
          },
          "metadata": {},
          "execution_count": 12
        }
      ]
    },
    {
      "cell_type": "markdown",
      "source": [
        "### Move tensors back to CPU"
      ],
      "metadata": {
        "id": "hu_iMSafQTKH"
      }
    },
    {
      "cell_type": "code",
      "source": [
        "# Can't transform a tensor to NumPy if on GPU\n",
        "# tensor_on_gpu.numpy()\n",
        "# Forst set it to CPU\n",
        "tensor_on_cpu = tensor_on_gpu.cpu().numpy()\n",
        "tensor_on_cpu"
      ],
      "metadata": {
        "colab": {
          "base_uri": "https://localhost:8080/"
        },
        "id": "ns5mDNPBQV_u",
        "outputId": "6f9615fe-3a2b-4a50-adb4-18fd120406dc"
      },
      "execution_count": 13,
      "outputs": [
        {
          "output_type": "execute_result",
          "data": {
            "text/plain": [
              "array([1, 2, 3])"
            ]
          },
          "metadata": {},
          "execution_count": 13
        }
      ]
    },
    {
      "cell_type": "code",
      "source": [
        "new_tensor = torch.rand(7,7)\n",
        "new_tensor"
      ],
      "metadata": {
        "colab": {
          "base_uri": "https://localhost:8080/"
        },
        "id": "hCuVtxp8Rt-G",
        "outputId": "f5e78025-279b-4480-caa7-b74bcb8ac657"
      },
      "execution_count": 14,
      "outputs": [
        {
          "output_type": "execute_result",
          "data": {
            "text/plain": [
              "tensor([[0.6021, 0.3505, 0.7628, 0.7331, 0.5101, 0.7163, 0.1590],\n",
              "        [0.4090, 0.2819, 0.3064, 0.7700, 0.6728, 0.1277, 0.4670],\n",
              "        [0.0932, 0.8598, 0.8714, 0.7874, 0.4606, 0.3317, 0.3208],\n",
              "        [0.5432, 0.9153, 0.4211, 0.6347, 0.3120, 0.7129, 0.5912],\n",
              "        [0.6487, 0.0089, 0.1697, 0.9292, 0.3087, 0.4587, 0.0769],\n",
              "        [0.9433, 0.2072, 0.8235, 0.6817, 0.6817, 0.3881, 0.2511],\n",
              "        [0.7697, 0.8675, 0.4777, 0.7443, 0.6030, 0.9448, 0.9323]])"
            ]
          },
          "metadata": {},
          "execution_count": 14
        }
      ]
    },
    {
      "cell_type": "markdown",
      "source": [
        "Exercise:\n",
        "1. Read Torch.tensor, torch.cuda"
      ],
      "metadata": {
        "id": "nKa8i14fStMg"
      }
    },
    {
      "cell_type": "code",
      "source": [
        "new_tensor1 = torch.rand(1,7)\n",
        "new_tensor1"
      ],
      "metadata": {
        "colab": {
          "base_uri": "https://localhost:8080/"
        },
        "id": "n1MCKqGlSuz2",
        "outputId": "d517d88f-b65a-4aa2-83da-f5e105ca7335"
      },
      "execution_count": 15,
      "outputs": [
        {
          "output_type": "execute_result",
          "data": {
            "text/plain": [
              "tensor([[0.8299, 0.5206, 0.6863, 0.0499, 0.8720, 0.2706, 0.7291]])"
            ]
          },
          "metadata": {},
          "execution_count": 15
        }
      ]
    },
    {
      "cell_type": "code",
      "source": [
        "new_tensor1.T # Transposing it"
      ],
      "metadata": {
        "colab": {
          "base_uri": "https://localhost:8080/"
        },
        "id": "RAMQr8J_UKd0",
        "outputId": "2c8aa6a3-91f6-46fe-c062-48a964c58091"
      },
      "execution_count": 16,
      "outputs": [
        {
          "output_type": "execute_result",
          "data": {
            "text/plain": [
              "tensor([[0.8299],\n",
              "        [0.5206],\n",
              "        [0.6863],\n",
              "        [0.0499],\n",
              "        [0.8720],\n",
              "        [0.2706],\n",
              "        [0.7291]])"
            ]
          },
          "metadata": {},
          "execution_count": 16
        }
      ]
    },
    {
      "cell_type": "code",
      "source": [
        "torch.matmul(new_tensor, new_tensor1.T)"
      ],
      "metadata": {
        "colab": {
          "base_uri": "https://localhost:8080/"
        },
        "id": "P1pVwMr1UN_t",
        "outputId": "fb043923-b473-433d-f9d5-0508378665f2"
      },
      "execution_count": 17,
      "outputs": [
        {
          "output_type": "execute_result",
          "data": {
            "text/plain": [
              "tensor([[1.9969],\n",
              "        [1.6966],\n",
              "        [1.8876],\n",
              "        [2.1441],\n",
              "        [1.1552],\n",
              "        [2.3725],\n",
              "        [2.9166]])"
            ]
          },
          "metadata": {},
          "execution_count": 17
        }
      ]
    },
    {
      "cell_type": "code",
      "source": [
        "seed = 0\n",
        "torch.manual_seed(seed)\n",
        "new_tensor2 = torch.rand(7,7)\n",
        "print(new_tensor2)\n",
        "torch.manual_seed(seed)\n",
        "nt_3 = torch.rand(1,7)\n",
        "nt_3T = nt_3.T\n",
        "print(nt_3, \"\\n\", nt_3T)\n",
        "nt_4 = torch.matmul(new_tensor2, nt_3T)\n",
        "print(nt_4)"
      ],
      "metadata": {
        "colab": {
          "base_uri": "https://localhost:8080/"
        },
        "id": "vFV5j5_JUXLr",
        "outputId": "2d73b989-8eae-4bff-f56f-4dd0d18bddd8"
      },
      "execution_count": 18,
      "outputs": [
        {
          "output_type": "stream",
          "name": "stdout",
          "text": [
            "tensor([[0.4963, 0.7682, 0.0885, 0.1320, 0.3074, 0.6341, 0.4901],\n",
            "        [0.8964, 0.4556, 0.6323, 0.3489, 0.4017, 0.0223, 0.1689],\n",
            "        [0.2939, 0.5185, 0.6977, 0.8000, 0.1610, 0.2823, 0.6816],\n",
            "        [0.9152, 0.3971, 0.8742, 0.4194, 0.5529, 0.9527, 0.0362],\n",
            "        [0.1852, 0.3734, 0.3051, 0.9320, 0.1759, 0.2698, 0.1507],\n",
            "        [0.0317, 0.2081, 0.9298, 0.7231, 0.7423, 0.5263, 0.2437],\n",
            "        [0.5846, 0.0332, 0.1387, 0.2422, 0.8155, 0.7932, 0.2783]])\n",
            "tensor([[0.4963, 0.7682, 0.0885, 0.1320, 0.3074, 0.6341, 0.4901]]) \n",
            " tensor([[0.4963],\n",
            "        [0.7682],\n",
            "        [0.0885],\n",
            "        [0.1320],\n",
            "        [0.3074],\n",
            "        [0.6341],\n",
            "        [0.4901]])\n",
            "tensor([[1.5985],\n",
            "        [1.1173],\n",
            "        [1.2741],\n",
            "        [1.6838],\n",
            "        [0.8279],\n",
            "        [1.0347],\n",
            "        [1.2498]])\n"
          ]
        }
      ]
    },
    {
      "cell_type": "code",
      "source": [
        "#Manual seed for cuda\n",
        "new_seed = 1234\n",
        "torch.manual_seed(new_seed)\n",
        "nt_5 = torch.rand(2,3)\n",
        "print(nt_5, \"\\n\")\n",
        "torch.manual_seed(new_seed)\n",
        "nt_6 = torch.rand(2,3)\n",
        "print(nt_6)\n",
        "nt_7 = nt_6.T\n",
        "nt_8 = torch.matmul(nt_5, nt_7)\n",
        "print(nt_8)\n"
      ],
      "metadata": {
        "colab": {
          "base_uri": "https://localhost:8080/"
        },
        "id": "vdwyNTIiaDfc",
        "outputId": "76b58b14-8514-4619-9147-81727502d5bd"
      },
      "execution_count": 19,
      "outputs": [
        {
          "output_type": "stream",
          "name": "stdout",
          "text": [
            "tensor([[0.0290, 0.4019, 0.2598],\n",
            "        [0.3666, 0.0583, 0.7006]]) \n",
            "\n",
            "tensor([[0.0290, 0.4019, 0.2598],\n",
            "        [0.3666, 0.0583, 0.7006]])\n",
            "tensor([[0.2299, 0.2161],\n",
            "        [0.2161, 0.6287]])\n"
          ]
        }
      ]
    },
    {
      "cell_type": "code",
      "source": [
        "print(nt_8.min(), nt_8.max())\n",
        "print(nt_8.argmin(), nt_8.argmax())"
      ],
      "metadata": {
        "colab": {
          "base_uri": "https://localhost:8080/"
        },
        "id": "xpG2N8BtbJy1",
        "outputId": "9d295a29-1d08-4627-a4b1-1db47e8d7a75"
      },
      "execution_count": 20,
      "outputs": [
        {
          "output_type": "stream",
          "name": "stdout",
          "text": [
            "tensor(0.2161) tensor(0.6287)\n",
            "tensor(1) tensor(3)\n"
          ]
        }
      ]
    },
    {
      "cell_type": "code",
      "source": [
        "seed = 7\n",
        "torch.manual_seed(seed)\n",
        "nt_9 = torch.rand(1,1,1,10)\n",
        "torch.manual_seed(seed)\n",
        "nt_10 = nt_9.squeeze() #removes dimensions with size 1\n",
        "print(nt_9, nt_9.shape) # or .size()\n",
        "print(nt_10, nt_10.shape)\n"
      ],
      "metadata": {
        "colab": {
          "base_uri": "https://localhost:8080/"
        },
        "id": "_epLC9ohb7wF",
        "outputId": "8807eadd-f6dd-44cd-836e-d15c0fcdddcd"
      },
      "execution_count": 21,
      "outputs": [
        {
          "output_type": "stream",
          "name": "stdout",
          "text": [
            "tensor([[[[0.5349, 0.1988, 0.6592, 0.6569, 0.2328, 0.4251, 0.2071, 0.6297,\n",
            "           0.3653, 0.8513]]]]) torch.Size([1, 1, 1, 10])\n",
            "tensor([0.5349, 0.1988, 0.6592, 0.6569, 0.2328, 0.4251, 0.2071, 0.6297, 0.3653,\n",
            "        0.8513]) torch.Size([10])\n"
          ]
        }
      ]
    },
    {
      "cell_type": "markdown",
      "source": [
        "### Pytorch Workflow\n",
        "1. Get Data Ready -> Prepare and load data\n",
        "2. Build or pick a pretrained model to suit my problem -> Pick a loss function and optimizer -> Build a training loop\n",
        "3. Fit the model to data and make a prediction\n",
        "4. Evaluate the model -> Make predictions\n",
        "5. Improve through experimentation\n",
        "6. Save and reload the model"
      ],
      "metadata": {
        "id": "RDc2OMbEe34g"
      }
    },
    {
      "cell_type": "code",
      "source": [
        "import torch\n",
        "from torch import nn #Has all basic buildig blocks for graphs -> Basic neural network\n",
        "import matplotlib.pyplot as plt\n",
        "\n",
        "#pytorch version\n",
        "torch.__version__"
      ],
      "metadata": {
        "colab": {
          "base_uri": "https://localhost:8080/",
          "height": 36
        },
        "id": "wYVYQld0eywI",
        "outputId": "625cb00c-795a-49a4-cd6f-8d925a219a4b"
      },
      "execution_count": 22,
      "outputs": [
        {
          "output_type": "execute_result",
          "data": {
            "text/plain": [
              "'2.0.1+cu118'"
            ],
            "application/vnd.google.colaboratory.intrinsic+json": {
              "type": "string"
            }
          },
          "metadata": {},
          "execution_count": 22
        }
      ]
    },
    {
      "cell_type": "markdown",
      "source": [
        "## 1. Data (preparing and loading)\n",
        "\n",
        "* Excel spreadsheet\n",
        "* Images of any kind\n",
        "* Videos\n",
        "* Audio\n",
        "* DNA\n",
        "* Text\n",
        "\n",
        "ML is a game of 2 parts:\n",
        "1. Get data into a numerical representation\n",
        "2. Build a model to learn patterns in that numerical representation\n",
        "\n",
        "Linear Regression Formula:\n",
        "* Y = mX + C\n",
        "* Make a straught line with known parameters"
      ],
      "metadata": {
        "id": "W6cTIeH3uyJh"
      }
    },
    {
      "cell_type": "code",
      "source": [
        "#Known Parameters\n",
        "weight = 0.7 # m\n",
        "bias = 0.3 # C\n",
        "\n",
        "#Create data\n",
        "start = 0\n",
        "end = 1\n",
        "step = 0.02\n",
        "X = torch.arange(start, end, step).unsqueeze(dim=1) # Capital - Matrix or tensor -> Unsqueeze adds an extra dimension\n",
        "y = weight * X + bias# Lowercase - Vector\n",
        "X[:10], y[:10]"
      ],
      "metadata": {
        "id": "7F-ABXFXup4v",
        "colab": {
          "base_uri": "https://localhost:8080/"
        },
        "outputId": "d8ce8c67-9c32-4493-89ef-dae040476fb0"
      },
      "execution_count": 25,
      "outputs": [
        {
          "output_type": "execute_result",
          "data": {
            "text/plain": [
              "(tensor([[0.0000],\n",
              "         [0.0200],\n",
              "         [0.0400],\n",
              "         [0.0600],\n",
              "         [0.0800],\n",
              "         [0.1000],\n",
              "         [0.1200],\n",
              "         [0.1400],\n",
              "         [0.1600],\n",
              "         [0.1800]]),\n",
              " tensor([[0.3000],\n",
              "         [0.3140],\n",
              "         [0.3280],\n",
              "         [0.3420],\n",
              "         [0.3560],\n",
              "         [0.3700],\n",
              "         [0.3840],\n",
              "         [0.3980],\n",
              "         [0.4120],\n",
              "         [0.4260]]))"
            ]
          },
          "metadata": {},
          "execution_count": 25
        }
      ]
    },
    {
      "cell_type": "code",
      "source": [
        "len(X), len(y)\n",
        "#I want to learn the representaion of my input and how it maps to the output"
      ],
      "metadata": {
        "colab": {
          "base_uri": "https://localhost:8080/"
        },
        "id": "IqhuRI2nDzS6",
        "outputId": "fbc9c163-fe24-4e4c-f57a-119d93f39ec8"
      },
      "execution_count": 26,
      "outputs": [
        {
          "output_type": "execute_result",
          "data": {
            "text/plain": [
              "(50, 50)"
            ]
          },
          "metadata": {},
          "execution_count": 26
        }
      ]
    },
    {
      "cell_type": "markdown",
      "source": [
        "### Split data to training and testing\n",
        "Helps in generalization -> ability for a machine to perform well on data it hasn't seen before.\n",
        "Course Material (training set -> 60-80%)\n",
        "Practice exam (validation set -> 10-20%)\n",
        "Final exam (test set -> 10-20%)\n",
        "\n",
        "Scikit learn's train test split"
      ],
      "metadata": {
        "id": "yabrp7bkEXH0"
      }
    },
    {
      "cell_type": "code",
      "source": [
        "#Create a train/test split\n",
        "train_split = int(0.8 * len(X))\n",
        "X_train, y_train = X[:train_split], y[:train_split]\n",
        "X_test, y_test = X[train_split:], y[train_split:]\n",
        "\n",
        "len(X_train), len(y_train), len(X_test), len(y_test)"
      ],
      "metadata": {
        "colab": {
          "base_uri": "https://localhost:8080/"
        },
        "id": "Fv6UYoaaFPcT",
        "outputId": "35635d88-330d-44cc-f6d3-29b9152230a8"
      },
      "execution_count": 27,
      "outputs": [
        {
          "output_type": "execute_result",
          "data": {
            "text/plain": [
              "(40, 40, 10, 10)"
            ]
          },
          "metadata": {},
          "execution_count": 27
        }
      ]
    },
    {
      "cell_type": "markdown",
      "source": [
        "Visualize"
      ],
      "metadata": {
        "id": "UMTmjAxKHZNn"
      }
    },
    {
      "cell_type": "code",
      "source": [
        "def plot_predictions(train_data = X_train,\n",
        "                     train_labels=y_train,\n",
        "                     test_data=X_test,\n",
        "                     test_labels=y_test,\n",
        "                     predictions=None\n",
        "                     ):\n",
        "  \"\"\"\n",
        "  Plots training data, test data and compares predictions\n",
        "  \"\"\"\n",
        "  plt.figure(figsize=(10,7))\n",
        "\n",
        "  #Plot training data in blue\n",
        "  plt.scatter(train_data, train_labels, c=\"b\", s=10, label=\"Training data\")\n",
        "\n",
        "  # Plot test data in orange\n",
        "  plt.scatter(test_data, test_labels, c=\"g\", s=20, label=\"Testing data\")\n",
        "\n",
        "  #Predictions\n",
        "  if predictions is not None:\n",
        "    # Plot predictions if they exist\n",
        "    plt.scatter(test_data, predictions, c=\"r\", s=4, label=\"Predictions\")\n",
        "\n",
        "  # Show legend\n",
        "  plt.legend(prop={\"size\": 14})"
      ],
      "metadata": {
        "id": "CfG836ETHNrm"
      },
      "execution_count": 37,
      "outputs": []
    },
    {
      "cell_type": "code",
      "source": [
        "plot_predictions()"
      ],
      "metadata": {
        "colab": {
          "base_uri": "https://localhost:8080/",
          "height": 599
        },
        "id": "h2J-V9ohKSf0",
        "outputId": "d62a44fa-b5da-4809-bfb8-a5720c4b4dcf"
      },
      "execution_count": 38,
      "outputs": [
        {
          "output_type": "display_data",
          "data": {
            "text/plain": [
              "<Figure size 1000x700 with 1 Axes>"
            ],
            "image/png": "[encoded data removed]"
          },
          "metadata": {}
        }
      ]
    },
    {
      "cell_type": "markdown",
      "source": [
        "## Model\n",
        "OOP in python -> Real Python\n",
        "\n",
        "The model runs the random weight and bias values through the forward calculation and adjusts the weight and bias to represent as close as possible if not perfect, the known params.\n",
        "\n",
        "What it does:\n",
        "* Start with random values (weight and bias)\n",
        "* Look at the training data and adjust the random values to better represent (or get closer to) the ideal values (weight and bias we used to create the data).\n",
        "\n",
        "How it does so:\n",
        "1. Gradient descent -> requires-grad=True -> keeps track of the weights and bias parameters and updates them using a combination of the 2\n",
        "2. Back propagation"
      ],
      "metadata": {
        "id": "hnLj__8JLyaY"
      }
    },
    {
      "cell_type": "code",
      "source": [
        "#Linear Regression model class\n",
        "class LinearRegressionModel(nn.Module): #<-Inherit almost everything on Pytorch - Base class for all neural network modules\n",
        "  def __init__(self): #Constructor\n",
        "    super().__init__()\n",
        "    self.weights = nn.Parameter(torch.randn(1,\n",
        "                                            requires_grad=True,\n",
        "                                            dtype=torch.float32))\n",
        "    self.bias = nn.Parameter(torch.randn(1,\n",
        "                                         requires_grad=True,\n",
        "                                         dtype=torch.float))\n",
        "\n",
        "    #Forward method to define the computation in model\n",
        "    def forward(self, x: torch.Tensor) -> torch.Tensor: #x is the input data\n",
        "      return self.weights * x +  self.bias\n",
        "\n",
        "\n"
      ],
      "metadata": {
        "id": "dGSvuUsJL3Ob"
      },
      "execution_count": null,
      "outputs": []
    }
  ]
}