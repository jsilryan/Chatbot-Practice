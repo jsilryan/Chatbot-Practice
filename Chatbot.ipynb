{
  "nbformat": 4,
  "nbformat_minor": 0,
  "metadata": {
    "colab": {
      "provenance": []
    },
    "kernelspec": {
      "name": "python3",
      "display_name": "Python 3"
    },
    "language_info": {
      "name": "python"
    },
    "widgets": {
      "application/vnd.jupyter.widget-state+json": {
        "b0161e6066cf4d8cb94d7b42282388f4": {
          "model_module": "@jupyter-widgets/controls",
          "model_name": "HBoxModel",
          "model_module_version": "1.5.0",
          "state": {
            "_dom_classes": [],
            "_model_module": "@jupyter-widgets/controls",
            "_model_module_version": "1.5.0",
            "_model_name": "HBoxModel",
            "_view_count": null,
            "_view_module": "@jupyter-widgets/controls",
            "_view_module_version": "1.5.0",
            "_view_name": "HBoxView",
            "box_style": "",
            "children": [
              "IPY_MODEL_827e04e3a4bb4ce495d2bb327eeecb19",
              "IPY_MODEL_5a66b4726c09450fb16c6cbdd4835394",
              "IPY_MODEL_e8beb8debabb4cc89b2b8c543f974774"
            ],
            "layout": "IPY_MODEL_2c4908f05deb4234a5123cb5b1aca7f2"
          }
        },
        "827e04e3a4bb4ce495d2bb327eeecb19": {
          "model_module": "@jupyter-widgets/controls",
          "model_name": "HTMLModel",
          "model_module_version": "1.5.0",
          "state": {
            "_dom_classes": [],
            "_model_module": "@jupyter-widgets/controls",
            "_model_module_version": "1.5.0",
            "_model_name": "HTMLModel",
            "_view_count": null,
            "_view_module": "@jupyter-widgets/controls",
            "_view_module_version": "1.5.0",
            "_view_name": "HTMLView",
            "description": "",
            "description_tooltip": null,
            "layout": "IPY_MODEL_eaba7004ff2d4b3d963b111bbcc58803",
            "placeholder": "​",
            "style": "IPY_MODEL_e7cfade51b2545af86c95efbb94b01bd",
            "value": "Downloading (…)solve/main/vocab.txt: 100%"
          }
        },
        "5a66b4726c09450fb16c6cbdd4835394": {
          "model_module": "@jupyter-widgets/controls",
          "model_name": "FloatProgressModel",
          "model_module_version": "1.5.0",
          "state": {
            "_dom_classes": [],
            "_model_module": "@jupyter-widgets/controls",
            "_model_module_version": "1.5.0",
            "_model_name": "FloatProgressModel",
            "_view_count": null,
            "_view_module": "@jupyter-widgets/controls",
            "_view_module_version": "1.5.0",
            "_view_name": "ProgressView",
            "bar_style": "success",
            "description": "",
            "description_tooltip": null,
            "layout": "IPY_MODEL_b853ea3f1a1e4554b77463f51ef1e223",
            "max": 231508,
            "min": 0,
            "orientation": "horizontal",
            "style": "IPY_MODEL_6d0758ff573344f2a0e4200f20b24e33",
            "value": 231508
          }
        },
        "e8beb8debabb4cc89b2b8c543f974774": {
          "model_module": "@jupyter-widgets/controls",
          "model_name": "HTMLModel",
          "model_module_version": "1.5.0",
          "state": {
            "_dom_classes": [],
            "_model_module": "@jupyter-widgets/controls",
            "_model_module_version": "1.5.0",
            "_model_name": "HTMLModel",
            "_view_count": null,
            "_view_module": "@jupyter-widgets/controls",
            "_view_module_version": "1.5.0",
            "_view_name": "HTMLView",
            "description": "",
            "description_tooltip": null,
            "layout": "IPY_MODEL_0d95ed75fec6443f9f4557945efe79d7",
            "placeholder": "​",
            "style": "IPY_MODEL_15cf51aaf38243c583f8c304ade93e35",
            "value": " 232k/232k [00:00&lt;00:00, 2.77MB/s]"
          }
        },
        "2c4908f05deb4234a5123cb5b1aca7f2": {
          "model_module": "@jupyter-widgets/base",
          "model_name": "LayoutModel",
          "model_module_version": "1.2.0",
          "state": {
            "_model_module": "@jupyter-widgets/base",
            "_model_module_version": "1.2.0",
            "_model_name": "LayoutModel",
            "_view_count": null,
            "_view_module": "@jupyter-widgets/base",
            "_view_module_version": "1.2.0",
            "_view_name": "LayoutView",
            "align_content": null,
            "align_items": null,
            "align_self": null,
            "border": null,
            "bottom": null,
            "display": null,
            "flex": null,
            "flex_flow": null,
            "grid_area": null,
            "grid_auto_columns": null,
            "grid_auto_flow": null,
            "grid_auto_rows": null,
            "grid_column": null,
            "grid_gap": null,
            "grid_row": null,
            "grid_template_areas": null,
            "grid_template_columns": null,
            "grid_template_rows": null,
            "height": null,
            "justify_content": null,
            "justify_items": null,
            "left": null,
            "margin": null,
            "max_height": null,
            "max_width": null,
            "min_height": null,
            "min_width": null,
            "object_fit": null,
            "object_position": null,
            "order": null,
            "overflow": null,
            "overflow_x": null,
            "overflow_y": null,
            "padding": null,
            "right": null,
            "top": null,
            "visibility": null,
            "width": null
          }
        },
        "eaba7004ff2d4b3d963b111bbcc58803": {
          "model_module": "@jupyter-widgets/base",
          "model_name": "LayoutModel",
          "model_module_version": "1.2.0",
          "state": {
            "_model_module": "@jupyter-widgets/base",
            "_model_module_version": "1.2.0",
            "_model_name": "LayoutModel",
            "_view_count": null,
            "_view_module": "@jupyter-widgets/base",
            "_view_module_version": "1.2.0",
            "_view_name": "LayoutView",
            "align_content": null,
            "align_items": null,
            "align_self": null,
            "border": null,
            "bottom": null,
            "display": null,
            "flex": null,
            "flex_flow": null,
            "grid_area": null,
            "grid_auto_columns": null,
            "grid_auto_flow": null,
            "grid_auto_rows": null,
            "grid_column": null,
            "grid_gap": null,
            "grid_row": null,
            "grid_template_areas": null,
            "grid_template_columns": null,
            "grid_template_rows": null,
            "height": null,
            "justify_content": null,
            "justify_items": null,
            "left": null,
            "margin": null,
            "max_height": null,
            "max_width": null,
            "min_height": null,
            "min_width": null,
            "object_fit": null,
            "object_position": null,
            "order": null,
            "overflow": null,
            "overflow_x": null,
            "overflow_y": null,
            "padding": null,
            "right": null,
            "top": null,
            "visibility": null,
            "width": null
          }
        },
        "e7cfade51b2545af86c95efbb94b01bd": {
          "model_module": "@jupyter-widgets/controls",
          "model_name": "DescriptionStyleModel",
          "model_module_version": "1.5.0",
          "state": {
            "_model_module": "@jupyter-widgets/controls",
            "_model_module_version": "1.5.0",
            "_model_name": "DescriptionStyleModel",
            "_view_count": null,
            "_view_module": "@jupyter-widgets/base",
            "_view_module_version": "1.2.0",
            "_view_name": "StyleView",
            "description_width": ""
          }
        },
        "b853ea3f1a1e4554b77463f51ef1e223": {
          "model_module": "@jupyter-widgets/base",
          "model_name": "LayoutModel",
          "model_module_version": "1.2.0",
          "state": {
            "_model_module": "@jupyter-widgets/base",
            "_model_module_version": "1.2.0",
            "_model_name": "LayoutModel",
            "_view_count": null,
            "_view_module": "@jupyter-widgets/base",
            "_view_module_version": "1.2.0",
            "_view_name": "LayoutView",
            "align_content": null,
            "align_items": null,
            "align_self": null,
            "border": null,
            "bottom": null,
            "display": null,
            "flex": null,
            "flex_flow": null,
            "grid_area": null,
            "grid_auto_columns": null,
            "grid_auto_flow": null,
            "grid_auto_rows": null,
            "grid_column": null,
            "grid_gap": null,
            "grid_row": null,
            "grid_template_areas": null,
            "grid_template_columns": null,
            "grid_template_rows": null,
            "height": null,
            "justify_content": null,
            "justify_items": null,
            "left": null,
            "margin": null,
            "max_height": null,
            "max_width": null,
            "min_height": null,
            "min_width": null,
            "object_fit": null,
            "object_position": null,
            "order": null,
            "overflow": null,
            "overflow_x": null,
            "overflow_y": null,
            "padding": null,
            "right": null,
            "top": null,
            "visibility": null,
            "width": null
          }
        },
        "6d0758ff573344f2a0e4200f20b24e33": {
          "model_module": "@jupyter-widgets/controls",
          "model_name": "ProgressStyleModel",
          "model_module_version": "1.5.0",
          "state": {
            "_model_module": "@jupyter-widgets/controls",
            "_model_module_version": "1.5.0",
            "_model_name": "ProgressStyleModel",
            "_view_count": null,
            "_view_module": "@jupyter-widgets/base",
            "_view_module_version": "1.2.0",
            "_view_name": "StyleView",
            "bar_color": null,
            "description_width": ""
          }
        },
        "0d95ed75fec6443f9f4557945efe79d7": {
          "model_module": "@jupyter-widgets/base",
          "model_name": "LayoutModel",
          "model_module_version": "1.2.0",
          "state": {
            "_model_module": "@jupyter-widgets/base",
            "_model_module_version": "1.2.0",
            "_model_name": "LayoutModel",
            "_view_count": null,
            "_view_module": "@jupyter-widgets/base",
            "_view_module_version": "1.2.0",
            "_view_name": "LayoutView",
            "align_content": null,
            "align_items": null,
            "align_self": null,
            "border": null,
            "bottom": null,
            "display": null,
            "flex": null,
            "flex_flow": null,
            "grid_area": null,
            "grid_auto_columns": null,
            "grid_auto_flow": null,
            "grid_auto_rows": null,
            "grid_column": null,
            "grid_gap": null,
            "grid_row": null,
            "grid_template_areas": null,
            "grid_template_columns": null,
            "grid_template_rows": null,
            "height": null,
            "justify_content": null,
            "justify_items": null,
            "left": null,
            "margin": null,
            "max_height": null,
            "max_width": null,
            "min_height": null,
            "min_width": null,
            "object_fit": null,
            "object_position": null,
            "order": null,
            "overflow": null,
            "overflow_x": null,
            "overflow_y": null,
            "padding": null,
            "right": null,
            "top": null,
            "visibility": null,
            "width": null
          }
        },
        "15cf51aaf38243c583f8c304ade93e35": {
          "model_module": "@jupyter-widgets/controls",
          "model_name": "DescriptionStyleModel",
          "model_module_version": "1.5.0",
          "state": {
            "_model_module": "@jupyter-widgets/controls",
            "_model_module_version": "1.5.0",
            "_model_name": "DescriptionStyleModel",
            "_view_count": null,
            "_view_module": "@jupyter-widgets/base",
            "_view_module_version": "1.2.0",
            "_view_name": "StyleView",
            "description_width": ""
          }
        },
        "2848e86ee4ea48bca742b6226f16728e": {
          "model_module": "@jupyter-widgets/controls",
          "model_name": "HBoxModel",
          "model_module_version": "1.5.0",
          "state": {
            "_dom_classes": [],
            "_model_module": "@jupyter-widgets/controls",
            "_model_module_version": "1.5.0",
            "_model_name": "HBoxModel",
            "_view_count": null,
            "_view_module": "@jupyter-widgets/controls",
            "_view_module_version": "1.5.0",
            "_view_name": "HBoxView",
            "box_style": "",
            "children": [
              "IPY_MODEL_46d797c339804217870d001929224415",
              "IPY_MODEL_35d0ae3ed59f46c1839638103905e6eb",
              "IPY_MODEL_0a61cdda1ae846a0ae3c75e62603a516"
            ],
            "layout": "IPY_MODEL_5912cb3b9cc04c4fa15b84b5f2a1aadf"
          }
        },
        "46d797c339804217870d001929224415": {
          "model_module": "@jupyter-widgets/controls",
          "model_name": "HTMLModel",
          "model_module_version": "1.5.0",
          "state": {
            "_dom_classes": [],
            "_model_module": "@jupyter-widgets/controls",
            "_model_module_version": "1.5.0",
            "_model_name": "HTMLModel",
            "_view_count": null,
            "_view_module": "@jupyter-widgets/controls",
            "_view_module_version": "1.5.0",
            "_view_name": "HTMLView",
            "description": "",
            "description_tooltip": null,
            "layout": "IPY_MODEL_f965957155d94241bbc1fdf5922b8393",
            "placeholder": "​",
            "style": "IPY_MODEL_831ea378dfb24a95bc5aca1ff03b8acb",
            "value": "Downloading (…)okenizer_config.json: 100%"
          }
        },
        "35d0ae3ed59f46c1839638103905e6eb": {
          "model_module": "@jupyter-widgets/controls",
          "model_name": "FloatProgressModel",
          "model_module_version": "1.5.0",
          "state": {
            "_dom_classes": [],
            "_model_module": "@jupyter-widgets/controls",
            "_model_module_version": "1.5.0",
            "_model_name": "FloatProgressModel",
            "_view_count": null,
            "_view_module": "@jupyter-widgets/controls",
            "_view_module_version": "1.5.0",
            "_view_name": "ProgressView",
            "bar_style": "success",
            "description": "",
            "description_tooltip": null,
            "layout": "IPY_MODEL_07420ee11d4544fbab3554639310f702",
            "max": 28,
            "min": 0,
            "orientation": "horizontal",
            "style": "IPY_MODEL_91653bcf90d64e2383ab059071007708",
            "value": 28
          }
        },
        "0a61cdda1ae846a0ae3c75e62603a516": {
          "model_module": "@jupyter-widgets/controls",
          "model_name": "HTMLModel",
          "model_module_version": "1.5.0",
          "state": {
            "_dom_classes": [],
            "_model_module": "@jupyter-widgets/controls",
            "_model_module_version": "1.5.0",
            "_model_name": "HTMLModel",
            "_view_count": null,
            "_view_module": "@jupyter-widgets/controls",
            "_view_module_version": "1.5.0",
            "_view_name": "HTMLView",
            "description": "",
            "description_tooltip": null,
            "layout": "IPY_MODEL_d46c13ba2acc476f89f83e9dfc19edde",
            "placeholder": "​",
            "style": "IPY_MODEL_aff639ad6a6843eda60edfbc7dab15cc",
            "value": " 28.0/28.0 [00:00&lt;00:00, 303B/s]"
          }
        },
        "5912cb3b9cc04c4fa15b84b5f2a1aadf": {
          "model_module": "@jupyter-widgets/base",
          "model_name": "LayoutModel",
          "model_module_version": "1.2.0",
          "state": {
            "_model_module": "@jupyter-widgets/base",
            "_model_module_version": "1.2.0",
            "_model_name": "LayoutModel",
            "_view_count": null,
            "_view_module": "@jupyter-widgets/base",
            "_view_module_version": "1.2.0",
            "_view_name": "LayoutView",
            "align_content": null,
            "align_items": null,
            "align_self": null,
            "border": null,
            "bottom": null,
            "display": null,
            "flex": null,
            "flex_flow": null,
            "grid_area": null,
            "grid_auto_columns": null,
            "grid_auto_flow": null,
            "grid_auto_rows": null,
            "grid_column": null,
            "grid_gap": null,
            "grid_row": null,
            "grid_template_areas": null,
            "grid_template_columns": null,
            "grid_template_rows": null,
            "height": null,
            "justify_content": null,
            "justify_items": null,
            "left": null,
            "margin": null,
            "max_height": null,
            "max_width": null,
            "min_height": null,
            "min_width": null,
            "object_fit": null,
            "object_position": null,
            "order": null,
            "overflow": null,
            "overflow_x": null,
            "overflow_y": null,
            "padding": null,
            "right": null,
            "top": null,
            "visibility": null,
            "width": null
          }
        },
        "f965957155d94241bbc1fdf5922b8393": {
          "model_module": "@jupyter-widgets/base",
          "model_name": "LayoutModel",
          "model_module_version": "1.2.0",
          "state": {
            "_model_module": "@jupyter-widgets/base",
            "_model_module_version": "1.2.0",
            "_model_name": "LayoutModel",
            "_view_count": null,
            "_view_module": "@jupyter-widgets/base",
            "_view_module_version": "1.2.0",
            "_view_name": "LayoutView",
            "align_content": null,
            "align_items": null,
            "align_self": null,
            "border": null,
            "bottom": null,
            "display": null,
            "flex": null,
            "flex_flow": null,
            "grid_area": null,
            "grid_auto_columns": null,
            "grid_auto_flow": null,
            "grid_auto_rows": null,
            "grid_column": null,
            "grid_gap": null,
            "grid_row": null,
            "grid_template_areas": null,
            "grid_template_columns": null,
            "grid_template_rows": null,
            "height": null,
            "justify_content": null,
            "justify_items": null,
            "left": null,
            "margin": null,
            "max_height": null,
            "max_width": null,
            "min_height": null,
            "min_width": null,
            "object_fit": null,
            "object_position": null,
            "order": null,
            "overflow": null,
            "overflow_x": null,
            "overflow_y": null,
            "padding": null,
            "right": null,
            "top": null,
            "visibility": null,
            "width": null
          }
        },
        "831ea378dfb24a95bc5aca1ff03b8acb": {
          "model_module": "@jupyter-widgets/controls",
          "model_name": "DescriptionStyleModel",
          "model_module_version": "1.5.0",
          "state": {
            "_model_module": "@jupyter-widgets/controls",
            "_model_module_version": "1.5.0",
            "_model_name": "DescriptionStyleModel",
            "_view_count": null,
            "_view_module": "@jupyter-widgets/base",
            "_view_module_version": "1.2.0",
            "_view_name": "StyleView",
            "description_width": ""
          }
        },
        "07420ee11d4544fbab3554639310f702": {
          "model_module": "@jupyter-widgets/base",
          "model_name": "LayoutModel",
          "model_module_version": "1.2.0",
          "state": {
            "_model_module": "@jupyter-widgets/base",
            "_model_module_version": "1.2.0",
            "_model_name": "LayoutModel",
            "_view_count": null,
            "_view_module": "@jupyter-widgets/base",
            "_view_module_version": "1.2.0",
            "_view_name": "LayoutView",
            "align_content": null,
            "align_items": null,
            "align_self": null,
            "border": null,
            "bottom": null,
            "display": null,
            "flex": null,
            "flex_flow": null,
            "grid_area": null,
            "grid_auto_columns": null,
            "grid_auto_flow": null,
            "grid_auto_rows": null,
            "grid_column": null,
            "grid_gap": null,
            "grid_row": null,
            "grid_template_areas": null,
            "grid_template_columns": null,
            "grid_template_rows": null,
            "height": null,
            "justify_content": null,
            "justify_items": null,
            "left": null,
            "margin": null,
            "max_height": null,
            "max_width": null,
            "min_height": null,
            "min_width": null,
            "object_fit": null,
            "object_position": null,
            "order": null,
            "overflow": null,
            "overflow_x": null,
            "overflow_y": null,
            "padding": null,
            "right": null,
            "top": null,
            "visibility": null,
            "width": null
          }
        },
        "91653bcf90d64e2383ab059071007708": {
          "model_module": "@jupyter-widgets/controls",
          "model_name": "ProgressStyleModel",
          "model_module_version": "1.5.0",
          "state": {
            "_model_module": "@jupyter-widgets/controls",
            "_model_module_version": "1.5.0",
            "_model_name": "ProgressStyleModel",
            "_view_count": null,
            "_view_module": "@jupyter-widgets/base",
            "_view_module_version": "1.2.0",
            "_view_name": "StyleView",
            "bar_color": null,
            "description_width": ""
          }
        },
        "d46c13ba2acc476f89f83e9dfc19edde": {
          "model_module": "@jupyter-widgets/base",
          "model_name": "LayoutModel",
          "model_module_version": "1.2.0",
          "state": {
            "_model_module": "@jupyter-widgets/base",
            "_model_module_version": "1.2.0",
            "_model_name": "LayoutModel",
            "_view_count": null,
            "_view_module": "@jupyter-widgets/base",
            "_view_module_version": "1.2.0",
            "_view_name": "LayoutView",
            "align_content": null,
            "align_items": null,
            "align_self": null,
            "border": null,
            "bottom": null,
            "display": null,
            "flex": null,
            "flex_flow": null,
            "grid_area": null,
            "grid_auto_columns": null,
            "grid_auto_flow": null,
            "grid_auto_rows": null,
            "grid_column": null,
            "grid_gap": null,
            "grid_row": null,
            "grid_template_areas": null,
            "grid_template_columns": null,
            "grid_template_rows": null,
            "height": null,
            "justify_content": null,
            "justify_items": null,
            "left": null,
            "margin": null,
            "max_height": null,
            "max_width": null,
            "min_height": null,
            "min_width": null,
            "object_fit": null,
            "object_position": null,
            "order": null,
            "overflow": null,
            "overflow_x": null,
            "overflow_y": null,
            "padding": null,
            "right": null,
            "top": null,
            "visibility": null,
            "width": null
          }
        },
        "aff639ad6a6843eda60edfbc7dab15cc": {
          "model_module": "@jupyter-widgets/controls",
          "model_name": "DescriptionStyleModel",
          "model_module_version": "1.5.0",
          "state": {
            "_model_module": "@jupyter-widgets/controls",
            "_model_module_version": "1.5.0",
            "_model_name": "DescriptionStyleModel",
            "_view_count": null,
            "_view_module": "@jupyter-widgets/base",
            "_view_module_version": "1.2.0",
            "_view_name": "StyleView",
            "description_width": ""
          }
        },
        "e2a01045bf4b4d64b45c17e512770745": {
          "model_module": "@jupyter-widgets/controls",
          "model_name": "HBoxModel",
          "model_module_version": "1.5.0",
          "state": {
            "_dom_classes": [],
            "_model_module": "@jupyter-widgets/controls",
            "_model_module_version": "1.5.0",
            "_model_name": "HBoxModel",
            "_view_count": null,
            "_view_module": "@jupyter-widgets/controls",
            "_view_module_version": "1.5.0",
            "_view_name": "HBoxView",
            "box_style": "",
            "children": [
              "IPY_MODEL_0b3c76d4eb514e5b8229ed5baf871db9",
              "IPY_MODEL_213e7ce5a1f64605a5fd89d8aa226b3a",
              "IPY_MODEL_337efec88a7e40979932222a3e6aeaca"
            ],
            "layout": "IPY_MODEL_61d276b5896a47569d58ea6d24228ae3"
          }
        },
        "0b3c76d4eb514e5b8229ed5baf871db9": {
          "model_module": "@jupyter-widgets/controls",
          "model_name": "HTMLModel",
          "model_module_version": "1.5.0",
          "state": {
            "_dom_classes": [],
            "_model_module": "@jupyter-widgets/controls",
            "_model_module_version": "1.5.0",
            "_model_name": "HTMLModel",
            "_view_count": null,
            "_view_module": "@jupyter-widgets/controls",
            "_view_module_version": "1.5.0",
            "_view_name": "HTMLView",
            "description": "",
            "description_tooltip": null,
            "layout": "IPY_MODEL_9a0e6092410c487b9b0ab0aacdfa91c3",
            "placeholder": "​",
            "style": "IPY_MODEL_512a3217e931440b88c71aa3a9f8ca42",
            "value": "Downloading (…)lve/main/config.json: 100%"
          }
        },
        "213e7ce5a1f64605a5fd89d8aa226b3a": {
          "model_module": "@jupyter-widgets/controls",
          "model_name": "FloatProgressModel",
          "model_module_version": "1.5.0",
          "state": {
            "_dom_classes": [],
            "_model_module": "@jupyter-widgets/controls",
            "_model_module_version": "1.5.0",
            "_model_name": "FloatProgressModel",
            "_view_count": null,
            "_view_module": "@jupyter-widgets/controls",
            "_view_module_version": "1.5.0",
            "_view_name": "ProgressView",
            "bar_style": "success",
            "description": "",
            "description_tooltip": null,
            "layout": "IPY_MODEL_c658145d471a444aa52b0b4bb7d901e2",
            "max": 483,
            "min": 0,
            "orientation": "horizontal",
            "style": "IPY_MODEL_bded464fdb364089a3493dbf37422dcd",
            "value": 483
          }
        },
        "337efec88a7e40979932222a3e6aeaca": {
          "model_module": "@jupyter-widgets/controls",
          "model_name": "HTMLModel",
          "model_module_version": "1.5.0",
          "state": {
            "_dom_classes": [],
            "_model_module": "@jupyter-widgets/controls",
            "_model_module_version": "1.5.0",
            "_model_name": "HTMLModel",
            "_view_count": null,
            "_view_module": "@jupyter-widgets/controls",
            "_view_module_version": "1.5.0",
            "_view_name": "HTMLView",
            "description": "",
            "description_tooltip": null,
            "layout": "IPY_MODEL_023971c6a40142148aca11fe9b58d673",
            "placeholder": "​",
            "style": "IPY_MODEL_1e22abf051e14d3ebee8ccf14d55ec10",
            "value": " 483/483 [00:00&lt;00:00, 9.73kB/s]"
          }
        },
        "61d276b5896a47569d58ea6d24228ae3": {
          "model_module": "@jupyter-widgets/base",
          "model_name": "LayoutModel",
          "model_module_version": "1.2.0",
          "state": {
            "_model_module": "@jupyter-widgets/base",
            "_model_module_version": "1.2.0",
            "_model_name": "LayoutModel",
            "_view_count": null,
            "_view_module": "@jupyter-widgets/base",
            "_view_module_version": "1.2.0",
            "_view_name": "LayoutView",
            "align_content": null,
            "align_items": null,
            "align_self": null,
            "border": null,
            "bottom": null,
            "display": null,
            "flex": null,
            "flex_flow": null,
            "grid_area": null,
            "grid_auto_columns": null,
            "grid_auto_flow": null,
            "grid_auto_rows": null,
            "grid_column": null,
            "grid_gap": null,
            "grid_row": null,
            "grid_template_areas": null,
            "grid_template_columns": null,
            "grid_template_rows": null,
            "height": null,
            "justify_content": null,
            "justify_items": null,
            "left": null,
            "margin": null,
            "max_height": null,
            "max_width": null,
            "min_height": null,
            "min_width": null,
            "object_fit": null,
            "object_position": null,
            "order": null,
            "overflow": null,
            "overflow_x": null,
            "overflow_y": null,
            "padding": null,
            "right": null,
            "top": null,
            "visibility": null,
            "width": null
          }
        },
        "9a0e6092410c487b9b0ab0aacdfa91c3": {
          "model_module": "@jupyter-widgets/base",
          "model_name": "LayoutModel",
          "model_module_version": "1.2.0",
          "state": {
            "_model_module": "@jupyter-widgets/base",
            "_model_module_version": "1.2.0",
            "_model_name": "LayoutModel",
            "_view_count": null,
            "_view_module": "@jupyter-widgets/base",
            "_view_module_version": "1.2.0",
            "_view_name": "LayoutView",
            "align_content": null,
            "align_items": null,
            "align_self": null,
            "border": null,
            "bottom": null,
            "display": null,
            "flex": null,
            "flex_flow": null,
            "grid_area": null,
            "grid_auto_columns": null,
            "grid_auto_flow": null,
            "grid_auto_rows": null,
            "grid_column": null,
            "grid_gap": null,
            "grid_row": null,
            "grid_template_areas": null,
            "grid_template_columns": null,
            "grid_template_rows": null,
            "height": null,
            "justify_content": null,
            "justify_items": null,
            "left": null,
            "margin": null,
            "max_height": null,
            "max_width": null,
            "min_height": null,
            "min_width": null,
            "object_fit": null,
            "object_position": null,
            "order": null,
            "overflow": null,
            "overflow_x": null,
            "overflow_y": null,
            "padding": null,
            "right": null,
            "top": null,
            "visibility": null,
            "width": null
          }
        },
        "512a3217e931440b88c71aa3a9f8ca42": {
          "model_module": "@jupyter-widgets/controls",
          "model_name": "DescriptionStyleModel",
          "model_module_version": "1.5.0",
          "state": {
            "_model_module": "@jupyter-widgets/controls",
            "_model_module_version": "1.5.0",
            "_model_name": "DescriptionStyleModel",
            "_view_count": null,
            "_view_module": "@jupyter-widgets/base",
            "_view_module_version": "1.2.0",
            "_view_name": "StyleView",
            "description_width": ""
          }
        },
        "c658145d471a444aa52b0b4bb7d901e2": {
          "model_module": "@jupyter-widgets/base",
          "model_name": "LayoutModel",
          "model_module_version": "1.2.0",
          "state": {
            "_model_module": "@jupyter-widgets/base",
            "_model_module_version": "1.2.0",
            "_model_name": "LayoutModel",
            "_view_count": null,
            "_view_module": "@jupyter-widgets/base",
            "_view_module_version": "1.2.0",
            "_view_name": "LayoutView",
            "align_content": null,
            "align_items": null,
            "align_self": null,
            "border": null,
            "bottom": null,
            "display": null,
            "flex": null,
            "flex_flow": null,
            "grid_area": null,
            "grid_auto_columns": null,
            "grid_auto_flow": null,
            "grid_auto_rows": null,
            "grid_column": null,
            "grid_gap": null,
            "grid_row": null,
            "grid_template_areas": null,
            "grid_template_columns": null,
            "grid_template_rows": null,
            "height": null,
            "justify_content": null,
            "justify_items": null,
            "left": null,
            "margin": null,
            "max_height": null,
            "max_width": null,
            "min_height": null,
            "min_width": null,
            "object_fit": null,
            "object_position": null,
            "order": null,
            "overflow": null,
            "overflow_x": null,
            "overflow_y": null,
            "padding": null,
            "right": null,
            "top": null,
            "visibility": null,
            "width": null
          }
        },
        "bded464fdb364089a3493dbf37422dcd": {
          "model_module": "@jupyter-widgets/controls",
          "model_name": "ProgressStyleModel",
          "model_module_version": "1.5.0",
          "state": {
            "_model_module": "@jupyter-widgets/controls",
            "_model_module_version": "1.5.0",
            "_model_name": "ProgressStyleModel",
            "_view_count": null,
            "_view_module": "@jupyter-widgets/base",
            "_view_module_version": "1.2.0",
            "_view_name": "StyleView",
            "bar_color": null,
            "description_width": ""
          }
        },
        "023971c6a40142148aca11fe9b58d673": {
          "model_module": "@jupyter-widgets/base",
          "model_name": "LayoutModel",
          "model_module_version": "1.2.0",
          "state": {
            "_model_module": "@jupyter-widgets/base",
            "_model_module_version": "1.2.0",
            "_model_name": "LayoutModel",
            "_view_count": null,
            "_view_module": "@jupyter-widgets/base",
            "_view_module_version": "1.2.0",
            "_view_name": "LayoutView",
            "align_content": null,
            "align_items": null,
            "align_self": null,
            "border": null,
            "bottom": null,
            "display": null,
            "flex": null,
            "flex_flow": null,
            "grid_area": null,
            "grid_auto_columns": null,
            "grid_auto_flow": null,
            "grid_auto_rows": null,
            "grid_column": null,
            "grid_gap": null,
            "grid_row": null,
            "grid_template_areas": null,
            "grid_template_columns": null,
            "grid_template_rows": null,
            "height": null,
            "justify_content": null,
            "justify_items": null,
            "left": null,
            "margin": null,
            "max_height": null,
            "max_width": null,
            "min_height": null,
            "min_width": null,
            "object_fit": null,
            "object_position": null,
            "order": null,
            "overflow": null,
            "overflow_x": null,
            "overflow_y": null,
            "padding": null,
            "right": null,
            "top": null,
            "visibility": null,
            "width": null
          }
        },
        "1e22abf051e14d3ebee8ccf14d55ec10": {
          "model_module": "@jupyter-widgets/controls",
          "model_name": "DescriptionStyleModel",
          "model_module_version": "1.5.0",
          "state": {
            "_model_module": "@jupyter-widgets/controls",
            "_model_module_version": "1.5.0",
            "_model_name": "DescriptionStyleModel",
            "_view_count": null,
            "_view_module": "@jupyter-widgets/base",
            "_view_module_version": "1.2.0",
            "_view_name": "StyleView",
            "description_width": ""
          }
        },
        "590da65dd7d64ca88963d059f0959825": {
          "model_module": "@jupyter-widgets/controls",
          "model_name": "HBoxModel",
          "model_module_version": "1.5.0",
          "state": {
            "_dom_classes": [],
            "_model_module": "@jupyter-widgets/controls",
            "_model_module_version": "1.5.0",
            "_model_name": "HBoxModel",
            "_view_count": null,
            "_view_module": "@jupyter-widgets/controls",
            "_view_module_version": "1.5.0",
            "_view_name": "HBoxView",
            "box_style": "",
            "children": [
              "IPY_MODEL_ca4f065f0d1248da938326ab230aec19",
              "IPY_MODEL_e08a127a11714d4eab7f0755c39bf385",
              "IPY_MODEL_6df461c99ed84d668d960c0f4c9e6e98"
            ],
            "layout": "IPY_MODEL_9dc253acc43d42639cef40fa69545b7f"
          }
        },
        "ca4f065f0d1248da938326ab230aec19": {
          "model_module": "@jupyter-widgets/controls",
          "model_name": "HTMLModel",
          "model_module_version": "1.5.0",
          "state": {
            "_dom_classes": [],
            "_model_module": "@jupyter-widgets/controls",
            "_model_module_version": "1.5.0",
            "_model_name": "HTMLModel",
            "_view_count": null,
            "_view_module": "@jupyter-widgets/controls",
            "_view_module_version": "1.5.0",
            "_view_name": "HTMLView",
            "description": "",
            "description_tooltip": null,
            "layout": "IPY_MODEL_485d81d50b0741d991fb31ca8cf6aa67",
            "placeholder": "​",
            "style": "IPY_MODEL_6cb4a7a6afa846c5b3f1f91d5eab9c14",
            "value": "Downloading tf_model.h5: 100%"
          }
        },
        "e08a127a11714d4eab7f0755c39bf385": {
          "model_module": "@jupyter-widgets/controls",
          "model_name": "FloatProgressModel",
          "model_module_version": "1.5.0",
          "state": {
            "_dom_classes": [],
            "_model_module": "@jupyter-widgets/controls",
            "_model_module_version": "1.5.0",
            "_model_name": "FloatProgressModel",
            "_view_count": null,
            "_view_module": "@jupyter-widgets/controls",
            "_view_module_version": "1.5.0",
            "_view_name": "ProgressView",
            "bar_style": "success",
            "description": "",
            "description_tooltip": null,
            "layout": "IPY_MODEL_3b23fce4b06c4fcd9a7d6405d1bb4e3f",
            "max": 363423424,
            "min": 0,
            "orientation": "horizontal",
            "style": "IPY_MODEL_d79e6e3dd28948f4a887279120f3cf13",
            "value": 363423424
          }
        },
        "6df461c99ed84d668d960c0f4c9e6e98": {
          "model_module": "@jupyter-widgets/controls",
          "model_name": "HTMLModel",
          "model_module_version": "1.5.0",
          "state": {
            "_dom_classes": [],
            "_model_module": "@jupyter-widgets/controls",
            "_model_module_version": "1.5.0",
            "_model_name": "HTMLModel",
            "_view_count": null,
            "_view_module": "@jupyter-widgets/controls",
            "_view_module_version": "1.5.0",
            "_view_name": "HTMLView",
            "description": "",
            "description_tooltip": null,
            "layout": "IPY_MODEL_c139b069433545d890a82ed1ac18eef9",
            "placeholder": "​",
            "style": "IPY_MODEL_a9c328df56c649759475f63d027e17f0",
            "value": " 363M/363M [00:07&lt;00:00, 78.8MB/s]"
          }
        },
        "9dc253acc43d42639cef40fa69545b7f": {
          "model_module": "@jupyter-widgets/base",
          "model_name": "LayoutModel",
          "model_module_version": "1.2.0",
          "state": {
            "_model_module": "@jupyter-widgets/base",
            "_model_module_version": "1.2.0",
            "_model_name": "LayoutModel",
            "_view_count": null,
            "_view_module": "@jupyter-widgets/base",
            "_view_module_version": "1.2.0",
            "_view_name": "LayoutView",
            "align_content": null,
            "align_items": null,
            "align_self": null,
            "border": null,
            "bottom": null,
            "display": null,
            "flex": null,
            "flex_flow": null,
            "grid_area": null,
            "grid_auto_columns": null,
            "grid_auto_flow": null,
            "grid_auto_rows": null,
            "grid_column": null,
            "grid_gap": null,
            "grid_row": null,
            "grid_template_areas": null,
            "grid_template_columns": null,
            "grid_template_rows": null,
            "height": null,
            "justify_content": null,
            "justify_items": null,
            "left": null,
            "margin": null,
            "max_height": null,
            "max_width": null,
            "min_height": null,
            "min_width": null,
            "object_fit": null,
            "object_position": null,
            "order": null,
            "overflow": null,
            "overflow_x": null,
            "overflow_y": null,
            "padding": null,
            "right": null,
            "top": null,
            "visibility": null,
            "width": null
          }
        },
        "485d81d50b0741d991fb31ca8cf6aa67": {
          "model_module": "@jupyter-widgets/base",
          "model_name": "LayoutModel",
          "model_module_version": "1.2.0",
          "state": {
            "_model_module": "@jupyter-widgets/base",
            "_model_module_version": "1.2.0",
            "_model_name": "LayoutModel",
            "_view_count": null,
            "_view_module": "@jupyter-widgets/base",
            "_view_module_version": "1.2.0",
            "_view_name": "LayoutView",
            "align_content": null,
            "align_items": null,
            "align_self": null,
            "border": null,
            "bottom": null,
            "display": null,
            "flex": null,
            "flex_flow": null,
            "grid_area": null,
            "grid_auto_columns": null,
            "grid_auto_flow": null,
            "grid_auto_rows": null,
            "grid_column": null,
            "grid_gap": null,
            "grid_row": null,
            "grid_template_areas": null,
            "grid_template_columns": null,
            "grid_template_rows": null,
            "height": null,
            "justify_content": null,
            "justify_items": null,
            "left": null,
            "margin": null,
            "max_height": null,
            "max_width": null,
            "min_height": null,
            "min_width": null,
            "object_fit": null,
            "object_position": null,
            "order": null,
            "overflow": null,
            "overflow_x": null,
            "overflow_y": null,
            "padding": null,
            "right": null,
            "top": null,
            "visibility": null,
            "width": null
          }
        },
        "6cb4a7a6afa846c5b3f1f91d5eab9c14": {
          "model_module": "@jupyter-widgets/controls",
          "model_name": "DescriptionStyleModel",
          "model_module_version": "1.5.0",
          "state": {
            "_model_module": "@jupyter-widgets/controls",
            "_model_module_version": "1.5.0",
            "_model_name": "DescriptionStyleModel",
            "_view_count": null,
            "_view_module": "@jupyter-widgets/base",
            "_view_module_version": "1.2.0",
            "_view_name": "StyleView",
            "description_width": ""
          }
        },
        "3b23fce4b06c4fcd9a7d6405d1bb4e3f": {
          "model_module": "@jupyter-widgets/base",
          "model_name": "LayoutModel",
          "model_module_version": "1.2.0",
          "state": {
            "_model_module": "@jupyter-widgets/base",
            "_model_module_version": "1.2.0",
            "_model_name": "LayoutModel",
            "_view_count": null,
            "_view_module": "@jupyter-widgets/base",
            "_view_module_version": "1.2.0",
            "_view_name": "LayoutView",
            "align_content": null,
            "align_items": null,
            "align_self": null,
            "border": null,
            "bottom": null,
            "display": null,
            "flex": null,
            "flex_flow": null,
            "grid_area": null,
            "grid_auto_columns": null,
            "grid_auto_flow": null,
            "grid_auto_rows": null,
            "grid_column": null,
            "grid_gap": null,
            "grid_row": null,
            "grid_template_areas": null,
            "grid_template_columns": null,
            "grid_template_rows": null,
            "height": null,
            "justify_content": null,
            "justify_items": null,
            "left": null,
            "margin": null,
            "max_height": null,
            "max_width": null,
            "min_height": null,
            "min_width": null,
            "object_fit": null,
            "object_position": null,
            "order": null,
            "overflow": null,
            "overflow_x": null,
            "overflow_y": null,
            "padding": null,
            "right": null,
            "top": null,
            "visibility": null,
            "width": null
          }
        },
        "d79e6e3dd28948f4a887279120f3cf13": {
          "model_module": "@jupyter-widgets/controls",
          "model_name": "ProgressStyleModel",
          "model_module_version": "1.5.0",
          "state": {
            "_model_module": "@jupyter-widgets/controls",
            "_model_module_version": "1.5.0",
            "_model_name": "ProgressStyleModel",
            "_view_count": null,
            "_view_module": "@jupyter-widgets/base",
            "_view_module_version": "1.2.0",
            "_view_name": "StyleView",
            "bar_color": null,
            "description_width": ""
          }
        },
        "c139b069433545d890a82ed1ac18eef9": {
          "model_module": "@jupyter-widgets/base",
          "model_name": "LayoutModel",
          "model_module_version": "1.2.0",
          "state": {
            "_model_module": "@jupyter-widgets/base",
            "_model_module_version": "1.2.0",
            "_model_name": "LayoutModel",
            "_view_count": null,
            "_view_module": "@jupyter-widgets/base",
            "_view_module_version": "1.2.0",
            "_view_name": "LayoutView",
            "align_content": null,
            "align_items": null,
            "align_self": null,
            "border": null,
            "bottom": null,
            "display": null,
            "flex": null,
            "flex_flow": null,
            "grid_area": null,
            "grid_auto_columns": null,
            "grid_auto_flow": null,
            "grid_auto_rows": null,
            "grid_column": null,
            "grid_gap": null,
            "grid_row": null,
            "grid_template_areas": null,
            "grid_template_columns": null,
            "grid_template_rows": null,
            "height": null,
            "justify_content": null,
            "justify_items": null,
            "left": null,
            "margin": null,
            "max_height": null,
            "max_width": null,
            "min_height": null,
            "min_width": null,
            "object_fit": null,
            "object_position": null,
            "order": null,
            "overflow": null,
            "overflow_x": null,
            "overflow_y": null,
            "padding": null,
            "right": null,
            "top": null,
            "visibility": null,
            "width": null
          }
        },
        "a9c328df56c649759475f63d027e17f0": {
          "model_module": "@jupyter-widgets/controls",
          "model_name": "DescriptionStyleModel",
          "model_module_version": "1.5.0",
          "state": {
            "_model_module": "@jupyter-widgets/controls",
            "_model_module_version": "1.5.0",
            "_model_name": "DescriptionStyleModel",
            "_view_count": null,
            "_view_module": "@jupyter-widgets/base",
            "_view_module_version": "1.2.0",
            "_view_name": "StyleView",
            "description_width": ""
          }
        },
        "c2b8ed2b2105448895b8c83e52457c68": {
          "model_module": "@jupyter-widgets/controls",
          "model_name": "HBoxModel",
          "model_module_version": "1.5.0",
          "state": {
            "_dom_classes": [],
            "_model_module": "@jupyter-widgets/controls",
            "_model_module_version": "1.5.0",
            "_model_name": "HBoxModel",
            "_view_count": null,
            "_view_module": "@jupyter-widgets/controls",
            "_view_module_version": "1.5.0",
            "_view_name": "HBoxView",
            "box_style": "",
            "children": [
              "IPY_MODEL_d3c8d203f80e4953ae73fc185530b846",
              "IPY_MODEL_596722ea94b441a9aabc1880c4e3c454",
              "IPY_MODEL_3f6a3f22634c468c9aa75ee44e543466"
            ],
            "layout": "IPY_MODEL_4c14a203d0054ee3b9049b5b317daf98"
          }
        },
        "d3c8d203f80e4953ae73fc185530b846": {
          "model_module": "@jupyter-widgets/controls",
          "model_name": "HTMLModel",
          "model_module_version": "1.5.0",
          "state": {
            "_dom_classes": [],
            "_model_module": "@jupyter-widgets/controls",
            "_model_module_version": "1.5.0",
            "_model_name": "HTMLModel",
            "_view_count": null,
            "_view_module": "@jupyter-widgets/controls",
            "_view_module_version": "1.5.0",
            "_view_name": "HTMLView",
            "description": "",
            "description_tooltip": null,
            "layout": "IPY_MODEL_2c24f97d1da74c5a80a16dd93803c12f",
            "placeholder": "​",
            "style": "IPY_MODEL_da7d8b393da24d88b5ee0ce744dc709a",
            "value": "Downloading (…)solve/main/vocab.txt: 100%"
          }
        },
        "596722ea94b441a9aabc1880c4e3c454": {
          "model_module": "@jupyter-widgets/controls",
          "model_name": "FloatProgressModel",
          "model_module_version": "1.5.0",
          "state": {
            "_dom_classes": [],
            "_model_module": "@jupyter-widgets/controls",
            "_model_module_version": "1.5.0",
            "_model_name": "FloatProgressModel",
            "_view_count": null,
            "_view_module": "@jupyter-widgets/controls",
            "_view_module_version": "1.5.0",
            "_view_name": "ProgressView",
            "bar_style": "success",
            "description": "",
            "description_tooltip": null,
            "layout": "IPY_MODEL_4342888653ab407ca6da5096d754a073",
            "max": 231508,
            "min": 0,
            "orientation": "horizontal",
            "style": "IPY_MODEL_3f49e0543973402cadeb77488ec0c74d",
            "value": 231508
          }
        },
        "3f6a3f22634c468c9aa75ee44e543466": {
          "model_module": "@jupyter-widgets/controls",
          "model_name": "HTMLModel",
          "model_module_version": "1.5.0",
          "state": {
            "_dom_classes": [],
            "_model_module": "@jupyter-widgets/controls",
            "_model_module_version": "1.5.0",
            "_model_name": "HTMLModel",
            "_view_count": null,
            "_view_module": "@jupyter-widgets/controls",
            "_view_module_version": "1.5.0",
            "_view_name": "HTMLView",
            "description": "",
            "description_tooltip": null,
            "layout": "IPY_MODEL_4834f1e7e0dc4338a31a64a8d5a6fd92",
            "placeholder": "​",
            "style": "IPY_MODEL_b2c9da4267ce41f2ba115db026f8ae73",
            "value": " 232k/232k [00:00&lt;00:00, 3.21MB/s]"
          }
        },
        "4c14a203d0054ee3b9049b5b317daf98": {
          "model_module": "@jupyter-widgets/base",
          "model_name": "LayoutModel",
          "model_module_version": "1.2.0",
          "state": {
            "_model_module": "@jupyter-widgets/base",
            "_model_module_version": "1.2.0",
            "_model_name": "LayoutModel",
            "_view_count": null,
            "_view_module": "@jupyter-widgets/base",
            "_view_module_version": "1.2.0",
            "_view_name": "LayoutView",
            "align_content": null,
            "align_items": null,
            "align_self": null,
            "border": null,
            "bottom": null,
            "display": null,
            "flex": null,
            "flex_flow": null,
            "grid_area": null,
            "grid_auto_columns": null,
            "grid_auto_flow": null,
            "grid_auto_rows": null,
            "grid_column": null,
            "grid_gap": null,
            "grid_row": null,
            "grid_template_areas": null,
            "grid_template_columns": null,
            "grid_template_rows": null,
            "height": null,
            "justify_content": null,
            "justify_items": null,
            "left": null,
            "margin": null,
            "max_height": null,
            "max_width": null,
            "min_height": null,
            "min_width": null,
            "object_fit": null,
            "object_position": null,
            "order": null,
            "overflow": null,
            "overflow_x": null,
            "overflow_y": null,
            "padding": null,
            "right": null,
            "top": null,
            "visibility": null,
            "width": null
          }
        },
        "2c24f97d1da74c5a80a16dd93803c12f": {
          "model_module": "@jupyter-widgets/base",
          "model_name": "LayoutModel",
          "model_module_version": "1.2.0",
          "state": {
            "_model_module": "@jupyter-widgets/base",
            "_model_module_version": "1.2.0",
            "_model_name": "LayoutModel",
            "_view_count": null,
            "_view_module": "@jupyter-widgets/base",
            "_view_module_version": "1.2.0",
            "_view_name": "LayoutView",
            "align_content": null,
            "align_items": null,
            "align_self": null,
            "border": null,
            "bottom": null,
            "display": null,
            "flex": null,
            "flex_flow": null,
            "grid_area": null,
            "grid_auto_columns": null,
            "grid_auto_flow": null,
            "grid_auto_rows": null,
            "grid_column": null,
            "grid_gap": null,
            "grid_row": null,
            "grid_template_areas": null,
            "grid_template_columns": null,
            "grid_template_rows": null,
            "height": null,
            "justify_content": null,
            "justify_items": null,
            "left": null,
            "margin": null,
            "max_height": null,
            "max_width": null,
            "min_height": null,
            "min_width": null,
            "object_fit": null,
            "object_position": null,
            "order": null,
            "overflow": null,
            "overflow_x": null,
            "overflow_y": null,
            "padding": null,
            "right": null,
            "top": null,
            "visibility": null,
            "width": null
          }
        },
        "da7d8b393da24d88b5ee0ce744dc709a": {
          "model_module": "@jupyter-widgets/controls",
          "model_name": "DescriptionStyleModel",
          "model_module_version": "1.5.0",
          "state": {
            "_model_module": "@jupyter-widgets/controls",
            "_model_module_version": "1.5.0",
            "_model_name": "DescriptionStyleModel",
            "_view_count": null,
            "_view_module": "@jupyter-widgets/base",
            "_view_module_version": "1.2.0",
            "_view_name": "StyleView",
            "description_width": ""
          }
        },
        "4342888653ab407ca6da5096d754a073": {
          "model_module": "@jupyter-widgets/base",
          "model_name": "LayoutModel",
          "model_module_version": "1.2.0",
          "state": {
            "_model_module": "@jupyter-widgets/base",
            "_model_module_version": "1.2.0",
            "_model_name": "LayoutModel",
            "_view_count": null,
            "_view_module": "@jupyter-widgets/base",
            "_view_module_version": "1.2.0",
            "_view_name": "LayoutView",
            "align_content": null,
            "align_items": null,
            "align_self": null,
            "border": null,
            "bottom": null,
            "display": null,
            "flex": null,
            "flex_flow": null,
            "grid_area": null,
            "grid_auto_columns": null,
            "grid_auto_flow": null,
            "grid_auto_rows": null,
            "grid_column": null,
            "grid_gap": null,
            "grid_row": null,
            "grid_template_areas": null,
            "grid_template_columns": null,
            "grid_template_rows": null,
            "height": null,
            "justify_content": null,
            "justify_items": null,
            "left": null,
            "margin": null,
            "max_height": null,
            "max_width": null,
            "min_height": null,
            "min_width": null,
            "object_fit": null,
            "object_position": null,
            "order": null,
            "overflow": null,
            "overflow_x": null,
            "overflow_y": null,
            "padding": null,
            "right": null,
            "top": null,
            "visibility": null,
            "width": null
          }
        },
        "3f49e0543973402cadeb77488ec0c74d": {
          "model_module": "@jupyter-widgets/controls",
          "model_name": "ProgressStyleModel",
          "model_module_version": "1.5.0",
          "state": {
            "_model_module": "@jupyter-widgets/controls",
            "_model_module_version": "1.5.0",
            "_model_name": "ProgressStyleModel",
            "_view_count": null,
            "_view_module": "@jupyter-widgets/base",
            "_view_module_version": "1.2.0",
            "_view_name": "StyleView",
            "bar_color": null,
            "description_width": ""
          }
        },
        "4834f1e7e0dc4338a31a64a8d5a6fd92": {
          "model_module": "@jupyter-widgets/base",
          "model_name": "LayoutModel",
          "model_module_version": "1.2.0",
          "state": {
            "_model_module": "@jupyter-widgets/base",
            "_model_module_version": "1.2.0",
            "_model_name": "LayoutModel",
            "_view_count": null,
            "_view_module": "@jupyter-widgets/base",
            "_view_module_version": "1.2.0",
            "_view_name": "LayoutView",
            "align_content": null,
            "align_items": null,
            "align_self": null,
            "border": null,
            "bottom": null,
            "display": null,
            "flex": null,
            "flex_flow": null,
            "grid_area": null,
            "grid_auto_columns": null,
            "grid_auto_flow": null,
            "grid_auto_rows": null,
            "grid_column": null,
            "grid_gap": null,
            "grid_row": null,
            "grid_template_areas": null,
            "grid_template_columns": null,
            "grid_template_rows": null,
            "height": null,
            "justify_content": null,
            "justify_items": null,
            "left": null,
            "margin": null,
            "max_height": null,
            "max_width": null,
            "min_height": null,
            "min_width": null,
            "object_fit": null,
            "object_position": null,
            "order": null,
            "overflow": null,
            "overflow_x": null,
            "overflow_y": null,
            "padding": null,
            "right": null,
            "top": null,
            "visibility": null,
            "width": null
          }
        },
        "b2c9da4267ce41f2ba115db026f8ae73": {
          "model_module": "@jupyter-widgets/controls",
          "model_name": "DescriptionStyleModel",
          "model_module_version": "1.5.0",
          "state": {
            "_model_module": "@jupyter-widgets/controls",
            "_model_module_version": "1.5.0",
            "_model_name": "DescriptionStyleModel",
            "_view_count": null,
            "_view_module": "@jupyter-widgets/base",
            "_view_module_version": "1.2.0",
            "_view_name": "StyleView",
            "description_width": ""
          }
        },
        "710d61737eef41c6a3a53c8ea71ef377": {
          "model_module": "@jupyter-widgets/controls",
          "model_name": "HBoxModel",
          "model_module_version": "1.5.0",
          "state": {
            "_dom_classes": [],
            "_model_module": "@jupyter-widgets/controls",
            "_model_module_version": "1.5.0",
            "_model_name": "HBoxModel",
            "_view_count": null,
            "_view_module": "@jupyter-widgets/controls",
            "_view_module_version": "1.5.0",
            "_view_name": "HBoxView",
            "box_style": "",
            "children": [
              "IPY_MODEL_9546c47962a6454e9ee81ffb2fbf05cd",
              "IPY_MODEL_03ce74e3c3e7442d970b9cfb903a57e0",
              "IPY_MODEL_f1a4a6dc51a443dd8481ed8086179988"
            ],
            "layout": "IPY_MODEL_c7ecf1cfe06040ed84dbe2bde73254af"
          }
        },
        "9546c47962a6454e9ee81ffb2fbf05cd": {
          "model_module": "@jupyter-widgets/controls",
          "model_name": "HTMLModel",
          "model_module_version": "1.5.0",
          "state": {
            "_dom_classes": [],
            "_model_module": "@jupyter-widgets/controls",
            "_model_module_version": "1.5.0",
            "_model_name": "HTMLModel",
            "_view_count": null,
            "_view_module": "@jupyter-widgets/controls",
            "_view_module_version": "1.5.0",
            "_view_name": "HTMLView",
            "description": "",
            "description_tooltip": null,
            "layout": "IPY_MODEL_cb9669a8321f4b6eb6ea61595088e49c",
            "placeholder": "​",
            "style": "IPY_MODEL_c1c47f4e91ff46bd8f833babc85727fd",
            "value": "Downloading (…)okenizer_config.json: 100%"
          }
        },
        "03ce74e3c3e7442d970b9cfb903a57e0": {
          "model_module": "@jupyter-widgets/controls",
          "model_name": "FloatProgressModel",
          "model_module_version": "1.5.0",
          "state": {
            "_dom_classes": [],
            "_model_module": "@jupyter-widgets/controls",
            "_model_module_version": "1.5.0",
            "_model_name": "FloatProgressModel",
            "_view_count": null,
            "_view_module": "@jupyter-widgets/controls",
            "_view_module_version": "1.5.0",
            "_view_name": "ProgressView",
            "bar_style": "success",
            "description": "",
            "description_tooltip": null,
            "layout": "IPY_MODEL_c9f19dd7d4b64aa885ea13786951c269",
            "max": 28,
            "min": 0,
            "orientation": "horizontal",
            "style": "IPY_MODEL_ada19b530333497ebfb4dc4e44f59d09",
            "value": 28
          }
        },
        "f1a4a6dc51a443dd8481ed8086179988": {
          "model_module": "@jupyter-widgets/controls",
          "model_name": "HTMLModel",
          "model_module_version": "1.5.0",
          "state": {
            "_dom_classes": [],
            "_model_module": "@jupyter-widgets/controls",
            "_model_module_version": "1.5.0",
            "_model_name": "HTMLModel",
            "_view_count": null,
            "_view_module": "@jupyter-widgets/controls",
            "_view_module_version": "1.5.0",
            "_view_name": "HTMLView",
            "description": "",
            "description_tooltip": null,
            "layout": "IPY_MODEL_a8df6b4d517d4dd9a9f2a834377f31cb",
            "placeholder": "​",
            "style": "IPY_MODEL_d1802d51e8cb4805963b4574b2192719",
            "value": " 28.0/28.0 [00:00&lt;00:00, 399B/s]"
          }
        },
        "c7ecf1cfe06040ed84dbe2bde73254af": {
          "model_module": "@jupyter-widgets/base",
          "model_name": "LayoutModel",
          "model_module_version": "1.2.0",
          "state": {
            "_model_module": "@jupyter-widgets/base",
            "_model_module_version": "1.2.0",
            "_model_name": "LayoutModel",
            "_view_count": null,
            "_view_module": "@jupyter-widgets/base",
            "_view_module_version": "1.2.0",
            "_view_name": "LayoutView",
            "align_content": null,
            "align_items": null,
            "align_self": null,
            "border": null,
            "bottom": null,
            "display": null,
            "flex": null,
            "flex_flow": null,
            "grid_area": null,
            "grid_auto_columns": null,
            "grid_auto_flow": null,
            "grid_auto_rows": null,
            "grid_column": null,
            "grid_gap": null,
            "grid_row": null,
            "grid_template_areas": null,
            "grid_template_columns": null,
            "grid_template_rows": null,
            "height": null,
            "justify_content": null,
            "justify_items": null,
            "left": null,
            "margin": null,
            "max_height": null,
            "max_width": null,
            "min_height": null,
            "min_width": null,
            "object_fit": null,
            "object_position": null,
            "order": null,
            "overflow": null,
            "overflow_x": null,
            "overflow_y": null,
            "padding": null,
            "right": null,
            "top": null,
            "visibility": null,
            "width": null
          }
        },
        "cb9669a8321f4b6eb6ea61595088e49c": {
          "model_module": "@jupyter-widgets/base",
          "model_name": "LayoutModel",
          "model_module_version": "1.2.0",
          "state": {
            "_model_module": "@jupyter-widgets/base",
            "_model_module_version": "1.2.0",
            "_model_name": "LayoutModel",
            "_view_count": null,
            "_view_module": "@jupyter-widgets/base",
            "_view_module_version": "1.2.0",
            "_view_name": "LayoutView",
            "align_content": null,
            "align_items": null,
            "align_self": null,
            "border": null,
            "bottom": null,
            "display": null,
            "flex": null,
            "flex_flow": null,
            "grid_area": null,
            "grid_auto_columns": null,
            "grid_auto_flow": null,
            "grid_auto_rows": null,
            "grid_column": null,
            "grid_gap": null,
            "grid_row": null,
            "grid_template_areas": null,
            "grid_template_columns": null,
            "grid_template_rows": null,
            "height": null,
            "justify_content": null,
            "justify_items": null,
            "left": null,
            "margin": null,
            "max_height": null,
            "max_width": null,
            "min_height": null,
            "min_width": null,
            "object_fit": null,
            "object_position": null,
            "order": null,
            "overflow": null,
            "overflow_x": null,
            "overflow_y": null,
            "padding": null,
            "right": null,
            "top": null,
            "visibility": null,
            "width": null
          }
        },
        "c1c47f4e91ff46bd8f833babc85727fd": {
          "model_module": "@jupyter-widgets/controls",
          "model_name": "DescriptionStyleModel",
          "model_module_version": "1.5.0",
          "state": {
            "_model_module": "@jupyter-widgets/controls",
            "_model_module_version": "1.5.0",
            "_model_name": "DescriptionStyleModel",
            "_view_count": null,
            "_view_module": "@jupyter-widgets/base",
            "_view_module_version": "1.2.0",
            "_view_name": "StyleView",
            "description_width": ""
          }
        },
        "c9f19dd7d4b64aa885ea13786951c269": {
          "model_module": "@jupyter-widgets/base",
          "model_name": "LayoutModel",
          "model_module_version": "1.2.0",
          "state": {
            "_model_module": "@jupyter-widgets/base",
            "_model_module_version": "1.2.0",
            "_model_name": "LayoutModel",
            "_view_count": null,
            "_view_module": "@jupyter-widgets/base",
            "_view_module_version": "1.2.0",
            "_view_name": "LayoutView",
            "align_content": null,
            "align_items": null,
            "align_self": null,
            "border": null,
            "bottom": null,
            "display": null,
            "flex": null,
            "flex_flow": null,
            "grid_area": null,
            "grid_auto_columns": null,
            "grid_auto_flow": null,
            "grid_auto_rows": null,
            "grid_column": null,
            "grid_gap": null,
            "grid_row": null,
            "grid_template_areas": null,
            "grid_template_columns": null,
            "grid_template_rows": null,
            "height": null,
            "justify_content": null,
            "justify_items": null,
            "left": null,
            "margin": null,
            "max_height": null,
            "max_width": null,
            "min_height": null,
            "min_width": null,
            "object_fit": null,
            "object_position": null,
            "order": null,
            "overflow": null,
            "overflow_x": null,
            "overflow_y": null,
            "padding": null,
            "right": null,
            "top": null,
            "visibility": null,
            "width": null
          }
        },
        "ada19b530333497ebfb4dc4e44f59d09": {
          "model_module": "@jupyter-widgets/controls",
          "model_name": "ProgressStyleModel",
          "model_module_version": "1.5.0",
          "state": {
            "_model_module": "@jupyter-widgets/controls",
            "_model_module_version": "1.5.0",
            "_model_name": "ProgressStyleModel",
            "_view_count": null,
            "_view_module": "@jupyter-widgets/base",
            "_view_module_version": "1.2.0",
            "_view_name": "StyleView",
            "bar_color": null,
            "description_width": ""
          }
        },
        "a8df6b4d517d4dd9a9f2a834377f31cb": {
          "model_module": "@jupyter-widgets/base",
          "model_name": "LayoutModel",
          "model_module_version": "1.2.0",
          "state": {
            "_model_module": "@jupyter-widgets/base",
            "_model_module_version": "1.2.0",
            "_model_name": "LayoutModel",
            "_view_count": null,
            "_view_module": "@jupyter-widgets/base",
            "_view_module_version": "1.2.0",
            "_view_name": "LayoutView",
            "align_content": null,
            "align_items": null,
            "align_self": null,
            "border": null,
            "bottom": null,
            "display": null,
            "flex": null,
            "flex_flow": null,
            "grid_area": null,
            "grid_auto_columns": null,
            "grid_auto_flow": null,
            "grid_auto_rows": null,
            "grid_column": null,
            "grid_gap": null,
            "grid_row": null,
            "grid_template_areas": null,
            "grid_template_columns": null,
            "grid_template_rows": null,
            "height": null,
            "justify_content": null,
            "justify_items": null,
            "left": null,
            "margin": null,
            "max_height": null,
            "max_width": null,
            "min_height": null,
            "min_width": null,
            "object_fit": null,
            "object_position": null,
            "order": null,
            "overflow": null,
            "overflow_x": null,
            "overflow_y": null,
            "padding": null,
            "right": null,
            "top": null,
            "visibility": null,
            "width": null
          }
        },
        "d1802d51e8cb4805963b4574b2192719": {
          "model_module": "@jupyter-widgets/controls",
          "model_name": "DescriptionStyleModel",
          "model_module_version": "1.5.0",
          "state": {
            "_model_module": "@jupyter-widgets/controls",
            "_model_module_version": "1.5.0",
            "_model_name": "DescriptionStyleModel",
            "_view_count": null,
            "_view_module": "@jupyter-widgets/base",
            "_view_module_version": "1.2.0",
            "_view_name": "StyleView",
            "description_width": ""
          }
        },
        "eab3639eef814722abed57b3b26091e0": {
          "model_module": "@jupyter-widgets/controls",
          "model_name": "HBoxModel",
          "model_module_version": "1.5.0",
          "state": {
            "_dom_classes": [],
            "_model_module": "@jupyter-widgets/controls",
            "_model_module_version": "1.5.0",
            "_model_name": "HBoxModel",
            "_view_count": null,
            "_view_module": "@jupyter-widgets/controls",
            "_view_module_version": "1.5.0",
            "_view_name": "HBoxView",
            "box_style": "",
            "children": [
              "IPY_MODEL_e5c025cf32c64477b2b848bcad42306f",
              "IPY_MODEL_8e817155865044f7864b4564d50cb70a",
              "IPY_MODEL_79fff225305642c0ad4fc24fe6146b91"
            ],
            "layout": "IPY_MODEL_9be358d9a2644de6918f08faa8764cf9"
          }
        },
        "e5c025cf32c64477b2b848bcad42306f": {
          "model_module": "@jupyter-widgets/controls",
          "model_name": "HTMLModel",
          "model_module_version": "1.5.0",
          "state": {
            "_dom_classes": [],
            "_model_module": "@jupyter-widgets/controls",
            "_model_module_version": "1.5.0",
            "_model_name": "HTMLModel",
            "_view_count": null,
            "_view_module": "@jupyter-widgets/controls",
            "_view_module_version": "1.5.0",
            "_view_name": "HTMLView",
            "description": "",
            "description_tooltip": null,
            "layout": "IPY_MODEL_27cd8087a78e4bb5ae3cb057806aa596",
            "placeholder": "​",
            "style": "IPY_MODEL_03e1328e35b1456398e9d977103a9c24",
            "value": "Downloading (…)lve/main/config.json: 100%"
          }
        },
        "8e817155865044f7864b4564d50cb70a": {
          "model_module": "@jupyter-widgets/controls",
          "model_name": "FloatProgressModel",
          "model_module_version": "1.5.0",
          "state": {
            "_dom_classes": [],
            "_model_module": "@jupyter-widgets/controls",
            "_model_module_version": "1.5.0",
            "_model_name": "FloatProgressModel",
            "_view_count": null,
            "_view_module": "@jupyter-widgets/controls",
            "_view_module_version": "1.5.0",
            "_view_name": "ProgressView",
            "bar_style": "success",
            "description": "",
            "description_tooltip": null,
            "layout": "IPY_MODEL_01abbae1fe564ad6976544fc8ecb38d3",
            "max": 443,
            "min": 0,
            "orientation": "horizontal",
            "style": "IPY_MODEL_0ef4d0529ef147ca879271582981332b",
            "value": 443
          }
        },
        "79fff225305642c0ad4fc24fe6146b91": {
          "model_module": "@jupyter-widgets/controls",
          "model_name": "HTMLModel",
          "model_module_version": "1.5.0",
          "state": {
            "_dom_classes": [],
            "_model_module": "@jupyter-widgets/controls",
            "_model_module_version": "1.5.0",
            "_model_name": "HTMLModel",
            "_view_count": null,
            "_view_module": "@jupyter-widgets/controls",
            "_view_module_version": "1.5.0",
            "_view_name": "HTMLView",
            "description": "",
            "description_tooltip": null,
            "layout": "IPY_MODEL_9134d1e0f73744e899bbdb1290a9bfc6",
            "placeholder": "​",
            "style": "IPY_MODEL_e1c95688790a4b60a0bf1bbb1ecc3d33",
            "value": " 443/443 [00:00&lt;00:00, 7.53kB/s]"
          }
        },
        "9be358d9a2644de6918f08faa8764cf9": {
          "model_module": "@jupyter-widgets/base",
          "model_name": "LayoutModel",
          "model_module_version": "1.2.0",
          "state": {
            "_model_module": "@jupyter-widgets/base",
            "_model_module_version": "1.2.0",
            "_model_name": "LayoutModel",
            "_view_count": null,
            "_view_module": "@jupyter-widgets/base",
            "_view_module_version": "1.2.0",
            "_view_name": "LayoutView",
            "align_content": null,
            "align_items": null,
            "align_self": null,
            "border": null,
            "bottom": null,
            "display": null,
            "flex": null,
            "flex_flow": null,
            "grid_area": null,
            "grid_auto_columns": null,
            "grid_auto_flow": null,
            "grid_auto_rows": null,
            "grid_column": null,
            "grid_gap": null,
            "grid_row": null,
            "grid_template_areas": null,
            "grid_template_columns": null,
            "grid_template_rows": null,
            "height": null,
            "justify_content": null,
            "justify_items": null,
            "left": null,
            "margin": null,
            "max_height": null,
            "max_width": null,
            "min_height": null,
            "min_width": null,
            "object_fit": null,
            "object_position": null,
            "order": null,
            "overflow": null,
            "overflow_x": null,
            "overflow_y": null,
            "padding": null,
            "right": null,
            "top": null,
            "visibility": null,
            "width": null
          }
        },
        "27cd8087a78e4bb5ae3cb057806aa596": {
          "model_module": "@jupyter-widgets/base",
          "model_name": "LayoutModel",
          "model_module_version": "1.2.0",
          "state": {
            "_model_module": "@jupyter-widgets/base",
            "_model_module_version": "1.2.0",
            "_model_name": "LayoutModel",
            "_view_count": null,
            "_view_module": "@jupyter-widgets/base",
            "_view_module_version": "1.2.0",
            "_view_name": "LayoutView",
            "align_content": null,
            "align_items": null,
            "align_self": null,
            "border": null,
            "bottom": null,
            "display": null,
            "flex": null,
            "flex_flow": null,
            "grid_area": null,
            "grid_auto_columns": null,
            "grid_auto_flow": null,
            "grid_auto_rows": null,
            "grid_column": null,
            "grid_gap": null,
            "grid_row": null,
            "grid_template_areas": null,
            "grid_template_columns": null,
            "grid_template_rows": null,
            "height": null,
            "justify_content": null,
            "justify_items": null,
            "left": null,
            "margin": null,
            "max_height": null,
            "max_width": null,
            "min_height": null,
            "min_width": null,
            "object_fit": null,
            "object_position": null,
            "order": null,
            "overflow": null,
            "overflow_x": null,
            "overflow_y": null,
            "padding": null,
            "right": null,
            "top": null,
            "visibility": null,
            "width": null
          }
        },
        "03e1328e35b1456398e9d977103a9c24": {
          "model_module": "@jupyter-widgets/controls",
          "model_name": "DescriptionStyleModel",
          "model_module_version": "1.5.0",
          "state": {
            "_model_module": "@jupyter-widgets/controls",
            "_model_module_version": "1.5.0",
            "_model_name": "DescriptionStyleModel",
            "_view_count": null,
            "_view_module": "@jupyter-widgets/base",
            "_view_module_version": "1.2.0",
            "_view_name": "StyleView",
            "description_width": ""
          }
        },
        "01abbae1fe564ad6976544fc8ecb38d3": {
          "model_module": "@jupyter-widgets/base",
          "model_name": "LayoutModel",
          "model_module_version": "1.2.0",
          "state": {
            "_model_module": "@jupyter-widgets/base",
            "_model_module_version": "1.2.0",
            "_model_name": "LayoutModel",
            "_view_count": null,
            "_view_module": "@jupyter-widgets/base",
            "_view_module_version": "1.2.0",
            "_view_name": "LayoutView",
            "align_content": null,
            "align_items": null,
            "align_self": null,
            "border": null,
            "bottom": null,
            "display": null,
            "flex": null,
            "flex_flow": null,
            "grid_area": null,
            "grid_auto_columns": null,
            "grid_auto_flow": null,
            "grid_auto_rows": null,
            "grid_column": null,
            "grid_gap": null,
            "grid_row": null,
            "grid_template_areas": null,
            "grid_template_columns": null,
            "grid_template_rows": null,
            "height": null,
            "justify_content": null,
            "justify_items": null,
            "left": null,
            "margin": null,
            "max_height": null,
            "max_width": null,
            "min_height": null,
            "min_width": null,
            "object_fit": null,
            "object_position": null,
            "order": null,
            "overflow": null,
            "overflow_x": null,
            "overflow_y": null,
            "padding": null,
            "right": null,
            "top": null,
            "visibility": null,
            "width": null
          }
        },
        "0ef4d0529ef147ca879271582981332b": {
          "model_module": "@jupyter-widgets/controls",
          "model_name": "ProgressStyleModel",
          "model_module_version": "1.5.0",
          "state": {
            "_model_module": "@jupyter-widgets/controls",
            "_model_module_version": "1.5.0",
            "_model_name": "ProgressStyleModel",
            "_view_count": null,
            "_view_module": "@jupyter-widgets/base",
            "_view_module_version": "1.2.0",
            "_view_name": "StyleView",
            "bar_color": null,
            "description_width": ""
          }
        },
        "9134d1e0f73744e899bbdb1290a9bfc6": {
          "model_module": "@jupyter-widgets/base",
          "model_name": "LayoutModel",
          "model_module_version": "1.2.0",
          "state": {
            "_model_module": "@jupyter-widgets/base",
            "_model_module_version": "1.2.0",
            "_model_name": "LayoutModel",
            "_view_count": null,
            "_view_module": "@jupyter-widgets/base",
            "_view_module_version": "1.2.0",
            "_view_name": "LayoutView",
            "align_content": null,
            "align_items": null,
            "align_self": null,
            "border": null,
            "bottom": null,
            "display": null,
            "flex": null,
            "flex_flow": null,
            "grid_area": null,
            "grid_auto_columns": null,
            "grid_auto_flow": null,
            "grid_auto_rows": null,
            "grid_column": null,
            "grid_gap": null,
            "grid_row": null,
            "grid_template_areas": null,
            "grid_template_columns": null,
            "grid_template_rows": null,
            "height": null,
            "justify_content": null,
            "justify_items": null,
            "left": null,
            "margin": null,
            "max_height": null,
            "max_width": null,
            "min_height": null,
            "min_width": null,
            "object_fit": null,
            "object_position": null,
            "order": null,
            "overflow": null,
            "overflow_x": null,
            "overflow_y": null,
            "padding": null,
            "right": null,
            "top": null,
            "visibility": null,
            "width": null
          }
        },
        "e1c95688790a4b60a0bf1bbb1ecc3d33": {
          "model_module": "@jupyter-widgets/controls",
          "model_name": "DescriptionStyleModel",
          "model_module_version": "1.5.0",
          "state": {
            "_model_module": "@jupyter-widgets/controls",
            "_model_module_version": "1.5.0",
            "_model_name": "DescriptionStyleModel",
            "_view_count": null,
            "_view_module": "@jupyter-widgets/base",
            "_view_module_version": "1.2.0",
            "_view_name": "StyleView",
            "description_width": ""
          }
        },
        "0046db17e4324a74aaf82bd10afb7cc9": {
          "model_module": "@jupyter-widgets/controls",
          "model_name": "HBoxModel",
          "model_module_version": "1.5.0",
          "state": {
            "_dom_classes": [],
            "_model_module": "@jupyter-widgets/controls",
            "_model_module_version": "1.5.0",
            "_model_name": "HBoxModel",
            "_view_count": null,
            "_view_module": "@jupyter-widgets/controls",
            "_view_module_version": "1.5.0",
            "_view_name": "HBoxView",
            "box_style": "",
            "children": [
              "IPY_MODEL_20e7b6ab7f5f4f569bfee5617a395ac7",
              "IPY_MODEL_279df19401f04cf98e478130017295d2",
              "IPY_MODEL_c0b3482b95c4465aba61892a1bec8347"
            ],
            "layout": "IPY_MODEL_cda75ba70c4f47aabe7d990e03af4398"
          }
        },
        "20e7b6ab7f5f4f569bfee5617a395ac7": {
          "model_module": "@jupyter-widgets/controls",
          "model_name": "HTMLModel",
          "model_module_version": "1.5.0",
          "state": {
            "_dom_classes": [],
            "_model_module": "@jupyter-widgets/controls",
            "_model_module_version": "1.5.0",
            "_model_name": "HTMLModel",
            "_view_count": null,
            "_view_module": "@jupyter-widgets/controls",
            "_view_module_version": "1.5.0",
            "_view_name": "HTMLView",
            "description": "",
            "description_tooltip": null,
            "layout": "IPY_MODEL_092161051f5e45269c659b1e967a6c1d",
            "placeholder": "​",
            "style": "IPY_MODEL_ee8234c5cd734413933034ef3bad9e86",
            "value": "Downloading tf_model.h5: 100%"
          }
        },
        "279df19401f04cf98e478130017295d2": {
          "model_module": "@jupyter-widgets/controls",
          "model_name": "FloatProgressModel",
          "model_module_version": "1.5.0",
          "state": {
            "_dom_classes": [],
            "_model_module": "@jupyter-widgets/controls",
            "_model_module_version": "1.5.0",
            "_model_name": "FloatProgressModel",
            "_view_count": null,
            "_view_module": "@jupyter-widgets/controls",
            "_view_module_version": "1.5.0",
            "_view_name": "ProgressView",
            "bar_style": "success",
            "description": "",
            "description_tooltip": null,
            "layout": "IPY_MODEL_7b90bba184ab4a519b7fb61bd218a6db",
            "max": 1341090760,
            "min": 0,
            "orientation": "horizontal",
            "style": "IPY_MODEL_8e9e917267ac423d83d468291f9842cf",
            "value": 1341090760
          }
        },
        "c0b3482b95c4465aba61892a1bec8347": {
          "model_module": "@jupyter-widgets/controls",
          "model_name": "HTMLModel",
          "model_module_version": "1.5.0",
          "state": {
            "_dom_classes": [],
            "_model_module": "@jupyter-widgets/controls",
            "_model_module_version": "1.5.0",
            "_model_name": "HTMLModel",
            "_view_count": null,
            "_view_module": "@jupyter-widgets/controls",
            "_view_module_version": "1.5.0",
            "_view_name": "HTMLView",
            "description": "",
            "description_tooltip": null,
            "layout": "IPY_MODEL_4db4254fe3c642debede5dc5bfddeb1e",
            "placeholder": "​",
            "style": "IPY_MODEL_f2363a099e4148ed9e0f3b0f9d41113b",
            "value": " 1.34G/1.34G [00:35&lt;00:00, 26.2MB/s]"
          }
        },
        "cda75ba70c4f47aabe7d990e03af4398": {
          "model_module": "@jupyter-widgets/base",
          "model_name": "LayoutModel",
          "model_module_version": "1.2.0",
          "state": {
            "_model_module": "@jupyter-widgets/base",
            "_model_module_version": "1.2.0",
            "_model_name": "LayoutModel",
            "_view_count": null,
            "_view_module": "@jupyter-widgets/base",
            "_view_module_version": "1.2.0",
            "_view_name": "LayoutView",
            "align_content": null,
            "align_items": null,
            "align_self": null,
            "border": null,
            "bottom": null,
            "display": null,
            "flex": null,
            "flex_flow": null,
            "grid_area": null,
            "grid_auto_columns": null,
            "grid_auto_flow": null,
            "grid_auto_rows": null,
            "grid_column": null,
            "grid_gap": null,
            "grid_row": null,
            "grid_template_areas": null,
            "grid_template_columns": null,
            "grid_template_rows": null,
            "height": null,
            "justify_content": null,
            "justify_items": null,
            "left": null,
            "margin": null,
            "max_height": null,
            "max_width": null,
            "min_height": null,
            "min_width": null,
            "object_fit": null,
            "object_position": null,
            "order": null,
            "overflow": null,
            "overflow_x": null,
            "overflow_y": null,
            "padding": null,
            "right": null,
            "top": null,
            "visibility": null,
            "width": null
          }
        },
        "092161051f5e45269c659b1e967a6c1d": {
          "model_module": "@jupyter-widgets/base",
          "model_name": "LayoutModel",
          "model_module_version": "1.2.0",
          "state": {
            "_model_module": "@jupyter-widgets/base",
            "_model_module_version": "1.2.0",
            "_model_name": "LayoutModel",
            "_view_count": null,
            "_view_module": "@jupyter-widgets/base",
            "_view_module_version": "1.2.0",
            "_view_name": "LayoutView",
            "align_content": null,
            "align_items": null,
            "align_self": null,
            "border": null,
            "bottom": null,
            "display": null,
            "flex": null,
            "flex_flow": null,
            "grid_area": null,
            "grid_auto_columns": null,
            "grid_auto_flow": null,
            "grid_auto_rows": null,
            "grid_column": null,
            "grid_gap": null,
            "grid_row": null,
            "grid_template_areas": null,
            "grid_template_columns": null,
            "grid_template_rows": null,
            "height": null,
            "justify_content": null,
            "justify_items": null,
            "left": null,
            "margin": null,
            "max_height": null,
            "max_width": null,
            "min_height": null,
            "min_width": null,
            "object_fit": null,
            "object_position": null,
            "order": null,
            "overflow": null,
            "overflow_x": null,
            "overflow_y": null,
            "padding": null,
            "right": null,
            "top": null,
            "visibility": null,
            "width": null
          }
        },
        "ee8234c5cd734413933034ef3bad9e86": {
          "model_module": "@jupyter-widgets/controls",
          "model_name": "DescriptionStyleModel",
          "model_module_version": "1.5.0",
          "state": {
            "_model_module": "@jupyter-widgets/controls",
            "_model_module_version": "1.5.0",
            "_model_name": "DescriptionStyleModel",
            "_view_count": null,
            "_view_module": "@jupyter-widgets/base",
            "_view_module_version": "1.2.0",
            "_view_name": "StyleView",
            "description_width": ""
          }
        },
        "7b90bba184ab4a519b7fb61bd218a6db": {
          "model_module": "@jupyter-widgets/base",
          "model_name": "LayoutModel",
          "model_module_version": "1.2.0",
          "state": {
            "_model_module": "@jupyter-widgets/base",
            "_model_module_version": "1.2.0",
            "_model_name": "LayoutModel",
            "_view_count": null,
            "_view_module": "@jupyter-widgets/base",
            "_view_module_version": "1.2.0",
            "_view_name": "LayoutView",
            "align_content": null,
            "align_items": null,
            "align_self": null,
            "border": null,
            "bottom": null,
            "display": null,
            "flex": null,
            "flex_flow": null,
            "grid_area": null,
            "grid_auto_columns": null,
            "grid_auto_flow": null,
            "grid_auto_rows": null,
            "grid_column": null,
            "grid_gap": null,
            "grid_row": null,
            "grid_template_areas": null,
            "grid_template_columns": null,
            "grid_template_rows": null,
            "height": null,
            "justify_content": null,
            "justify_items": null,
            "left": null,
            "margin": null,
            "max_height": null,
            "max_width": null,
            "min_height": null,
            "min_width": null,
            "object_fit": null,
            "object_position": null,
            "order": null,
            "overflow": null,
            "overflow_x": null,
            "overflow_y": null,
            "padding": null,
            "right": null,
            "top": null,
            "visibility": null,
            "width": null
          }
        },
        "8e9e917267ac423d83d468291f9842cf": {
          "model_module": "@jupyter-widgets/controls",
          "model_name": "ProgressStyleModel",
          "model_module_version": "1.5.0",
          "state": {
            "_model_module": "@jupyter-widgets/controls",
            "_model_module_version": "1.5.0",
            "_model_name": "ProgressStyleModel",
            "_view_count": null,
            "_view_module": "@jupyter-widgets/base",
            "_view_module_version": "1.2.0",
            "_view_name": "StyleView",
            "bar_color": null,
            "description_width": ""
          }
        },
        "4db4254fe3c642debede5dc5bfddeb1e": {
          "model_module": "@jupyter-widgets/base",
          "model_name": "LayoutModel",
          "model_module_version": "1.2.0",
          "state": {
            "_model_module": "@jupyter-widgets/base",
            "_model_module_version": "1.2.0",
            "_model_name": "LayoutModel",
            "_view_count": null,
            "_view_module": "@jupyter-widgets/base",
            "_view_module_version": "1.2.0",
            "_view_name": "LayoutView",
            "align_content": null,
            "align_items": null,
            "align_self": null,
            "border": null,
            "bottom": null,
            "display": null,
            "flex": null,
            "flex_flow": null,
            "grid_area": null,
            "grid_auto_columns": null,
            "grid_auto_flow": null,
            "grid_auto_rows": null,
            "grid_column": null,
            "grid_gap": null,
            "grid_row": null,
            "grid_template_areas": null,
            "grid_template_columns": null,
            "grid_template_rows": null,
            "height": null,
            "justify_content": null,
            "justify_items": null,
            "left": null,
            "margin": null,
            "max_height": null,
            "max_width": null,
            "min_height": null,
            "min_width": null,
            "object_fit": null,
            "object_position": null,
            "order": null,
            "overflow": null,
            "overflow_x": null,
            "overflow_y": null,
            "padding": null,
            "right": null,
            "top": null,
            "visibility": null,
            "width": null
          }
        },
        "f2363a099e4148ed9e0f3b0f9d41113b": {
          "model_module": "@jupyter-widgets/controls",
          "model_name": "DescriptionStyleModel",
          "model_module_version": "1.5.0",
          "state": {
            "_model_module": "@jupyter-widgets/controls",
            "_model_module_version": "1.5.0",
            "_model_name": "DescriptionStyleModel",
            "_view_count": null,
            "_view_module": "@jupyter-widgets/base",
            "_view_module_version": "1.2.0",
            "_view_name": "StyleView",
            "description_width": ""
          }
        }
      }
    }
  },
  "cells": [
    {
      "cell_type": "code",
      "execution_count": null,
      "metadata": {
        "colab": {
          "base_uri": "https://localhost:8080/"
        },
        "id": "e0w55wJlzCOZ",
        "outputId": "bb01e22e-4ed2-4a56-a6a1-d950c5459916"
      },
      "outputs": [
        {
          "output_type": "stream",
          "name": "stdout",
          "text": [
            "Looking in indexes: https://pypi.org/simple, https://us-python.pkg.dev/colab-wheels/public/simple/\n",
            "Collecting transformers\n",
            "  Downloading transformers-4.29.2-py3-none-any.whl (7.1 MB)\n",
            "\u001b[2K     \u001b[90m━━━━━━━━━━━━━━━━━━━━━━━━━━━━━━━━━━━━━━━━\u001b[0m \u001b[32m7.1/7.1 MB\u001b[0m \u001b[31m46.0 MB/s\u001b[0m eta \u001b[36m0:00:00\u001b[0m\n",
            "\u001b[?25hRequirement already satisfied: filelock in /usr/local/lib/python3.10/dist-packages (from transformers) (3.12.0)\n",
            "Collecting huggingface-hub<1.0,>=0.14.1 (from transformers)\n",
            "  Downloading huggingface_hub-0.15.1-py3-none-any.whl (236 kB)\n",
            "\u001b[2K     \u001b[90m━━━━━━━━━━━━━━━━━━━━━━━━━━━━━━━━━━━━━━\u001b[0m \u001b[32m236.8/236.8 kB\u001b[0m \u001b[31m18.6 MB/s\u001b[0m eta \u001b[36m0:00:00\u001b[0m\n",
            "\u001b[?25hRequirement already satisfied: numpy>=1.17 in /usr/local/lib/python3.10/dist-packages (from transformers) (1.22.4)\n",
            "Requirement already satisfied: packaging>=20.0 in /usr/local/lib/python3.10/dist-packages (from transformers) (23.1)\n",
            "Requirement already satisfied: pyyaml>=5.1 in /usr/local/lib/python3.10/dist-packages (from transformers) (6.0)\n",
            "Requirement already satisfied: regex!=2019.12.17 in /usr/local/lib/python3.10/dist-packages (from transformers) (2022.10.31)\n",
            "Requirement already satisfied: requests in /usr/local/lib/python3.10/dist-packages (from transformers) (2.27.1)\n",
            "Collecting tokenizers!=0.11.3,<0.14,>=0.11.1 (from transformers)\n",
            "  Downloading tokenizers-0.13.3-cp310-cp310-manylinux_2_17_x86_64.manylinux2014_x86_64.whl (7.8 MB)\n",
            "\u001b[2K     \u001b[90m━━━━━━━━━━━━━━━━━━━━━━━━━━━━━━━━━━━━━━━━\u001b[0m \u001b[32m7.8/7.8 MB\u001b[0m \u001b[31m57.9 MB/s\u001b[0m eta \u001b[36m0:00:00\u001b[0m\n",
            "\u001b[?25hRequirement already satisfied: tqdm>=4.27 in /usr/local/lib/python3.10/dist-packages (from transformers) (4.65.0)\n",
            "Requirement already satisfied: fsspec in /usr/local/lib/python3.10/dist-packages (from huggingface-hub<1.0,>=0.14.1->transformers) (2023.4.0)\n",
            "Requirement already satisfied: typing-extensions>=3.7.4.3 in /usr/local/lib/python3.10/dist-packages (from huggingface-hub<1.0,>=0.14.1->transformers) (4.5.0)\n",
            "Requirement already satisfied: urllib3<1.27,>=1.21.1 in /usr/local/lib/python3.10/dist-packages (from requests->transformers) (1.26.15)\n",
            "Requirement already satisfied: certifi>=2017.4.17 in /usr/local/lib/python3.10/dist-packages (from requests->transformers) (2022.12.7)\n",
            "Requirement already satisfied: charset-normalizer~=2.0.0 in /usr/local/lib/python3.10/dist-packages (from requests->transformers) (2.0.12)\n",
            "Requirement already satisfied: idna<4,>=2.5 in /usr/local/lib/python3.10/dist-packages (from requests->transformers) (3.4)\n",
            "Installing collected packages: tokenizers, huggingface-hub, transformers\n",
            "Successfully installed huggingface-hub-0.15.1 tokenizers-0.13.3 transformers-4.29.2\n"
          ]
        }
      ],
      "source": [
        "#LEARNING INTRICACIES OF CHATBOTS VIA APPLIED AI\n",
        "\n",
        "!pip install transformers\n",
        "#huggingface library"
      ]
    },
    {
      "cell_type": "code",
      "source": [
        "import tensorflow as tf\n",
        "print(tf.__version__)"
      ],
      "metadata": {
        "colab": {
          "base_uri": "https://localhost:8080/"
        },
        "id": "Pvd2U47TzRMO",
        "outputId": "6982853e-baf0-4835-afe5-ff922fe047b7"
      },
      "execution_count": null,
      "outputs": [
        {
          "output_type": "stream",
          "name": "stdout",
          "text": [
            "2.12.0\n"
          ]
        }
      ]
    },
    {
      "cell_type": "code",
      "source": [
        "from transformers import DistilBertTokenizer, TFDistilBertModel\n",
        "\n",
        "distil_bert = 'distilbert-base-uncased' #name of pretrained model\n",
        "\n",
        "tokenizer = DistilBertTokenizer.from_pretrained(distil_bert)\n",
        "model = TFDistilBertModel.from_pretrained(distil_bert)"
      ],
      "metadata": {
        "colab": {
          "base_uri": "https://localhost:8080/",
          "height": 252,
          "referenced_widgets": [
            "b0161e6066cf4d8cb94d7b42282388f4",
            "827e04e3a4bb4ce495d2bb327eeecb19",
            "5a66b4726c09450fb16c6cbdd4835394",
            "e8beb8debabb4cc89b2b8c543f974774",
            "2c4908f05deb4234a5123cb5b1aca7f2",
            "eaba7004ff2d4b3d963b111bbcc58803",
            "e7cfade51b2545af86c95efbb94b01bd",
            "b853ea3f1a1e4554b77463f51ef1e223",
            "6d0758ff573344f2a0e4200f20b24e33",
            "0d95ed75fec6443f9f4557945efe79d7",
            "15cf51aaf38243c583f8c304ade93e35",
            "2848e86ee4ea48bca742b6226f16728e",
            "46d797c339804217870d001929224415",
            "35d0ae3ed59f46c1839638103905e6eb",
            "0a61cdda1ae846a0ae3c75e62603a516",
            "5912cb3b9cc04c4fa15b84b5f2a1aadf",
            "f965957155d94241bbc1fdf5922b8393",
            "831ea378dfb24a95bc5aca1ff03b8acb",
            "07420ee11d4544fbab3554639310f702",
            "91653bcf90d64e2383ab059071007708",
            "d46c13ba2acc476f89f83e9dfc19edde",
            "aff639ad6a6843eda60edfbc7dab15cc",
            "e2a01045bf4b4d64b45c17e512770745",
            "0b3c76d4eb514e5b8229ed5baf871db9",
            "213e7ce5a1f64605a5fd89d8aa226b3a",
            "337efec88a7e40979932222a3e6aeaca",
            "61d276b5896a47569d58ea6d24228ae3",
            "9a0e6092410c487b9b0ab0aacdfa91c3",
            "512a3217e931440b88c71aa3a9f8ca42",
            "c658145d471a444aa52b0b4bb7d901e2",
            "bded464fdb364089a3493dbf37422dcd",
            "023971c6a40142148aca11fe9b58d673",
            "1e22abf051e14d3ebee8ccf14d55ec10",
            "590da65dd7d64ca88963d059f0959825",
            "ca4f065f0d1248da938326ab230aec19",
            "e08a127a11714d4eab7f0755c39bf385",
            "6df461c99ed84d668d960c0f4c9e6e98",
            "9dc253acc43d42639cef40fa69545b7f",
            "485d81d50b0741d991fb31ca8cf6aa67",
            "6cb4a7a6afa846c5b3f1f91d5eab9c14",
            "3b23fce4b06c4fcd9a7d6405d1bb4e3f",
            "d79e6e3dd28948f4a887279120f3cf13",
            "c139b069433545d890a82ed1ac18eef9",
            "a9c328df56c649759475f63d027e17f0"
          ]
        },
        "id": "d-B-rikazc3F",
        "outputId": "168138f1-c52d-4d50-df5f-fc150e966944"
      },
      "execution_count": null,
      "outputs": [
        {
          "output_type": "display_data",
          "data": {
            "text/plain": [
              "Downloading (…)solve/main/vocab.txt:   0%|          | 0.00/232k [00:00<?, ?B/s]"
            ],
            "application/vnd.jupyter.widget-view+json": {
              "version_major": 2,
              "version_minor": 0,
              "model_id": "b0161e6066cf4d8cb94d7b42282388f4"
            }
          },
          "metadata": {}
        },
        {
          "output_type": "display_data",
          "data": {
            "text/plain": [
              "Downloading (…)okenizer_config.json:   0%|          | 0.00/28.0 [00:00<?, ?B/s]"
            ],
            "application/vnd.jupyter.widget-view+json": {
              "version_major": 2,
              "version_minor": 0,
              "model_id": "2848e86ee4ea48bca742b6226f16728e"
            }
          },
          "metadata": {}
        },
        {
          "output_type": "display_data",
          "data": {
            "text/plain": [
              "Downloading (…)lve/main/config.json:   0%|          | 0.00/483 [00:00<?, ?B/s]"
            ],
            "application/vnd.jupyter.widget-view+json": {
              "version_major": 2,
              "version_minor": 0,
              "model_id": "e2a01045bf4b4d64b45c17e512770745"
            }
          },
          "metadata": {}
        },
        {
          "output_type": "display_data",
          "data": {
            "text/plain": [
              "Downloading tf_model.h5:   0%|          | 0.00/363M [00:00<?, ?B/s]"
            ],
            "application/vnd.jupyter.widget-view+json": {
              "version_major": 2,
              "version_minor": 0,
              "model_id": "590da65dd7d64ca88963d059f0959825"
            }
          },
          "metadata": {}
        },
        {
          "output_type": "stream",
          "name": "stderr",
          "text": [
            "Some layers from the model checkpoint at distilbert-base-uncased were not used when initializing TFDistilBertModel: ['vocab_transform', 'vocab_layer_norm', 'vocab_projector', 'activation_13']\n",
            "- This IS expected if you are initializing TFDistilBertModel from the checkpoint of a model trained on another task or with another architecture (e.g. initializing a BertForSequenceClassification model from a BertForPreTraining model).\n",
            "- This IS NOT expected if you are initializing TFDistilBertModel from the checkpoint of a model that you expect to be exactly identical (initializing a BertForSequenceClassification model from a BertForSequenceClassification model).\n",
            "All the layers of TFDistilBertModel were initialized from the model checkpoint at distilbert-base-uncased.\n",
            "If your task is similar to the task the model of the checkpoint was trained on, you can already use TFDistilBertModel for predictions without further training.\n"
          ]
        }
      ]
    },
    {
      "cell_type": "markdown",
      "source": [
        "Extract Features"
      ],
      "metadata": {
        "id": "xC0clIop1LsP"
      }
    },
    {
      "cell_type": "code",
      "source": [
        "#get 768 dense vector representation for any vector given\n",
        "new = tokenizer.encode(\"I went to Alliance High School, then the University of Nairobi.\") # Convert to a tensorflow tensor\n",
        "print(new)\n",
        "\n",
        "input = tf.constant(new) [None, :] # the batch size is 1. If I have multiple sentences, I change the batch size to the number\n",
        "print(input)\n",
        "print(type(input))\n",
        "output = model(input)\n",
        "\n",
        "print(type(output))\n",
        "print(len(output))\n",
        "print(output) # get 768 dimension vector of any sentence of my choice, in this case new\n",
        "print(model.config)"
      ],
      "metadata": {
        "colab": {
          "base_uri": "https://localhost:8080/"
        },
        "id": "s0i5D8S01PLF",
        "outputId": "312bfdb3-6125-4745-c181-b3291e76be4e"
      },
      "execution_count": null,
      "outputs": [
        {
          "output_type": "stream",
          "name": "stdout",
          "text": [
            "[101, 1045, 2253, 2000, 4707, 2152, 2082, 1010, 2059, 1996, 2118, 1997, 21124, 1012, 102]\n",
            "tf.Tensor(\n",
            "[[  101  1045  2253  2000  4707  2152  2082  1010  2059  1996  2118  1997\n",
            "  21124  1012   102]], shape=(1, 15), dtype=int32)\n",
            "<class 'tensorflow.python.framework.ops.EagerTensor'>\n",
            "<class 'transformers.modeling_tf_outputs.TFBaseModelOutput'>\n",
            "1\n",
            "TFBaseModelOutput(last_hidden_state=<tf.Tensor: shape=(1, 15, 768), dtype=float32, numpy=\n",
            "array([[[ 0.27424052, -0.19485079, -0.21896833, ...,  0.02487867,\n",
            "          0.2973231 ,  0.22755498],\n",
            "        [ 0.5524583 , -0.26565832, -0.18777221, ..., -0.3294488 ,\n",
            "          0.58272624, -0.080874  ],\n",
            "        [ 0.05731173, -0.47184104, -0.09345876, ..., -0.0968073 ,\n",
            "          0.2752933 , -0.29522496],\n",
            "        ...,\n",
            "        [ 0.44652587, -0.17673853, -0.28367707, ..., -0.1605251 ,\n",
            "         -0.23516345, -0.67236596],\n",
            "        [ 0.8402448 , -0.09586132, -0.5557103 , ...,  0.3717882 ,\n",
            "         -0.4271495 , -0.61454064],\n",
            "        [ 0.8799229 ,  0.04614139, -0.23107822, ...,  0.27404487,\n",
            "         -0.6468452 , -0.59669286]]], dtype=float32)>, hidden_states=None, attentions=None)\n",
            "DistilBertConfig {\n",
            "  \"_name_or_path\": \"distilbert-base-uncased\",\n",
            "  \"activation\": \"gelu\",\n",
            "  \"architectures\": [\n",
            "    \"DistilBertForMaskedLM\"\n",
            "  ],\n",
            "  \"attention_dropout\": 0.1,\n",
            "  \"dim\": 768,\n",
            "  \"dropout\": 0.1,\n",
            "  \"hidden_dim\": 3072,\n",
            "  \"initializer_range\": 0.02,\n",
            "  \"max_position_embeddings\": 512,\n",
            "  \"model_type\": \"distilbert\",\n",
            "  \"n_heads\": 12,\n",
            "  \"n_layers\": 6,\n",
            "  \"pad_token_id\": 0,\n",
            "  \"qa_dropout\": 0.1,\n",
            "  \"seq_classif_dropout\": 0.2,\n",
            "  \"sinusoidal_pos_embds\": false,\n",
            "  \"tie_weights_\": true,\n",
            "  \"transformers_version\": \"4.29.2\",\n",
            "  \"vocab_size\": 30522\n",
            "}\n",
            "\n"
          ]
        }
      ]
    },
    {
      "cell_type": "code",
      "source": [
        "#Bert has multiple layers within it. The 768 vector received is from the last encoder layer. To get the vectors from the layers in between, I use the following\n",
        "from transformers import DistilBertConfig\n",
        "\n",
        "config = DistilBertConfig.from_pretrained(distil_bert, output_hidden_states = True)\n",
        "new = tokenizer.encode(\"I went to Alliance High School, then the University of Nairobi.\") # Convert to a tensorflow tensor\n",
        "input = tf.constant(new) [None, :] # the batch size is 1. If I have multiple sentences, I change the batch size to the number\n",
        "output = model(input)\n",
        "#concatenates the output into a larger vector\n",
        "print(model.config)"
      ],
      "metadata": {
        "colab": {
          "base_uri": "https://localhost:8080/"
        },
        "id": "2Q2t3LLz3PBY",
        "outputId": "c756279c-613e-4f0a-aa23-d64535e09695"
      },
      "execution_count": null,
      "outputs": [
        {
          "output_type": "stream",
          "name": "stdout",
          "text": [
            "DistilBertConfig {\n",
            "  \"_name_or_path\": \"distilbert-base-uncased\",\n",
            "  \"activation\": \"gelu\",\n",
            "  \"architectures\": [\n",
            "    \"DistilBertForMaskedLM\"\n",
            "  ],\n",
            "  \"attention_dropout\": 0.1,\n",
            "  \"dim\": 768,\n",
            "  \"dropout\": 0.1,\n",
            "  \"hidden_dim\": 3072,\n",
            "  \"initializer_range\": 0.02,\n",
            "  \"max_position_embeddings\": 512,\n",
            "  \"model_type\": \"distilbert\",\n",
            "  \"n_heads\": 12,\n",
            "  \"n_layers\": 6,\n",
            "  \"pad_token_id\": 0,\n",
            "  \"qa_dropout\": 0.1,\n",
            "  \"seq_classif_dropout\": 0.2,\n",
            "  \"sinusoidal_pos_embds\": false,\n",
            "  \"tie_weights_\": true,\n",
            "  \"transformers_version\": \"4.29.2\",\n",
            "  \"vocab_size\": 30522\n",
            "}\n",
            "\n"
          ]
        }
      ]
    },
    {
      "cell_type": "code",
      "source": [
        "from sklearn.linear_model import LogisticRegression\n"
      ],
      "metadata": {
        "id": "ZG65cbwR_guq"
      },
      "execution_count": null,
      "outputs": []
    },
    {
      "cell_type": "markdown",
      "source": [
        "Multi Class Logistic Regression"
      ],
      "metadata": {
        "id": "TinHpo7nBJ62"
      }
    },
    {
      "cell_type": "code",
      "source": [
        "X = output[0][:, :, 0:1]\n",
        "print(X)"
      ],
      "metadata": {
        "colab": {
          "base_uri": "https://localhost:8080/"
        },
        "id": "K5QkJ4rHBNkB",
        "outputId": "74413a13-2c2f-408f-80af-07ff532b3eef"
      },
      "execution_count": null,
      "outputs": [
        {
          "output_type": "stream",
          "name": "stdout",
          "text": [
            "tf.Tensor(\n",
            "[[[ 0.27424052]\n",
            "  [ 0.5524583 ]\n",
            "  [ 0.05731173]\n",
            "  [ 0.01660893]\n",
            "  [ 0.16738054]\n",
            "  [ 0.66801953]\n",
            "  [ 0.32288888]\n",
            "  [-0.01279473]\n",
            "  [-0.16823933]\n",
            "  [-0.09198043]\n",
            "  [-0.5357172 ]\n",
            "  [-0.4139384 ]\n",
            "  [ 0.44652587]\n",
            "  [ 0.8402448 ]\n",
            "  [ 0.8799229 ]]], shape=(1, 15, 1), dtype=float32)\n"
          ]
        }
      ]
    },
    {
      "cell_type": "code",
      "source": [
        "pip install spacy\n"
      ],
      "metadata": {
        "colab": {
          "base_uri": "https://localhost:8080/"
        },
        "id": "2ZcJs0bstBbe",
        "outputId": "7cd9acc0-116b-4840-9527-326d4230e55d"
      },
      "execution_count": null,
      "outputs": [
        {
          "output_type": "stream",
          "name": "stdout",
          "text": [
            "Looking in indexes: https://pypi.org/simple, https://us-python.pkg.dev/colab-wheels/public/simple/\n",
            "Requirement already satisfied: spacy in /usr/local/lib/python3.10/dist-packages (3.5.2)\n",
            "Requirement already satisfied: spacy-legacy<3.1.0,>=3.0.11 in /usr/local/lib/python3.10/dist-packages (from spacy) (3.0.12)\n",
            "Requirement already satisfied: spacy-loggers<2.0.0,>=1.0.0 in /usr/local/lib/python3.10/dist-packages (from spacy) (1.0.4)\n",
            "Requirement already satisfied: murmurhash<1.1.0,>=0.28.0 in /usr/local/lib/python3.10/dist-packages (from spacy) (1.0.9)\n",
            "Requirement already satisfied: cymem<2.1.0,>=2.0.2 in /usr/local/lib/python3.10/dist-packages (from spacy) (2.0.7)\n",
            "Requirement already satisfied: preshed<3.1.0,>=3.0.2 in /usr/local/lib/python3.10/dist-packages (from spacy) (3.0.8)\n",
            "Requirement already satisfied: thinc<8.2.0,>=8.1.8 in /usr/local/lib/python3.10/dist-packages (from spacy) (8.1.9)\n",
            "Requirement already satisfied: wasabi<1.2.0,>=0.9.1 in /usr/local/lib/python3.10/dist-packages (from spacy) (1.1.1)\n",
            "Requirement already satisfied: srsly<3.0.0,>=2.4.3 in /usr/local/lib/python3.10/dist-packages (from spacy) (2.4.6)\n",
            "Requirement already satisfied: catalogue<2.1.0,>=2.0.6 in /usr/local/lib/python3.10/dist-packages (from spacy) (2.0.8)\n",
            "Requirement already satisfied: typer<0.8.0,>=0.3.0 in /usr/local/lib/python3.10/dist-packages (from spacy) (0.7.0)\n",
            "Requirement already satisfied: pathy>=0.10.0 in /usr/local/lib/python3.10/dist-packages (from spacy) (0.10.1)\n",
            "Requirement already satisfied: smart-open<7.0.0,>=5.2.1 in /usr/local/lib/python3.10/dist-packages (from spacy) (6.3.0)\n",
            "Requirement already satisfied: tqdm<5.0.0,>=4.38.0 in /usr/local/lib/python3.10/dist-packages (from spacy) (4.65.0)\n",
            "Requirement already satisfied: numpy>=1.15.0 in /usr/local/lib/python3.10/dist-packages (from spacy) (1.22.4)\n",
            "Requirement already satisfied: requests<3.0.0,>=2.13.0 in /usr/local/lib/python3.10/dist-packages (from spacy) (2.27.1)\n",
            "Requirement already satisfied: pydantic!=1.8,!=1.8.1,<1.11.0,>=1.7.4 in /usr/local/lib/python3.10/dist-packages (from spacy) (1.10.7)\n",
            "Requirement already satisfied: jinja2 in /usr/local/lib/python3.10/dist-packages (from spacy) (3.1.2)\n",
            "Requirement already satisfied: setuptools in /usr/local/lib/python3.10/dist-packages (from spacy) (67.7.2)\n",
            "Requirement already satisfied: packaging>=20.0 in /usr/local/lib/python3.10/dist-packages (from spacy) (23.1)\n",
            "Requirement already satisfied: langcodes<4.0.0,>=3.2.0 in /usr/local/lib/python3.10/dist-packages (from spacy) (3.3.0)\n",
            "Requirement already satisfied: typing-extensions>=4.2.0 in /usr/local/lib/python3.10/dist-packages (from pydantic!=1.8,!=1.8.1,<1.11.0,>=1.7.4->spacy) (4.5.0)\n",
            "Requirement already satisfied: urllib3<1.27,>=1.21.1 in /usr/local/lib/python3.10/dist-packages (from requests<3.0.0,>=2.13.0->spacy) (1.26.15)\n",
            "Requirement already satisfied: certifi>=2017.4.17 in /usr/local/lib/python3.10/dist-packages (from requests<3.0.0,>=2.13.0->spacy) (2022.12.7)\n",
            "Requirement already satisfied: charset-normalizer~=2.0.0 in /usr/local/lib/python3.10/dist-packages (from requests<3.0.0,>=2.13.0->spacy) (2.0.12)\n",
            "Requirement already satisfied: idna<4,>=2.5 in /usr/local/lib/python3.10/dist-packages (from requests<3.0.0,>=2.13.0->spacy) (3.4)\n",
            "Requirement already satisfied: blis<0.8.0,>=0.7.8 in /usr/local/lib/python3.10/dist-packages (from thinc<8.2.0,>=8.1.8->spacy) (0.7.9)\n",
            "Requirement already satisfied: confection<1.0.0,>=0.0.1 in /usr/local/lib/python3.10/dist-packages (from thinc<8.2.0,>=8.1.8->spacy) (0.0.4)\n",
            "Requirement already satisfied: click<9.0.0,>=7.1.1 in /usr/local/lib/python3.10/dist-packages (from typer<0.8.0,>=0.3.0->spacy) (8.1.3)\n",
            "Requirement already satisfied: MarkupSafe>=2.0 in /usr/local/lib/python3.10/dist-packages (from jinja2->spacy) (2.1.2)\n"
          ]
        }
      ]
    },
    {
      "cell_type": "code",
      "source": [
        "#Spacy's Name Entity Recognition\n",
        "#python -m spacy download en_core_web_sm\n",
        "import spacy\n",
        "entityExtractor = spacy.load('en_core_web_sm')\n",
        "\n",
        "sentence = \"Transfer $2000 from my savings account\"\n",
        "\n",
        "entities = entityExtractor(sentence)\n",
        "\n",
        "for e in entities.ents:\n",
        "  print(e.text, e.start_char, e.end_char, e.label_)\n",
        "# import spacy\n",
        "\n",
        "# entityExtractor = spacy.load('en_core_web_sm')\n",
        "nlp = entityExtractor\n",
        "\n",
        "sentence = \"Transfer $2000 from my savings account\"\n",
        "sentence1 = \"I liked the new Spiderman movie\"\n",
        "sentence2 = \"Microsoft and Google are tech juggernauts\"\n",
        "doc = nlp(sentence2)\n",
        "\n",
        "for token in doc:\n",
        "    print(token.text, token.ent_iob_, token.ent_type_)\n",
        "\n"
      ],
      "metadata": {
        "colab": {
          "base_uri": "https://localhost:8080/"
        },
        "id": "xhPXE58UtHAW",
        "outputId": "39e097d2-d3eb-4f13-a06d-827170df15f8"
      },
      "execution_count": null,
      "outputs": [
        {
          "output_type": "stream",
          "name": "stdout",
          "text": [
            "2000 10 14 MONEY\n",
            "Microsoft B ORG\n",
            "and O \n",
            "Google B ORG\n",
            "are O \n",
            "tech O \n",
            "juggernauts O \n"
          ]
        }
      ]
    },
    {
      "cell_type": "code",
      "source": [
        "from transformers import BertTokenizer, TFBertForQuestionAnswering\n",
        "modelName = \"bert-large-uncased-whole-word-masking-finetuned-squad\"\n",
        "\n",
        "tokenizer = BertTokenizer.from_pretrained(modelName)\n",
        "\n",
        "model = TFBertForQuestionAnswering.from_pretrained(modelName)\n",
        "#BERT finetuned with BertForQuestionAnswering to give answers given questions from a document\n",
        "print(model)"
      ],
      "metadata": {
        "colab": {
          "base_uri": "https://localhost:8080/",
          "height": 232,
          "referenced_widgets": [
            "c2b8ed2b2105448895b8c83e52457c68",
            "d3c8d203f80e4953ae73fc185530b846",
            "596722ea94b441a9aabc1880c4e3c454",
            "3f6a3f22634c468c9aa75ee44e543466",
            "4c14a203d0054ee3b9049b5b317daf98",
            "2c24f97d1da74c5a80a16dd93803c12f",
            "da7d8b393da24d88b5ee0ce744dc709a",
            "4342888653ab407ca6da5096d754a073",
            "3f49e0543973402cadeb77488ec0c74d",
            "4834f1e7e0dc4338a31a64a8d5a6fd92",
            "b2c9da4267ce41f2ba115db026f8ae73",
            "710d61737eef41c6a3a53c8ea71ef377",
            "9546c47962a6454e9ee81ffb2fbf05cd",
            "03ce74e3c3e7442d970b9cfb903a57e0",
            "f1a4a6dc51a443dd8481ed8086179988",
            "c7ecf1cfe06040ed84dbe2bde73254af",
            "cb9669a8321f4b6eb6ea61595088e49c",
            "c1c47f4e91ff46bd8f833babc85727fd",
            "c9f19dd7d4b64aa885ea13786951c269",
            "ada19b530333497ebfb4dc4e44f59d09",
            "a8df6b4d517d4dd9a9f2a834377f31cb",
            "d1802d51e8cb4805963b4574b2192719",
            "eab3639eef814722abed57b3b26091e0",
            "e5c025cf32c64477b2b848bcad42306f",
            "8e817155865044f7864b4564d50cb70a",
            "79fff225305642c0ad4fc24fe6146b91",
            "9be358d9a2644de6918f08faa8764cf9",
            "27cd8087a78e4bb5ae3cb057806aa596",
            "03e1328e35b1456398e9d977103a9c24",
            "01abbae1fe564ad6976544fc8ecb38d3",
            "0ef4d0529ef147ca879271582981332b",
            "9134d1e0f73744e899bbdb1290a9bfc6",
            "e1c95688790a4b60a0bf1bbb1ecc3d33",
            "0046db17e4324a74aaf82bd10afb7cc9",
            "20e7b6ab7f5f4f569bfee5617a395ac7",
            "279df19401f04cf98e478130017295d2",
            "c0b3482b95c4465aba61892a1bec8347",
            "cda75ba70c4f47aabe7d990e03af4398",
            "092161051f5e45269c659b1e967a6c1d",
            "ee8234c5cd734413933034ef3bad9e86",
            "7b90bba184ab4a519b7fb61bd218a6db",
            "8e9e917267ac423d83d468291f9842cf",
            "4db4254fe3c642debede5dc5bfddeb1e",
            "f2363a099e4148ed9e0f3b0f9d41113b"
          ]
        },
        "id": "Cn54i3f71e9F",
        "outputId": "7413ad6e-d84b-477e-c70a-e487a1f2823d"
      },
      "execution_count": null,
      "outputs": [
        {
          "output_type": "display_data",
          "data": {
            "text/plain": [
              "Downloading (…)solve/main/vocab.txt:   0%|          | 0.00/232k [00:00<?, ?B/s]"
            ],
            "application/vnd.jupyter.widget-view+json": {
              "version_major": 2,
              "version_minor": 0,
              "model_id": "c2b8ed2b2105448895b8c83e52457c68"
            }
          },
          "metadata": {}
        },
        {
          "output_type": "display_data",
          "data": {
            "text/plain": [
              "Downloading (…)okenizer_config.json:   0%|          | 0.00/28.0 [00:00<?, ?B/s]"
            ],
            "application/vnd.jupyter.widget-view+json": {
              "version_major": 2,
              "version_minor": 0,
              "model_id": "710d61737eef41c6a3a53c8ea71ef377"
            }
          },
          "metadata": {}
        },
        {
          "output_type": "display_data",
          "data": {
            "text/plain": [
              "Downloading (…)lve/main/config.json:   0%|          | 0.00/443 [00:00<?, ?B/s]"
            ],
            "application/vnd.jupyter.widget-view+json": {
              "version_major": 2,
              "version_minor": 0,
              "model_id": "eab3639eef814722abed57b3b26091e0"
            }
          },
          "metadata": {}
        },
        {
          "output_type": "display_data",
          "data": {
            "text/plain": [
              "Downloading tf_model.h5:   0%|          | 0.00/1.34G [00:00<?, ?B/s]"
            ],
            "application/vnd.jupyter.widget-view+json": {
              "version_major": 2,
              "version_minor": 0,
              "model_id": "0046db17e4324a74aaf82bd10afb7cc9"
            }
          },
          "metadata": {}
        },
        {
          "output_type": "stream",
          "name": "stderr",
          "text": [
            "All model checkpoint layers were used when initializing TFBertForQuestionAnswering.\n",
            "\n",
            "All the layers of TFBertForQuestionAnswering were initialized from the model checkpoint at bert-large-uncased-whole-word-masking-finetuned-squad.\n",
            "If your task is similar to the task the model of the checkpoint was trained on, you can already use TFBertForQuestionAnswering for predictions without further training.\n"
          ]
        },
        {
          "output_type": "stream",
          "name": "stdout",
          "text": [
            "<transformers.models.bert.modeling_tf_bert.TFBertForQuestionAnswering object at 0x7fd1ed2c2470>\n"
          ]
        }
      ]
    },
    {
      "cell_type": "markdown",
      "source": [
        "Question - Answer"
      ],
      "metadata": {
        "id": "0scbygcq3Mqd"
      }
    },
    {
      "cell_type": "code",
      "source": [
        "text = r\"\"\"Nairobi, the bustling capital city of Kenya, is a melting pot of cultures that beautifully showcase the diversity of the country. The rich cultural tapestry of Nairobi is a harmonious blend of various ethnic groups, traditions, and influences from across Kenya and beyond. The city is a vibrant hub where people from different backgrounds coexist and celebrate their unique heritage.\n",
        "\n",
        "Nairobi's culture is characterized by its vibrant music and dance scene. Traditional Kenyan music, such as Benga, blends seamlessly with modern genres like Afro-pop and hip-hop, creating a dynamic and eclectic musical landscape. Dance forms like the popular Odi dance and Maasai traditional dances captivate both locals and visitors alike.\n",
        "\n",
        "Food is another integral part of Nairobi's culture. The city boasts a wide array of culinary delights, from authentic Kenyan dishes like nyama choma (grilled meat) and ugali (a staple maize meal) to international cuisines brought by the diverse immigrant communities residing in the city.\n",
        "\n",
        "Art and craftsmanship thrive in Nairobi, with talented artisans showcasing their skills in woodcarving, beadwork, and paintings. The city's art scene has flourished, with numerous galleries and art spaces showcasing both traditional and contemporary African art.\"\"\"\n",
        "question1 = r\"\"\"What are some of Nairobi's authentic Kenyan dishes?\"\"\"\n",
        "\n",
        "question2 = r\"\"\"What characterizes Nairobi's culture\"\"\"\n",
        "\n",
        "question3 = r\"\"\"What are the skills of talented artisans in Nairobi?\"\"\"\n",
        "\n",
        "input_text1 = question1 + \"[SEP]\" + text\n",
        "input_text2 = question2 + \"[SEP]\" + text\n",
        "input_text3 = question3 + \"[SEP]\" + text\n",
        "#The BERT module internally adds the [CLS] at the start and [SEP] at the end so that it is [CLS] question [SEP] text [SEP] via hugging face\n",
        "combined_input_text = input_text1 + \"[SEP]\" + input_text2 + \"[SEP]\" + input_text3\n",
        "\n",
        "# Tokenize the combined input text\n",
        "input_ids = tokenizer.encode(input_text3)\n",
        "\n",
        "print(len(input_ids))\n",
        "print(tokenizer.decode(input_ids))\n",
        "input = tf.constant(input_ids)[None, :] #1 text, 1 question -> batch size is 1\n",
        "print(input_ids)"
      ],
      "metadata": {
        "id": "XVi_p30z3Pch",
        "colab": {
          "base_uri": "https://localhost:8080/"
        },
        "outputId": "48f600d3-2b28-48a0-a51a-fe4c683642f5"
      },
      "execution_count": null,
      "outputs": [
        {
          "output_type": "stream",
          "name": "stdout",
          "text": [
            "262\n",
            "[CLS] what are the skills of talented artisans in nairobi? [SEP] nairobi, the bustling capital city of kenya, is a melting pot of cultures that beautifully showcase the diversity of the country. the rich cultural tapestry of nairobi is a harmonious blend of various ethnic groups, traditions, and influences from across kenya and beyond. the city is a vibrant hub where people from different backgrounds coexist and celebrate their unique heritage. nairobi's culture is characterized by its vibrant music and dance scene. traditional kenyan music, such as benga, blends seamlessly with modern genres like afro - pop and hip - hop, creating a dynamic and eclectic musical landscape. dance forms like the popular odi dance and maasai traditional dances captivate both locals and visitors alike. food is another integral part of nairobi's culture. the city boasts a wide array of culinary delights, from authentic kenyan dishes like nyama choma ( grilled meat ) and ugali ( a staple maize meal ) to international cuisines brought by the diverse immigrant communities residing in the city. art and craftsmanship thrive in nairobi, with talented artisans showcasing their skills in woodcarving, beadwork, and paintings. the city's art scene has flourished, with numerous galleries and art spaces showcasing both traditional and contemporary african art. [SEP]\n",
            "[101, 2054, 2024, 1996, 4813, 1997, 10904, 26818, 1999, 21124, 1029, 102, 21124, 1010, 1996, 13950, 2989, 3007, 2103, 1997, 7938, 1010, 2003, 1037, 13721, 8962, 1997, 8578, 2008, 17950, 13398, 1996, 8906, 1997, 1996, 2406, 1012, 1996, 4138, 3451, 25213, 1997, 21124, 2003, 1037, 25546, 6313, 12586, 1997, 2536, 5636, 2967, 1010, 7443, 1010, 1998, 8092, 2013, 2408, 7938, 1998, 3458, 1012, 1996, 2103, 2003, 1037, 17026, 9594, 2073, 2111, 2013, 2367, 15406, 24873, 9048, 3367, 1998, 8439, 2037, 4310, 4348, 1012, 21124, 1005, 1055, 3226, 2003, 7356, 2011, 2049, 17026, 2189, 1998, 3153, 3496, 1012, 3151, 20428, 2189, 1010, 2107, 2004, 3841, 3654, 1010, 12586, 2015, 25180, 10895, 2007, 2715, 11541, 2066, 17694, 1011, 3769, 1998, 5099, 1011, 6154, 1010, 4526, 1037, 8790, 1998, 20551, 3315, 5957, 1012, 3153, 3596, 2066, 1996, 2759, 21045, 3153, 1998, 5003, 16782, 2072, 3151, 11278, 14408, 21466, 2119, 10575, 1998, 5731, 11455, 1012, 2833, 2003, 2178, 9897, 2112, 1997, 21124, 1005, 1055, 3226, 1012, 1996, 2103, 21979, 1037, 2898, 9140, 1997, 20560, 12208, 2015, 1010, 2013, 14469, 20428, 10447, 2066, 6396, 8067, 16480, 2863, 1006, 26192, 2094, 6240, 1007, 1998, 1057, 9692, 2072, 1006, 1037, 18785, 21154, 7954, 1007, 2000, 2248, 12846, 2015, 2716, 2011, 1996, 7578, 11560, 4279, 7154, 1999, 1996, 2103, 1012, 2396, 1998, 26286, 9650, 25220, 1999, 21124, 1010, 2007, 10904, 26818, 27696, 2037, 4813, 1999, 3536, 10010, 6455, 1010, 26892, 2094, 6198, 1010, 1998, 5265, 1012, 1996, 2103, 1005, 1055, 2396, 3496, 2038, 17893, 1010, 2007, 3365, 11726, 1998, 2396, 7258, 27696, 2119, 3151, 1998, 3824, 3060, 2396, 1012, 102]\n"
          ]
        }
      ]
    },
    {
      "cell_type": "code",
      "source": [
        "token_type_ids = [0 if i <= input_ids.index(102) else 1 for i in range(len(input_ids))]\n",
        "\n",
        "print(token_type_ids)"
      ],
      "metadata": {
        "id": "1aI7Xu9I4sKQ",
        "colab": {
          "base_uri": "https://localhost:8080/"
        },
        "outputId": "f467da44-4f74-4c7e-f96f-d3ca51b156ff"
      },
      "execution_count": null,
      "outputs": [
        {
          "output_type": "stream",
          "name": "stdout",
          "text": [
            "[0, 0, 0, 0, 0, 0, 0, 0, 0, 0, 0, 0, 1, 1, 1, 1, 1, 1, 1, 1, 1, 1, 1, 1, 1, 1, 1, 1, 1, 1, 1, 1, 1, 1, 1, 1, 1, 1, 1, 1, 1, 1, 1, 1, 1, 1, 1, 1, 1, 1, 1, 1, 1, 1, 1, 1, 1, 1, 1, 1, 1, 1, 1, 1, 1, 1, 1, 1, 1, 1, 1, 1, 1, 1, 1, 1, 1, 1, 1, 1, 1, 1, 1, 1, 1, 1, 1, 1, 1, 1, 1, 1, 1, 1, 1, 1, 1, 1, 1, 1, 1, 1, 1, 1, 1, 1, 1, 1, 1, 1, 1, 1, 1, 1, 1, 1, 1, 1, 1, 1, 1, 1, 1, 1, 1, 1, 1, 1, 1, 1, 1, 1, 1, 1, 1, 1, 1, 1, 1, 1, 1, 1, 1, 1, 1, 1, 1, 1, 1, 1, 1, 1, 1, 1, 1, 1, 1, 1, 1, 1, 1, 1, 1, 1, 1, 1, 1, 1, 1, 1, 1, 1, 1, 1, 1, 1, 1, 1, 1, 1, 1, 1, 1, 1, 1, 1, 1, 1, 1, 1, 1, 1, 1, 1, 1, 1, 1, 1, 1, 1, 1, 1, 1, 1, 1, 1, 1, 1, 1, 1, 1, 1, 1, 1, 1, 1, 1, 1, 1, 1, 1, 1, 1, 1, 1, 1, 1, 1, 1, 1, 1, 1, 1, 1, 1, 1, 1, 1, 1, 1, 1, 1, 1, 1, 1, 1, 1, 1, 1, 1, 1, 1, 1, 1, 1, 1, 1, 1, 1, 1, 1, 1]\n"
          ]
        }
      ]
    },
    {
      "cell_type": "code",
      "source": [
        "answer = model(input, token_type_ids = tf.convert_to_tensor([token_type_ids]))\n",
        "\n",
        "start_logits = answer.start_logits\n",
        "end_logits = answer.end_logits\n",
        "print(type(answer))\n",
        "\n",
        "print(len(answer))\n",
        "\n",
        "import numpy as np\n",
        "\n",
        "startScores = np.array(start_logits)\n",
        "endScores = np.array(end_logits)\n",
        "\n",
        "print(startScores.shape)\n",
        "\n",
        "print(endScores.shape)\n",
        "\n",
        "print(type(startScores))\n",
        "\n"
      ],
      "metadata": {
        "id": "CkPc3S165An-",
        "colab": {
          "base_uri": "https://localhost:8080/"
        },
        "outputId": "5aca0483-95f7-41fb-ffc9-acf37949c425"
      },
      "execution_count": null,
      "outputs": [
        {
          "output_type": "stream",
          "name": "stdout",
          "text": [
            "<class 'transformers.modeling_tf_outputs.TFQuestionAnsweringModelOutput'>\n",
            "2\n",
            "(1, 262)\n",
            "(1, 262)\n",
            "<class 'numpy.ndarray'>\n"
          ]
        }
      ]
    },
    {
      "cell_type": "code",
      "source": [
        "input_tokens = tokenizer.convert_ids_to_tokens(input_ids)\n",
        "\n",
        "print(input_tokens)"
      ],
      "metadata": {
        "id": "4CNymIWy6BlS",
        "colab": {
          "base_uri": "https://localhost:8080/"
        },
        "outputId": "482d6a46-8601-4482-e92e-70607d626717"
      },
      "execution_count": null,
      "outputs": [
        {
          "output_type": "stream",
          "name": "stdout",
          "text": [
            "['[CLS]', 'what', 'are', 'the', 'skills', 'of', 'talented', 'artisans', 'in', 'nairobi', '?', '[SEP]', 'nairobi', ',', 'the', 'bust', '##ling', 'capital', 'city', 'of', 'kenya', ',', 'is', 'a', 'melting', 'pot', 'of', 'cultures', 'that', 'beautifully', 'showcase', 'the', 'diversity', 'of', 'the', 'country', '.', 'the', 'rich', 'cultural', 'tapestry', 'of', 'nairobi', 'is', 'a', 'harmon', '##ious', 'blend', 'of', 'various', 'ethnic', 'groups', ',', 'traditions', ',', 'and', 'influences', 'from', 'across', 'kenya', 'and', 'beyond', '.', 'the', 'city', 'is', 'a', 'vibrant', 'hub', 'where', 'people', 'from', 'different', 'backgrounds', 'coe', '##xi', '##st', 'and', 'celebrate', 'their', 'unique', 'heritage', '.', 'nairobi', \"'\", 's', 'culture', 'is', 'characterized', 'by', 'its', 'vibrant', 'music', 'and', 'dance', 'scene', '.', 'traditional', 'kenyan', 'music', ',', 'such', 'as', 'ben', '##ga', ',', 'blend', '##s', 'seam', '##lessly', 'with', 'modern', 'genres', 'like', 'afro', '-', 'pop', 'and', 'hip', '-', 'hop', ',', 'creating', 'a', 'dynamic', 'and', 'eclectic', 'musical', 'landscape', '.', 'dance', 'forms', 'like', 'the', 'popular', 'odi', 'dance', 'and', 'ma', '##asa', '##i', 'traditional', 'dances', 'capt', '##ivate', 'both', 'locals', 'and', 'visitors', 'alike', '.', 'food', 'is', 'another', 'integral', 'part', 'of', 'nairobi', \"'\", 's', 'culture', '.', 'the', 'city', 'boasts', 'a', 'wide', 'array', 'of', 'culinary', 'delight', '##s', ',', 'from', 'authentic', 'kenyan', 'dishes', 'like', 'ny', '##ama', 'cho', '##ma', '(', 'grille', '##d', 'meat', ')', 'and', 'u', '##gal', '##i', '(', 'a', 'staple', 'maize', 'meal', ')', 'to', 'international', 'cuisine', '##s', 'brought', 'by', 'the', 'diverse', 'immigrant', 'communities', 'residing', 'in', 'the', 'city', '.', 'art', 'and', 'craftsman', '##ship', 'thrive', 'in', 'nairobi', ',', 'with', 'talented', 'artisans', 'showcasing', 'their', 'skills', 'in', 'wood', '##car', '##ving', ',', 'bea', '##d', '##work', ',', 'and', 'paintings', '.', 'the', 'city', \"'\", 's', 'art', 'scene', 'has', 'flourished', ',', 'with', 'numerous', 'galleries', 'and', 'art', 'spaces', 'showcasing', 'both', 'traditional', 'and', 'contemporary', 'african', 'art', '.', '[SEP]']\n"
          ]
        }
      ]
    },
    {
      "cell_type": "code",
      "source": [
        "print(startScores)"
      ],
      "metadata": {
        "id": "dZJrnvdL6O9D",
        "colab": {
          "base_uri": "https://localhost:8080/"
        },
        "outputId": "51c15313-3250-4cbb-d316-1c6297b80c8c"
      },
      "execution_count": null,
      "outputs": [
        {
          "output_type": "stream",
          "name": "stdout",
          "text": [
            "[[-5.2334156  -5.761397   -7.648104   -7.470583   -8.35704    -8.524985\n",
            "  -9.08622    -9.189448   -8.530132   -9.225406   -9.246618   -5.2334037\n",
            "  -4.813829   -8.240734   -7.2972836  -6.7163615  -8.42058    -6.665034\n",
            "  -7.369032   -8.196526   -4.8602805  -8.176592   -7.4090686  -7.0875807\n",
            "  -6.258557   -7.7918925  -8.422655   -6.390717   -8.165416   -6.9060106\n",
            "  -7.5778966  -8.2544155  -6.8337607  -8.643665   -8.448511   -7.6001115\n",
            "  -8.155563   -6.6141925  -6.552036   -6.7802806  -7.4921865  -8.554332\n",
            "  -6.6948657  -8.324768   -7.5968704  -7.090768   -8.581991   -7.2725477\n",
            "  -8.408125   -6.9292636  -7.159274   -8.073246   -8.637834   -7.087608\n",
            "  -8.62216    -8.707968   -7.22123    -8.449675   -8.227903   -5.939337\n",
            "  -8.9455595  -7.922297   -8.079816   -6.8170576  -7.766254   -8.570666\n",
            "  -7.836867   -6.9848685  -7.951119   -8.568649   -7.2143025  -8.60243\n",
            "  -8.10554    -8.258264   -8.341936   -8.708241   -8.774267   -8.841835\n",
            "  -7.369679   -8.429022   -8.058056   -7.572934   -7.785291   -6.549882\n",
            "  -8.508314   -8.834331   -7.6188507  -8.759473   -7.6216927  -8.626518\n",
            "  -8.093941   -6.869021   -6.838699   -8.834453   -7.311711   -8.299002\n",
            "  -8.203258   -6.8445196  -6.83708    -7.245288   -8.669128   -7.956871\n",
            "  -8.628946   -7.165261   -8.752779   -8.772303   -7.7531066  -8.996794\n",
            "  -8.345907   -8.924376   -8.522396   -7.567748   -7.7857823  -8.680687\n",
            "  -7.2952228  -8.92337    -8.15254    -8.808367   -7.581569   -8.960293\n",
            "  -8.239049   -8.605662   -7.4500594  -8.356651   -7.7520523  -8.620417\n",
            "  -7.579265   -7.584678   -8.380792   -7.55474    -6.8637495  -8.472284\n",
            "  -8.586319   -8.162609   -6.9498315  -6.874512   -8.500624   -8.818204\n",
            "  -7.335095   -8.610297   -8.895845   -8.065891   -7.6304946  -8.017199\n",
            "  -8.888697   -8.907314   -8.568073   -9.147391   -8.712427   -8.826853\n",
            "  -8.789      -6.689956   -9.31739    -8.859697   -8.638851   -8.915011\n",
            "  -9.128413   -8.001677   -8.252917   -9.411488   -8.347948   -8.972027\n",
            "  -8.202566   -8.77004    -8.362094   -8.560392   -7.892571   -8.574265\n",
            "  -8.843007   -7.04365    -8.377819   -8.950047   -8.788067   -7.9265084\n",
            "  -7.641805   -7.23596    -8.01468    -8.694071   -7.602269   -8.934338\n",
            "  -8.687585   -8.982949   -8.44964    -7.9516754  -8.894146   -8.54843\n",
            "  -9.077381   -8.967075   -8.288141   -9.026536   -9.101694   -8.829119\n",
            "  -8.579088   -8.485505   -8.407284   -8.8990555  -9.084165   -8.858166\n",
            "  -7.938921   -8.17157    -9.063293   -8.727217   -8.890043   -8.692294\n",
            "  -7.865869   -8.287527   -8.546391   -9.024539   -9.013041   -8.678596\n",
            "  -8.400893   -6.8323073  -1.2762507  -6.727367   -3.374177   -6.4962363\n",
            "  -6.343797   -7.383285   -4.3827934  -5.9020824  -2.5645056  -0.19252792\n",
            "  -1.7234075  -0.894822   -0.06780618  0.44123098  1.0034434   8.450633\n",
            "  -2.3786902  -2.4931667  -1.9518534  -1.3271074  -4.6760263  -4.2097106\n",
            "  -4.2663064  -3.1820936  -0.61271083 -3.040281   -6.466267   -7.5167727\n",
            "  -7.7818937  -8.91905    -3.7168956  -8.125698   -8.339571   -7.179767\n",
            "  -8.34586    -7.3742423  -6.408761   -6.628003   -9.024669   -4.8558726\n",
            "  -8.096447   -7.565724   -6.947084   -5.9854016  -8.919277   -6.574098\n",
            "  -6.4827247  -5.649217   -9.438335   -5.2334204 ]]\n"
          ]
        }
      ]
    },
    {
      "cell_type": "code",
      "source": [
        "print(tf.math.argmax(startScores[0], 0))  #tensorflow/math/argmax"
      ],
      "metadata": {
        "id": "U4nIHQ9L6W5T",
        "colab": {
          "base_uri": "https://localhost:8080/"
        },
        "outputId": "ff20bc48-eaa9-4705-b178-a0cb1224f151"
      },
      "execution_count": null,
      "outputs": [
        {
          "output_type": "stream",
          "name": "stdout",
          "text": [
            "tf.Tensor(227, shape=(), dtype=int64)\n"
          ]
        }
      ]
    },
    {
      "cell_type": "code",
      "source": [
        "print((tf.math.argmax(startScores[0], 0)).numpy())"
      ],
      "metadata": {
        "id": "xcR3ID286oVj",
        "colab": {
          "base_uri": "https://localhost:8080/"
        },
        "outputId": "f073b0ec-d894-428e-9409-4928996e6040"
      },
      "execution_count": null,
      "outputs": [
        {
          "output_type": "stream",
          "name": "stdout",
          "text": [
            "227\n"
          ]
        }
      ]
    },
    {
      "cell_type": "code",
      "source": [
        "startIdx = tf.math.argmax(startScores[0], 0).numpy()\n",
        "endIdx = tf.math.argmax(endScores[0], 0).numpy() + 1\n",
        "print(startIdx, endIdx)"
      ],
      "metadata": {
        "id": "N0c7GGe_6x1_",
        "colab": {
          "base_uri": "https://localhost:8080/"
        },
        "outputId": "2f812fd9-9acb-4172-d325-5efd61ab4c34"
      },
      "execution_count": null,
      "outputs": [
        {
          "output_type": "stream",
          "name": "stdout",
          "text": [
            "227 237\n"
          ]
        }
      ]
    },
    {
      "cell_type": "code",
      "source": [
        "print(\" \".join(input_tokens[startIdx:endIdx]))\n",
        "\n",
        "reconstructed_words = []\n",
        "for token in input_tokens[startIdx:endIdx]:\n",
        "    if token.startswith(\"##\"):\n",
        "        reconstructed_words[-1] += token[2:]\n",
        "    else:\n",
        "        reconstructed_words.append(token)\n",
        "\n",
        "reconstructed_sentence = \" \".join(reconstructed_words)\n",
        "print(reconstructed_sentence)\n"
      ],
      "metadata": {
        "id": "zq4wT6Yq7FYJ",
        "colab": {
          "base_uri": "https://localhost:8080/"
        },
        "outputId": "8083c7fc-624d-4e5a-aec8-1ea474f14fd9"
      },
      "execution_count": null,
      "outputs": [
        {
          "output_type": "stream",
          "name": "stdout",
          "text": [
            "wood ##car ##ving , bea ##d ##work , and paintings\n",
            "woodcarving , beadwork , and paintings\n"
          ]
        }
      ]
    },
    {
      "cell_type": "code",
      "source": [
        "question1 = r\"\"\"What are some of Nairobi's authentic Kenyan dishes?\"\"\"\n",
        "\n",
        "question = r\"\"\"What characterizes Nairobi's culture\"\"\"\n",
        "\n",
        "question2 = r\"\"\"What are the skills of talented artisans in Nairobi?\"\"\"\n",
        "\n",
        "input_text1 = question + \"[SEP]\" + text\n",
        "input_text2 = question1 + \"[SEP]\" + text\n",
        "input_text3 = question2 + \"[SEP]\" + text\n",
        "#The BERT module internally adds the [CLS] at the start and [SEP] at the end so that it is [CLS] question [SEP] text [SEP] via hugging face\n",
        "input_ids1 = tokenizer.encode(input_text1)\n",
        "input_ids2 = tokenizer.encode(input_text2)\n",
        "input_ids3 = tokenizer.encode(input_text3)\n",
        "\n",
        "input_batch = [input_ids1, input_ids2, input_ids3]\n",
        "\n",
        "# Pad the batch to the maximum length\n",
        "max_length = max(len(input_ids1), len(input_ids2), len(input_ids3))\n",
        "input_batch_padded = [input + [tokenizer.pad_token_id] * (max_length - len(input)) for input in input_batch]\n",
        "\n",
        "# Find the index of the [SEP] token in the padded input batch\n",
        "sep_token_id = tokenizer.sep_token_id\n",
        "sep_token_index = input_batch_padded[0].index(sep_token_id)\n",
        "\n",
        "# Generate the token_type_ids based on the [SEP] token position\n",
        "token_type_ids = [0 if i <= sep_token_index else 1 for i in range(max_length)]\n",
        "\n",
        "print(token_type_ids)\n",
        "\n",
        "input_batch_tf = tf.constant(input_batch_padded)\n",
        "\n",
        "answer = model(input_batch_tf, token_type_ids = tf.convert_to_tensor([token_type_ids]))\n",
        "\n",
        "start_logits = answer.start_logits\n",
        "end_logits = answer.end_logits\n",
        "\n",
        "startScores = np.array(start_logits)\n",
        "endScores = np.array(end_logits)\n"
      ],
      "metadata": {
        "colab": {
          "base_uri": "https://localhost:8080/"
        },
        "id": "Cd_LybXbFQui",
        "outputId": "5029bd4e-c442-48dd-c889-bb36c3881b08"
      },
      "execution_count": null,
      "outputs": [
        {
          "output_type": "stream",
          "name": "stdout",
          "text": [
            "[0, 0, 0, 0, 0, 0, 0, 0, 0, 1, 1, 1, 1, 1, 1, 1, 1, 1, 1, 1, 1, 1, 1, 1, 1, 1, 1, 1, 1, 1, 1, 1, 1, 1, 1, 1, 1, 1, 1, 1, 1, 1, 1, 1, 1, 1, 1, 1, 1, 1, 1, 1, 1, 1, 1, 1, 1, 1, 1, 1, 1, 1, 1, 1, 1, 1, 1, 1, 1, 1, 1, 1, 1, 1, 1, 1, 1, 1, 1, 1, 1, 1, 1, 1, 1, 1, 1, 1, 1, 1, 1, 1, 1, 1, 1, 1, 1, 1, 1, 1, 1, 1, 1, 1, 1, 1, 1, 1, 1, 1, 1, 1, 1, 1, 1, 1, 1, 1, 1, 1, 1, 1, 1, 1, 1, 1, 1, 1, 1, 1, 1, 1, 1, 1, 1, 1, 1, 1, 1, 1, 1, 1, 1, 1, 1, 1, 1, 1, 1, 1, 1, 1, 1, 1, 1, 1, 1, 1, 1, 1, 1, 1, 1, 1, 1, 1, 1, 1, 1, 1, 1, 1, 1, 1, 1, 1, 1, 1, 1, 1, 1, 1, 1, 1, 1, 1, 1, 1, 1, 1, 1, 1, 1, 1, 1, 1, 1, 1, 1, 1, 1, 1, 1, 1, 1, 1, 1, 1, 1, 1, 1, 1, 1, 1, 1, 1, 1, 1, 1, 1, 1, 1, 1, 1, 1, 1, 1, 1, 1, 1, 1, 1, 1, 1, 1, 1, 1, 1, 1, 1, 1, 1, 1, 1, 1, 1, 1, 1, 1, 1, 1, 1, 1, 1, 1, 1, 1, 1, 1, 1, 1, 1, 1]\n"
          ]
        }
      ]
    },
    {
      "cell_type": "code",
      "source": [
        "input_tokens = [tokenizer.convert_ids_to_tokens(ids) for ids in input_batch_padded]\n",
        "\n",
        "print(input_tokens)"
      ],
      "metadata": {
        "colab": {
          "base_uri": "https://localhost:8080/"
        },
        "id": "JLYKliefI5HV",
        "outputId": "2e834510-1f04-41cf-b2b7-45d2e004571f"
      },
      "execution_count": null,
      "outputs": [
        {
          "output_type": "stream",
          "name": "stdout",
          "text": [
            "[['[CLS]', 'what', 'character', '##izes', 'nairobi', \"'\", 's', 'culture', '[SEP]', 'nairobi', ',', 'the', 'bust', '##ling', 'capital', 'city', 'of', 'kenya', ',', 'is', 'a', 'melting', 'pot', 'of', 'cultures', 'that', 'beautifully', 'showcase', 'the', 'diversity', 'of', 'the', 'country', '.', 'the', 'rich', 'cultural', 'tapestry', 'of', 'nairobi', 'is', 'a', 'harmon', '##ious', 'blend', 'of', 'various', 'ethnic', 'groups', ',', 'traditions', ',', 'and', 'influences', 'from', 'across', 'kenya', 'and', 'beyond', '.', 'the', 'city', 'is', 'a', 'vibrant', 'hub', 'where', 'people', 'from', 'different', 'backgrounds', 'coe', '##xi', '##st', 'and', 'celebrate', 'their', 'unique', 'heritage', '.', 'nairobi', \"'\", 's', 'culture', 'is', 'characterized', 'by', 'its', 'vibrant', 'music', 'and', 'dance', 'scene', '.', 'traditional', 'kenyan', 'music', ',', 'such', 'as', 'ben', '##ga', ',', 'blend', '##s', 'seam', '##lessly', 'with', 'modern', 'genres', 'like', 'afro', '-', 'pop', 'and', 'hip', '-', 'hop', ',', 'creating', 'a', 'dynamic', 'and', 'eclectic', 'musical', 'landscape', '.', 'dance', 'forms', 'like', 'the', 'popular', 'odi', 'dance', 'and', 'ma', '##asa', '##i', 'traditional', 'dances', 'capt', '##ivate', 'both', 'locals', 'and', 'visitors', 'alike', '.', 'food', 'is', 'another', 'integral', 'part', 'of', 'nairobi', \"'\", 's', 'culture', '.', 'the', 'city', 'boasts', 'a', 'wide', 'array', 'of', 'culinary', 'delight', '##s', ',', 'from', 'authentic', 'kenyan', 'dishes', 'like', 'ny', '##ama', 'cho', '##ma', '(', 'grille', '##d', 'meat', ')', 'and', 'u', '##gal', '##i', '(', 'a', 'staple', 'maize', 'meal', ')', 'to', 'international', 'cuisine', '##s', 'brought', 'by', 'the', 'diverse', 'immigrant', 'communities', 'residing', 'in', 'the', 'city', '.', 'art', 'and', 'craftsman', '##ship', 'thrive', 'in', 'nairobi', ',', 'with', 'talented', 'artisans', 'showcasing', 'their', 'skills', 'in', 'wood', '##car', '##ving', ',', 'bea', '##d', '##work', ',', 'and', 'paintings', '.', 'the', 'city', \"'\", 's', 'art', 'scene', 'has', 'flourished', ',', 'with', 'numerous', 'galleries', 'and', 'art', 'spaces', 'showcasing', 'both', 'traditional', 'and', 'contemporary', 'african', 'art', '.', '[SEP]', '[PAD]', '[PAD]', '[PAD]', '[PAD]'], ['[CLS]', 'what', 'are', 'some', 'of', 'nairobi', \"'\", 's', 'authentic', 'kenyan', 'dishes', '?', '[SEP]', 'nairobi', ',', 'the', 'bust', '##ling', 'capital', 'city', 'of', 'kenya', ',', 'is', 'a', 'melting', 'pot', 'of', 'cultures', 'that', 'beautifully', 'showcase', 'the', 'diversity', 'of', 'the', 'country', '.', 'the', 'rich', 'cultural', 'tapestry', 'of', 'nairobi', 'is', 'a', 'harmon', '##ious', 'blend', 'of', 'various', 'ethnic', 'groups', ',', 'traditions', ',', 'and', 'influences', 'from', 'across', 'kenya', 'and', 'beyond', '.', 'the', 'city', 'is', 'a', 'vibrant', 'hub', 'where', 'people', 'from', 'different', 'backgrounds', 'coe', '##xi', '##st', 'and', 'celebrate', 'their', 'unique', 'heritage', '.', 'nairobi', \"'\", 's', 'culture', 'is', 'characterized', 'by', 'its', 'vibrant', 'music', 'and', 'dance', 'scene', '.', 'traditional', 'kenyan', 'music', ',', 'such', 'as', 'ben', '##ga', ',', 'blend', '##s', 'seam', '##lessly', 'with', 'modern', 'genres', 'like', 'afro', '-', 'pop', 'and', 'hip', '-', 'hop', ',', 'creating', 'a', 'dynamic', 'and', 'eclectic', 'musical', 'landscape', '.', 'dance', 'forms', 'like', 'the', 'popular', 'odi', 'dance', 'and', 'ma', '##asa', '##i', 'traditional', 'dances', 'capt', '##ivate', 'both', 'locals', 'and', 'visitors', 'alike', '.', 'food', 'is', 'another', 'integral', 'part', 'of', 'nairobi', \"'\", 's', 'culture', '.', 'the', 'city', 'boasts', 'a', 'wide', 'array', 'of', 'culinary', 'delight', '##s', ',', 'from', 'authentic', 'kenyan', 'dishes', 'like', 'ny', '##ama', 'cho', '##ma', '(', 'grille', '##d', 'meat', ')', 'and', 'u', '##gal', '##i', '(', 'a', 'staple', 'maize', 'meal', ')', 'to', 'international', 'cuisine', '##s', 'brought', 'by', 'the', 'diverse', 'immigrant', 'communities', 'residing', 'in', 'the', 'city', '.', 'art', 'and', 'craftsman', '##ship', 'thrive', 'in', 'nairobi', ',', 'with', 'talented', 'artisans', 'showcasing', 'their', 'skills', 'in', 'wood', '##car', '##ving', ',', 'bea', '##d', '##work', ',', 'and', 'paintings', '.', 'the', 'city', \"'\", 's', 'art', 'scene', 'has', 'flourished', ',', 'with', 'numerous', 'galleries', 'and', 'art', 'spaces', 'showcasing', 'both', 'traditional', 'and', 'contemporary', 'african', 'art', '.', '[SEP]'], ['[CLS]', 'what', 'are', 'the', 'skills', 'of', 'talented', 'artisans', 'in', 'nairobi', '?', '[SEP]', 'nairobi', ',', 'the', 'bust', '##ling', 'capital', 'city', 'of', 'kenya', ',', 'is', 'a', 'melting', 'pot', 'of', 'cultures', 'that', 'beautifully', 'showcase', 'the', 'diversity', 'of', 'the', 'country', '.', 'the', 'rich', 'cultural', 'tapestry', 'of', 'nairobi', 'is', 'a', 'harmon', '##ious', 'blend', 'of', 'various', 'ethnic', 'groups', ',', 'traditions', ',', 'and', 'influences', 'from', 'across', 'kenya', 'and', 'beyond', '.', 'the', 'city', 'is', 'a', 'vibrant', 'hub', 'where', 'people', 'from', 'different', 'backgrounds', 'coe', '##xi', '##st', 'and', 'celebrate', 'their', 'unique', 'heritage', '.', 'nairobi', \"'\", 's', 'culture', 'is', 'characterized', 'by', 'its', 'vibrant', 'music', 'and', 'dance', 'scene', '.', 'traditional', 'kenyan', 'music', ',', 'such', 'as', 'ben', '##ga', ',', 'blend', '##s', 'seam', '##lessly', 'with', 'modern', 'genres', 'like', 'afro', '-', 'pop', 'and', 'hip', '-', 'hop', ',', 'creating', 'a', 'dynamic', 'and', 'eclectic', 'musical', 'landscape', '.', 'dance', 'forms', 'like', 'the', 'popular', 'odi', 'dance', 'and', 'ma', '##asa', '##i', 'traditional', 'dances', 'capt', '##ivate', 'both', 'locals', 'and', 'visitors', 'alike', '.', 'food', 'is', 'another', 'integral', 'part', 'of', 'nairobi', \"'\", 's', 'culture', '.', 'the', 'city', 'boasts', 'a', 'wide', 'array', 'of', 'culinary', 'delight', '##s', ',', 'from', 'authentic', 'kenyan', 'dishes', 'like', 'ny', '##ama', 'cho', '##ma', '(', 'grille', '##d', 'meat', ')', 'and', 'u', '##gal', '##i', '(', 'a', 'staple', 'maize', 'meal', ')', 'to', 'international', 'cuisine', '##s', 'brought', 'by', 'the', 'diverse', 'immigrant', 'communities', 'residing', 'in', 'the', 'city', '.', 'art', 'and', 'craftsman', '##ship', 'thrive', 'in', 'nairobi', ',', 'with', 'talented', 'artisans', 'showcasing', 'their', 'skills', 'in', 'wood', '##car', '##ving', ',', 'bea', '##d', '##work', ',', 'and', 'paintings', '.', 'the', 'city', \"'\", 's', 'art', 'scene', 'has', 'flourished', ',', 'with', 'numerous', 'galleries', 'and', 'art', 'spaces', 'showcasing', 'both', 'traditional', 'and', 'contemporary', 'african', 'art', '.', '[SEP]', '[PAD]']]\n"
          ]
        }
      ]
    },
    {
      "cell_type": "code",
      "source": [
        "startIdx = tf.math.argmax(startScores[0], 0).numpy()\n",
        "endIdx = tf.math.argmax(endScores[0], 0).numpy() + 1\n",
        "\n",
        "print(startIdx, endIdx)\n",
        "print(\" \".join(input_tokens[startIdx:endIdx]))"
      ],
      "metadata": {
        "colab": {
          "base_uri": "https://localhost:8080/"
        },
        "id": "157BHZFHJ9SB",
        "outputId": "d98e7cb6-a5fd-437c-ef6b-2a5d94e26011"
      },
      "execution_count": null,
      "outputs": [
        {
          "output_type": "stream",
          "name": "stdout",
          "text": [
            "88 93\n",
            "\n"
          ]
        }
      ]
    }
  ]
}