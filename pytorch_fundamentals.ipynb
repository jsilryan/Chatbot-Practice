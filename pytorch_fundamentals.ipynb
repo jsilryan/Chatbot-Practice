{
  "nbformat": 4,
  "nbformat_minor": 0,
  "metadata": {
    "colab": {
      "provenance": [],
      "gpuType": "T4",
      "authorship_tag": "ABX9TyOKvnNywM6/XCTk1Ru6kt2X",
      "include_colab_link": true
    },
    "kernelspec": {
      "name": "python3",
      "display_name": "Python 3"
    },
    "language_info": {
      "name": "python"
    }
  },
  "cells": [
    {
      "cell_type": "markdown",
      "metadata": {
        "id": "view-in-github",
        "colab_type": "text"
      },
      "source": [
        "<a href=\"https://colab.research.google.com/github/jsilryan/Chatbot-Practice/blob/master/pytorch_fundamentals.ipynb\" target=\"_parent\"><img src=\"https://colab.research.google.com/assets/colab-badge.svg\" alt=\"Open In Colab\"/></a>"
      ]
    },
    {
      "cell_type": "code",
      "execution_count": 2,
      "metadata": {
        "colab": {
          "base_uri": "https://localhost:8080/"
        },
        "id": "RHmKJZrzlbx2",
        "outputId": "78914631-662e-4c63-aa4a-727f4d854ec2"
      },
      "outputs": [
        {
          "output_type": "stream",
          "name": "stdout",
          "text": [
            "2.0.1+cu118\n"
          ]
        }
      ],
      "source": [
        "import torch\n",
        "import pandas as pd\n",
        "import matplotlib.pyplot as plt\n",
        "import numpy as np\n",
        "\n",
        "print(torch.__version__)"
      ]
    },
    {
      "cell_type": "markdown",
      "source": [
        "**Intro to Tensors**"
      ],
      "metadata": {
        "id": "t94NMxbwn2oa"
      }
    },
    {
      "cell_type": "code",
      "source": [
        "#scalar tensors\n",
        "scalar = torch.tensor(7)\n",
        "scalar"
      ],
      "metadata": {
        "colab": {
          "base_uri": "https://localhost:8080/"
        },
        "id": "DrrYdfDXnr-u",
        "outputId": "085b024b-476a-4c6c-9783-7ddaab6c0561"
      },
      "execution_count": 3,
      "outputs": [
        {
          "output_type": "execute_result",
          "data": {
            "text/plain": [
              "tensor(7)"
            ]
          },
          "metadata": {},
          "execution_count": 3
        }
      ]
    },
    {
      "cell_type": "code",
      "source": [
        "#get dimensions\n",
        "scalar.ndim\n",
        "scalar.item() # get tensor as int"
      ],
      "metadata": {
        "id": "bBil18t0o_mg",
        "outputId": "a86f506e-2b62-4e64-952c-7eb8f5231506",
        "colab": {
          "base_uri": "https://localhost:8080/"
        }
      },
      "execution_count": 5,
      "outputs": [
        {
          "output_type": "execute_result",
          "data": {
            "text/plain": [
              "7"
            ]
          },
          "metadata": {},
          "execution_count": 5
        }
      ]
    },
    {
      "cell_type": "code",
      "source": [
        "vector = torch.tensor([7,7])\n",
        "print(vector)\n",
        "print(vector.ndim) #number of square brackets\n",
        "print(vector.shape) # 2 * 1\n"
      ],
      "metadata": {
        "id": "TQduy2fcpWoI",
        "outputId": "ed174336-40cb-40b9-de7d-7d9f997e05d2",
        "colab": {
          "base_uri": "https://localhost:8080/"
        }
      },
      "execution_count": 13,
      "outputs": [
        {
          "output_type": "stream",
          "name": "stdout",
          "text": [
            "tensor([7, 7])\n",
            "1\n",
            "torch.Size([2])\n"
          ]
        }
      ]
    },
    {
      "cell_type": "code",
      "source": [
        "MATRIX = torch.tensor([[3,4], [5,9]])\n",
        "MATRIX\n",
        "\n",
        "print(MATRIX.ndim)\n",
        "print(MATRIX.shape)\n",
        "print(MATRIX[0])\n",
        "print(MATRIX[1])"
      ],
      "metadata": {
        "id": "1RRl0fmirp9X",
        "outputId": "19de04ec-77a4-4132-fea0-e84d8ebb53b6",
        "colab": {
          "base_uri": "https://localhost:8080/"
        }
      },
      "execution_count": 17,
      "outputs": [
        {
          "output_type": "stream",
          "name": "stdout",
          "text": [
            "2\n",
            "torch.Size([2, 2])\n",
            "tensor([3, 4])\n",
            "tensor([5, 9])\n"
          ]
        }
      ]
    },
    {
      "cell_type": "code",
      "source": [
        "#TENSOR\n",
        "TENSOR = torch.tensor([[[1,2,3],\n",
        "                        [4,5,6],\n",
        "                        [12,4,29]],\n",
        "                       [[23,4,1],\n",
        "                        [4,2,12],\n",
        "                        [9,12,23]],\n",
        "                       [[6,1,9],\n",
        "                        [5,9,3],\n",
        "                        [18,2,33]]])\n",
        "TENSOR1 = torch.tensor([[[1,2,3],\n",
        "                        [4,5,6]],\n",
        "                       [[23,4,1],\n",
        "                        [4,2,12]],\n",
        "                       [[6,1,9],\n",
        "                        [5,9,3]]])\n",
        "TENSOR2 = torch.tensor([[1,2,3],\n",
        "                        [4,5,6],\n",
        "                        [4,5,6],\n",
        "                        [12,4,29]])\n",
        "TENSOR3 = torch.tensor([[2,3], [2,5], [2,1],\n",
        "                        [4,3], [4,5], [4,1],\n",
        "                        [1,3], [1,5], [1,1]])\n",
        "TENSOR4 = torch.tensor([[[2,3,4], [2,5,4], [2,1,4],\n",
        "                        [4,3,9], [4,5,9], [4,1,9],\n",
        "                        [1,3,1], [1,5,1], [1,1,1]],\n",
        "\n",
        "                        [[2,3,4], [2,5,4], [2,1,4],\n",
        "                        [4,3,9], [4,5,9], [4,1,9],\n",
        "                        [1,3,1], [1,5,1], [1,1,1]],\n",
        "\n",
        "                        [[2,3,4], [2,5,4], [2,1,4],\n",
        "                        [4,3,9], [4,5,9], [4,1,9],\n",
        "                        [1,3,1], [1,5,1], [1,1,1]],])\n",
        "print(TENSOR4.ndim)\n",
        "print(TENSOR4.shape)"
      ],
      "metadata": {
        "id": "hywL_mO0sXZd",
        "outputId": "4cbf7b0d-de23-4729-9b2e-e13f9d26b82e",
        "colab": {
          "base_uri": "https://localhost:8080/"
        }
      },
      "execution_count": 31,
      "outputs": [
        {
          "output_type": "stream",
          "name": "stdout",
          "text": [
            "3\n",
            "torch.Size([3, 9, 3])\n"
          ]
        }
      ]
    },
    {
      "cell_type": "markdown",
      "source": [
        "###Random Tensors\n",
        "\n",
        "Many neural networks learn by starting with tensors full of random numbers and adjust those random numbers to better represent the data\n",
        "\n",
        "`Start with random numbers -> look at data -> update random numbers -> look at data -> update`"
      ],
      "metadata": {
        "id": "aBGeachdHzqY"
      }
    },
    {
      "cell_type": "code",
      "source": [
        "#Create a random tensor of shape, size(3,4)\n",
        "random_tensor = torch.rand(4, 3, 4)\n",
        "random_tensor"
      ],
      "metadata": {
        "id": "5loaw6LVH9UX",
        "outputId": "9dd95a42-159c-4136-933c-1f1b2d40a7cf",
        "colab": {
          "base_uri": "https://localhost:8080/"
        }
      },
      "execution_count": 33,
      "outputs": [
        {
          "output_type": "execute_result",
          "data": {
            "text/plain": [
              "tensor([[[0.7310, 0.6141, 0.6870, 0.6601],\n",
              "         [0.6249, 0.6654, 0.2348, 0.2746],\n",
              "         [0.3806, 0.6723, 0.9492, 0.5059]],\n",
              "\n",
              "        [[0.4937, 0.7073, 0.6820, 0.2040],\n",
              "         [0.0477, 0.6466, 0.7802, 0.9967],\n",
              "         [0.5352, 0.0287, 0.4256, 0.9823]],\n",
              "\n",
              "        [[0.6956, 0.0933, 0.5306, 0.2313],\n",
              "         [0.5875, 0.2024, 0.1526, 0.1251],\n",
              "         [0.0049, 0.5442, 0.8092, 0.7385]],\n",
              "\n",
              "        [[0.9909, 0.1220, 0.1701, 0.4108],\n",
              "         [0.4896, 0.5609, 0.9754, 0.9559],\n",
              "         [0.1925, 0.9737, 0.2000, 0.0384]]])"
            ]
          },
          "metadata": {},
          "execution_count": 33
        }
      ]
    },
    {
      "cell_type": "code",
      "source": [
        "#Random tensor with similar shape to image tensor\n",
        "rand_image = torch.rand(size = (224,224,3)) #height, width, colour channels (R,G,B)\n",
        "rand_image.shape, rand_image.ndim"
      ],
      "metadata": {
        "id": "it9TsCYGJIfv",
        "outputId": "b08a740f-8fcc-4850-d3c2-e315665a0d29",
        "colab": {
          "base_uri": "https://localhost:8080/"
        }
      },
      "execution_count": 37,
      "outputs": [
        {
          "output_type": "execute_result",
          "data": {
            "text/plain": [
              "(torch.Size([224, 224, 3]), 3)"
            ]
          },
          "metadata": {},
          "execution_count": 37
        }
      ]
    },
    {
      "cell_type": "markdown",
      "source": [
        "0s and 1s"
      ],
      "metadata": {
        "id": "BERVYq6HKl0k"
      }
    },
    {
      "cell_type": "code",
      "source": [
        "zero = torch.zeros(2,2)\n",
        "zero #multiply it by any tensor to mask the values by changing it to 0"
      ],
      "metadata": {
        "id": "unbFIWEWKnu1",
        "outputId": "8ea01c22-7dc0-4362-d350-ee447f687977",
        "colab": {
          "base_uri": "https://localhost:8080/"
        }
      },
      "execution_count": 39,
      "outputs": [
        {
          "output_type": "execute_result",
          "data": {
            "text/plain": [
              "tensor([[0., 0.],\n",
              "        [0., 0.]])"
            ]
          },
          "metadata": {},
          "execution_count": 39
        }
      ]
    },
    {
      "cell_type": "code",
      "source": [
        "one = torch.ones(3,3,2)\n",
        "one"
      ],
      "metadata": {
        "id": "i6e9cUjVLFXu",
        "outputId": "b6e64584-4964-4334-b6df-3f787df70333",
        "colab": {
          "base_uri": "https://localhost:8080/"
        }
      },
      "execution_count": 42,
      "outputs": [
        {
          "output_type": "execute_result",
          "data": {
            "text/plain": [
              "tensor([[[1., 1.],\n",
              "         [1., 1.],\n",
              "         [1., 1.]],\n",
              "\n",
              "        [[1., 1.],\n",
              "         [1., 1.],\n",
              "         [1., 1.]],\n",
              "\n",
              "        [[1., 1.],\n",
              "         [1., 1.],\n",
              "         [1., 1.]]])"
            ]
          },
          "metadata": {},
          "execution_count": 42
        }
      ]
    },
    {
      "cell_type": "code",
      "source": [
        "one.dtype #will start out as float numbers"
      ],
      "metadata": {
        "id": "iNfbyXF9LLsY",
        "outputId": "42dba191-53b8-4b7f-904d-b8b72f307236",
        "colab": {
          "base_uri": "https://localhost:8080/"
        }
      },
      "execution_count": 41,
      "outputs": [
        {
          "output_type": "execute_result",
          "data": {
            "text/plain": [
              "torch.float32"
            ]
          },
          "metadata": {},
          "execution_count": 41
        }
      ]
    },
    {
      "cell_type": "markdown",
      "source": [
        "Create a range of tensors and rensors-like"
      ],
      "metadata": {
        "id": "sxuN1vMMLeDO"
      }
    },
    {
      "cell_type": "code",
      "source": [
        "print(torch.range(2, 9))\n",
        "num = torch.arange(2, 9)\n",
        "print(num)\n",
        "\n",
        "print(torch.arange(start = 2, end = 1533, step = 93))"
      ],
      "metadata": {
        "id": "vYaNg6dQLLpS",
        "outputId": "d6b370f1-7173-4feb-cd10-2d4969fea9fa",
        "colab": {
          "base_uri": "https://localhost:8080/"
        }
      },
      "execution_count": 49,
      "outputs": [
        {
          "output_type": "stream",
          "name": "stdout",
          "text": [
            "tensor([2., 3., 4., 5., 6., 7., 8., 9.])\n",
            "tensor([2, 3, 4, 5, 6, 7, 8])\n",
            "tensor([   2,   95,  188,  281,  374,  467,  560,  653,  746,  839,  932, 1025,\n",
            "        1118, 1211, 1304, 1397, 1490])\n"
          ]
        },
        {
          "output_type": "stream",
          "name": "stderr",
          "text": [
            "<ipython-input-49-374686151f25>:1: UserWarning: torch.range is deprecated and will be removed in a future release because its behavior is inconsistent with Python's range builtin. Instead, use torch.arange, which produces values in [start, end).\n",
            "  print(torch.range(2, 9))\n"
          ]
        }
      ]
    },
    {
      "cell_type": "markdown",
      "source": [
        "Create tensors-like"
      ],
      "metadata": {
        "id": "qwlb4WgxMQyE"
      }
    },
    {
      "cell_type": "code",
      "source": [
        "new_num = torch.zeros_like(input = num)\n",
        "new_num"
      ],
      "metadata": {
        "id": "T4gC7LAnMUQj",
        "outputId": "578ba017-ad0f-42f6-ca9e-27acc2193571",
        "colab": {
          "base_uri": "https://localhost:8080/"
        }
      },
      "execution_count": 50,
      "outputs": [
        {
          "output_type": "execute_result",
          "data": {
            "text/plain": [
              "tensor([0, 0, 0, 0, 0, 0, 0])"
            ]
          },
          "metadata": {},
          "execution_count": 50
        }
      ]
    },
    {
      "cell_type": "markdown",
      "source": [
        "###Tensor DataTypes"
      ],
      "metadata": {
        "id": "FEBz6WBKND9x"
      }
    },
    {
      "cell_type": "code",
      "source": [
        "float_32 = torch.tensor([3.1, 6.4, 9.1], dtype = None,\n",
        "                        device = None,\n",
        "                        requires_grad = False\n",
        "                         )"
      ],
      "metadata": {
        "id": "mbw1H4lSNITt"
      },
      "execution_count": 54,
      "outputs": []
    },
    {
      "cell_type": "code",
      "source": [
        "float_32.dtype"
      ],
      "metadata": {
        "id": "4X1GSaOpNXT7",
        "outputId": "8ebad6a1-c363-451f-8f90-f4bd354b7650",
        "colab": {
          "base_uri": "https://localhost:8080/"
        }
      },
      "execution_count": 52,
      "outputs": [
        {
          "output_type": "execute_result",
          "data": {
            "text/plain": [
              "torch.float32"
            ]
          },
          "metadata": {},
          "execution_count": 52
        }
      ]
    },
    {
      "cell_type": "code",
      "source": [
        "float_16 = float_32.type(torch.int)\n",
        "float_16"
      ],
      "metadata": {
        "id": "Kd7MMpgaPUxk",
        "outputId": "855a10a2-629b-48ae-de98-99c0154b1f7d",
        "colab": {
          "base_uri": "https://localhost:8080/"
        }
      },
      "execution_count": 57,
      "outputs": [
        {
          "output_type": "execute_result",
          "data": {
            "text/plain": [
              "tensor([3, 6, 9], dtype=torch.int32)"
            ]
          },
          "metadata": {},
          "execution_count": 57
        }
      ]
    },
    {
      "cell_type": "code",
      "source": [
        "float_16 * float_32"
      ],
      "metadata": {
        "id": "S3ztL0OOPtkl",
        "outputId": "d027c6ac-1f64-4153-c282-453c1c48e18f",
        "colab": {
          "base_uri": "https://localhost:8080/"
        }
      },
      "execution_count": 58,
      "outputs": [
        {
          "output_type": "execute_result",
          "data": {
            "text/plain": [
              "tensor([ 9.3000, 38.4000, 81.9000])"
            ]
          },
          "metadata": {},
          "execution_count": 58
        }
      ]
    }
  ]
}